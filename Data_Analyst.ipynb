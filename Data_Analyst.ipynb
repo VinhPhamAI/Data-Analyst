{
  "cells": [
    {
      "cell_type": "markdown",
      "metadata": {
        "id": "view-in-github",
        "colab_type": "text"
      },
      "source": [
        "<a href=\"https://colab.research.google.com/github/VinhPhamAI/Data-Analyst/blob/main/Data_Analyst.ipynb\" target=\"_parent\"><img src=\"https://colab.research.google.com/assets/colab-badge.svg\" alt=\"Open In Colab\"/></a>"
      ]
    },
    {
      "cell_type": "code",
      "execution_count": 293,
      "metadata": {
        "colab": {
          "base_uri": "https://localhost:8080/"
        },
        "id": "CPSpiGoIRkF0",
        "outputId": "42680c1b-07b8-4990-9eee-3a7fcc54b7cc"
      },
      "outputs": [
        {
          "output_type": "stream",
          "name": "stderr",
          "text": [
            "[nltk_data] Downloading package punkt to /root/nltk_data...\n",
            "[nltk_data]   Package punkt is already up-to-date!\n",
            "[nltk_data] Downloading package stopwords to /root/nltk_data...\n",
            "[nltk_data]   Package stopwords is already up-to-date!\n"
          ]
        },
        {
          "output_type": "execute_result",
          "data": {
            "text/plain": [
              "True"
            ]
          },
          "metadata": {},
          "execution_count": 293
        }
      ],
      "source": [
        "import seaborn as sns\n",
        "import numpy as numpy\n",
        "import matplotlib.pyplot as plt\n",
        "import pandas as pd\n",
        "import ast\n",
        "import nltk\n",
        "nltk.download('punkt')\n",
        "nltk.download('stopwords')"
      ]
    },
    {
      "cell_type": "markdown",
      "metadata": {
        "id": "dbMAW68Bo4mD"
      },
      "source": [
        "# Data Cleaning and Preprocessing"
      ]
    },
    {
      "cell_type": "markdown",
      "metadata": {
        "id": "GWlzjpA-pD_S"
      },
      "source": [
        "**Importing dataset**"
      ]
    },
    {
      "cell_type": "code",
      "execution_count": 294,
      "metadata": {
        "id": "srdnC-iKRqPy"
      },
      "outputs": [],
      "source": [
        "df1 = pd.read_csv(\"commit_facebook 1.csv\")\n",
        "df2 = pd.read_csv(\"commit_facebook 2.csv\")\n",
        "df3 = pd.read_csv(\"commit_facebook 3.csv\")\n",
        "df4 = pd.read_csv(\"commit_facebook 4.csv\")"
      ]
    },
    {
      "cell_type": "markdown",
      "metadata": {
        "id": "yMLupPmywSI9"
      },
      "source": [
        "**Merge multiple DataFrames into a single DataFrame**"
      ]
    },
    {
      "cell_type": "code",
      "execution_count": 295,
      "metadata": {
        "id": "VVoI4wyGw1dx"
      },
      "outputs": [],
      "source": [
        "df = pd.concat([df1, df2, df3, df4], axis=0)"
      ]
    },
    {
      "cell_type": "markdown",
      "metadata": {
        "id": "AKQeBuJ-2_7a"
      },
      "source": [
        "**Remove duplicate columns get from data extraction**"
      ]
    },
    {
      "cell_type": "code",
      "execution_count": 296,
      "metadata": {
        "id": "bEEWApxAyBAG"
      },
      "outputs": [],
      "source": [
        "df.drop_duplicates(inplace = True)"
      ]
    },
    {
      "cell_type": "markdown",
      "metadata": {
        "id": "rbCNyDoEw_LB"
      },
      "source": [
        "**Reset the index of the merged DataFrame**"
      ]
    },
    {
      "cell_type": "code",
      "execution_count": 297,
      "metadata": {
        "id": "puEhNL9Sw6RM"
      },
      "outputs": [],
      "source": [
        "df = df.reset_index(drop = True)"
      ]
    },
    {
      "cell_type": "code",
      "execution_count": 298,
      "metadata": {
        "colab": {
          "base_uri": "https://localhost:8080/",
          "height": 870
        },
        "id": "oDloODlK1SNc",
        "outputId": "f13d0e8a-1623-4d3e-fc4a-84086f5d3ee6"
      },
      "outputs": [
        {
          "output_type": "execute_result",
          "data": {
            "text/plain": [
              "                                     Commit ID  \\\n",
              "0     d960b9e38c062584ff6cfb1a70e1512509a966e7   \n",
              "1     f34d88e30c7d8be7181f728d1abc4fd8d5cd07d3   \n",
              "2     c378572024967fee15d97da1b6fbfcd2894b4b66   \n",
              "3     a45ee3b091b3a7c7151a98ebaf5ec460eda7d614   \n",
              "4     bcff1928dac6f9d708613dff5eac36c2834bc139   \n",
              "...                                        ...   \n",
              "2795  9800d053166fdbc36a9661a79d99c63ef2bd45c0   \n",
              "2796  2badb45121503202bc13a57d2de4236b68493656   \n",
              "2797  86fa5b3f78013787b4f6801b989edb700feaaec7   \n",
              "2798  9c72b8137c5769221b1eedcbd88265a432b3caa9   \n",
              "2799  003d9e7b52c3a91cb584b3afd78cd06c539f13be   \n",
              "\n",
              "                                         Commit Message          Author Name  \\\n",
              "0     docs: fix link of \"Building for Relative Paths...               ryan.c   \n",
              "1     Merge pull request #12558 from danielrentz/pat...         Chaoshuai Lü   \n",
              "2     Merge pull request #12537 from pawelskowronek/...         Chaoshuai Lü   \n",
              "3     Merge pull request #12531 from MoshiulRabbi/pa...         Chaoshuai Lü   \n",
              "4     Merge pull request #12539 from liam-mulhall/pa...         Chaoshuai Lü   \n",
              "...                                                 ...                  ...   \n",
              "2795                       Add linting and nicer output          Dan Abramov   \n",
              "2796                                 Explain what it is          Dan Abramov   \n",
              "2797                     Add some \"basic\" configuration          Dan Abramov   \n",
              "2798  Initial commit with webpack and css/autoprefix...  Christopher Chedeau   \n",
              "2799                                     Initial commit  Christopher Chedeau   \n",
              "\n",
              "                Author Email           Created at           Updated at  \\\n",
              "0     jackblackevo@gmail.com  2022-09-08 07:40:47  2022-09-08 07:40:47   \n",
              "1             matrush@qq.com  2022-07-05 18:52:20  2022-07-05 18:52:20   \n",
              "2             matrush@qq.com  2022-07-05 18:49:51  2022-07-05 18:49:51   \n",
              "3             matrush@qq.com  2022-07-05 18:48:30  2022-07-05 18:48:30   \n",
              "4             matrush@qq.com  2022-07-05 18:48:07  2022-07-05 18:48:07   \n",
              "...                      ...                  ...                  ...   \n",
              "2795   dan.abramov@gmail.com  2016-07-15 19:58:47  2016-07-15 19:58:47   \n",
              "2796   dan.abramov@gmail.com  2016-07-15 19:08:21  2016-07-15 19:08:21   \n",
              "2797   dan.abramov@gmail.com  2016-07-15 19:07:31  2016-07-15 19:07:31   \n",
              "2798            vjeux@fb.com  2016-07-15 17:52:45  2016-07-15 17:52:45   \n",
              "2799        vjeuxx@gmail.com  2016-07-15 16:46:37  2016-07-15 16:46:37   \n",
              "\n",
              "                                          Files Changed  \\\n",
              "0         ['docusaurus/docs/advanced-configuration.md']   \n",
              "1         ['docusaurus/docs/setting-up-your-editor.md']   \n",
              "2              ['docusaurus/docs/adding-typescript.md']   \n",
              "3                     ['docusaurus/docs/deployment.md']   \n",
              "4                ['docusaurus/docs/adding-a-router.md']   \n",
              "...                                                 ...   \n",
              "2795  ['.eslintrc', 'devServer.js', 'package.json', ...   \n",
              "2796                                      ['README.md']   \n",
              "2797  ['.babelrc', '.gitignore', 'build/bundle.js', ...   \n",
              "2798  ['.gitignore', 'build/bundle.js', 'cli.js', 'i...   \n",
              "2799                ['LICENSE', 'PATENTS', 'README.md']   \n",
              "\n",
              "                                        Branch   Contributor  \\\n",
              "0     f34d88e30c7d8be7181f728d1abc4fd8d5cd07d3  jackblackevo   \n",
              "1     c378572024967fee15d97da1b6fbfcd2894b4b66       matrush   \n",
              "2     a45ee3b091b3a7c7151a98ebaf5ec460eda7d614       matrush   \n",
              "3     bcff1928dac6f9d708613dff5eac36c2834bc139       matrush   \n",
              "4     c2cbaaf006e9ba70888565ed33b4990985f5fc44       matrush   \n",
              "...                                        ...           ...   \n",
              "2795  2badb45121503202bc13a57d2de4236b68493656       gaearon   \n",
              "2796  86fa5b3f78013787b4f6801b989edb700feaaec7       gaearon   \n",
              "2797  9c72b8137c5769221b1eedcbd88265a432b3caa9       gaearon   \n",
              "2798  003d9e7b52c3a91cb584b3afd78cd06c539f13be         vjeux   \n",
              "2799                                       NaN         vjeux   \n",
              "\n",
              "      All Checks Passed  \n",
              "0                  True  \n",
              "1                 False  \n",
              "2                 False  \n",
              "3                 False  \n",
              "4                 False  \n",
              "...                 ...  \n",
              "2795               True  \n",
              "2796               True  \n",
              "2797               True  \n",
              "2798               True  \n",
              "2799               True  \n",
              "\n",
              "[2800 rows x 10 columns]"
            ],
            "text/html": [
              "\n",
              "  <div id=\"df-a78ea91b-733b-4ba1-a394-db6ff0252e49\">\n",
              "    <div class=\"colab-df-container\">\n",
              "      <div>\n",
              "<style scoped>\n",
              "    .dataframe tbody tr th:only-of-type {\n",
              "        vertical-align: middle;\n",
              "    }\n",
              "\n",
              "    .dataframe tbody tr th {\n",
              "        vertical-align: top;\n",
              "    }\n",
              "\n",
              "    .dataframe thead th {\n",
              "        text-align: right;\n",
              "    }\n",
              "</style>\n",
              "<table border=\"1\" class=\"dataframe\">\n",
              "  <thead>\n",
              "    <tr style=\"text-align: right;\">\n",
              "      <th></th>\n",
              "      <th>Commit ID</th>\n",
              "      <th>Commit Message</th>\n",
              "      <th>Author Name</th>\n",
              "      <th>Author Email</th>\n",
              "      <th>Created at</th>\n",
              "      <th>Updated at</th>\n",
              "      <th>Files Changed</th>\n",
              "      <th>Branch</th>\n",
              "      <th>Contributor</th>\n",
              "      <th>All Checks Passed</th>\n",
              "    </tr>\n",
              "  </thead>\n",
              "  <tbody>\n",
              "    <tr>\n",
              "      <th>0</th>\n",
              "      <td>d960b9e38c062584ff6cfb1a70e1512509a966e7</td>\n",
              "      <td>docs: fix link of \"Building for Relative Paths...</td>\n",
              "      <td>ryan.c</td>\n",
              "      <td>jackblackevo@gmail.com</td>\n",
              "      <td>2022-09-08 07:40:47</td>\n",
              "      <td>2022-09-08 07:40:47</td>\n",
              "      <td>['docusaurus/docs/advanced-configuration.md']</td>\n",
              "      <td>f34d88e30c7d8be7181f728d1abc4fd8d5cd07d3</td>\n",
              "      <td>jackblackevo</td>\n",
              "      <td>True</td>\n",
              "    </tr>\n",
              "    <tr>\n",
              "      <th>1</th>\n",
              "      <td>f34d88e30c7d8be7181f728d1abc4fd8d5cd07d3</td>\n",
              "      <td>Merge pull request #12558 from danielrentz/pat...</td>\n",
              "      <td>Chaoshuai Lü</td>\n",
              "      <td>matrush@qq.com</td>\n",
              "      <td>2022-07-05 18:52:20</td>\n",
              "      <td>2022-07-05 18:52:20</td>\n",
              "      <td>['docusaurus/docs/setting-up-your-editor.md']</td>\n",
              "      <td>c378572024967fee15d97da1b6fbfcd2894b4b66</td>\n",
              "      <td>matrush</td>\n",
              "      <td>False</td>\n",
              "    </tr>\n",
              "    <tr>\n",
              "      <th>2</th>\n",
              "      <td>c378572024967fee15d97da1b6fbfcd2894b4b66</td>\n",
              "      <td>Merge pull request #12537 from pawelskowronek/...</td>\n",
              "      <td>Chaoshuai Lü</td>\n",
              "      <td>matrush@qq.com</td>\n",
              "      <td>2022-07-05 18:49:51</td>\n",
              "      <td>2022-07-05 18:49:51</td>\n",
              "      <td>['docusaurus/docs/adding-typescript.md']</td>\n",
              "      <td>a45ee3b091b3a7c7151a98ebaf5ec460eda7d614</td>\n",
              "      <td>matrush</td>\n",
              "      <td>False</td>\n",
              "    </tr>\n",
              "    <tr>\n",
              "      <th>3</th>\n",
              "      <td>a45ee3b091b3a7c7151a98ebaf5ec460eda7d614</td>\n",
              "      <td>Merge pull request #12531 from MoshiulRabbi/pa...</td>\n",
              "      <td>Chaoshuai Lü</td>\n",
              "      <td>matrush@qq.com</td>\n",
              "      <td>2022-07-05 18:48:30</td>\n",
              "      <td>2022-07-05 18:48:30</td>\n",
              "      <td>['docusaurus/docs/deployment.md']</td>\n",
              "      <td>bcff1928dac6f9d708613dff5eac36c2834bc139</td>\n",
              "      <td>matrush</td>\n",
              "      <td>False</td>\n",
              "    </tr>\n",
              "    <tr>\n",
              "      <th>4</th>\n",
              "      <td>bcff1928dac6f9d708613dff5eac36c2834bc139</td>\n",
              "      <td>Merge pull request #12539 from liam-mulhall/pa...</td>\n",
              "      <td>Chaoshuai Lü</td>\n",
              "      <td>matrush@qq.com</td>\n",
              "      <td>2022-07-05 18:48:07</td>\n",
              "      <td>2022-07-05 18:48:07</td>\n",
              "      <td>['docusaurus/docs/adding-a-router.md']</td>\n",
              "      <td>c2cbaaf006e9ba70888565ed33b4990985f5fc44</td>\n",
              "      <td>matrush</td>\n",
              "      <td>False</td>\n",
              "    </tr>\n",
              "    <tr>\n",
              "      <th>...</th>\n",
              "      <td>...</td>\n",
              "      <td>...</td>\n",
              "      <td>...</td>\n",
              "      <td>...</td>\n",
              "      <td>...</td>\n",
              "      <td>...</td>\n",
              "      <td>...</td>\n",
              "      <td>...</td>\n",
              "      <td>...</td>\n",
              "      <td>...</td>\n",
              "    </tr>\n",
              "    <tr>\n",
              "      <th>2795</th>\n",
              "      <td>9800d053166fdbc36a9661a79d99c63ef2bd45c0</td>\n",
              "      <td>Add linting and nicer output</td>\n",
              "      <td>Dan Abramov</td>\n",
              "      <td>dan.abramov@gmail.com</td>\n",
              "      <td>2016-07-15 19:58:47</td>\n",
              "      <td>2016-07-15 19:58:47</td>\n",
              "      <td>['.eslintrc', 'devServer.js', 'package.json', ...</td>\n",
              "      <td>2badb45121503202bc13a57d2de4236b68493656</td>\n",
              "      <td>gaearon</td>\n",
              "      <td>True</td>\n",
              "    </tr>\n",
              "    <tr>\n",
              "      <th>2796</th>\n",
              "      <td>2badb45121503202bc13a57d2de4236b68493656</td>\n",
              "      <td>Explain what it is</td>\n",
              "      <td>Dan Abramov</td>\n",
              "      <td>dan.abramov@gmail.com</td>\n",
              "      <td>2016-07-15 19:08:21</td>\n",
              "      <td>2016-07-15 19:08:21</td>\n",
              "      <td>['README.md']</td>\n",
              "      <td>86fa5b3f78013787b4f6801b989edb700feaaec7</td>\n",
              "      <td>gaearon</td>\n",
              "      <td>True</td>\n",
              "    </tr>\n",
              "    <tr>\n",
              "      <th>2797</th>\n",
              "      <td>86fa5b3f78013787b4f6801b989edb700feaaec7</td>\n",
              "      <td>Add some \"basic\" configuration</td>\n",
              "      <td>Dan Abramov</td>\n",
              "      <td>dan.abramov@gmail.com</td>\n",
              "      <td>2016-07-15 19:07:31</td>\n",
              "      <td>2016-07-15 19:07:31</td>\n",
              "      <td>['.babelrc', '.gitignore', 'build/bundle.js', ...</td>\n",
              "      <td>9c72b8137c5769221b1eedcbd88265a432b3caa9</td>\n",
              "      <td>gaearon</td>\n",
              "      <td>True</td>\n",
              "    </tr>\n",
              "    <tr>\n",
              "      <th>2798</th>\n",
              "      <td>9c72b8137c5769221b1eedcbd88265a432b3caa9</td>\n",
              "      <td>Initial commit with webpack and css/autoprefix...</td>\n",
              "      <td>Christopher Chedeau</td>\n",
              "      <td>vjeux@fb.com</td>\n",
              "      <td>2016-07-15 17:52:45</td>\n",
              "      <td>2016-07-15 17:52:45</td>\n",
              "      <td>['.gitignore', 'build/bundle.js', 'cli.js', 'i...</td>\n",
              "      <td>003d9e7b52c3a91cb584b3afd78cd06c539f13be</td>\n",
              "      <td>vjeux</td>\n",
              "      <td>True</td>\n",
              "    </tr>\n",
              "    <tr>\n",
              "      <th>2799</th>\n",
              "      <td>003d9e7b52c3a91cb584b3afd78cd06c539f13be</td>\n",
              "      <td>Initial commit</td>\n",
              "      <td>Christopher Chedeau</td>\n",
              "      <td>vjeuxx@gmail.com</td>\n",
              "      <td>2016-07-15 16:46:37</td>\n",
              "      <td>2016-07-15 16:46:37</td>\n",
              "      <td>['LICENSE', 'PATENTS', 'README.md']</td>\n",
              "      <td>NaN</td>\n",
              "      <td>vjeux</td>\n",
              "      <td>True</td>\n",
              "    </tr>\n",
              "  </tbody>\n",
              "</table>\n",
              "<p>2800 rows × 10 columns</p>\n",
              "</div>\n",
              "      <button class=\"colab-df-convert\" onclick=\"convertToInteractive('df-a78ea91b-733b-4ba1-a394-db6ff0252e49')\"\n",
              "              title=\"Convert this dataframe to an interactive table.\"\n",
              "              style=\"display:none;\">\n",
              "        \n",
              "  <svg xmlns=\"http://www.w3.org/2000/svg\" height=\"24px\"viewBox=\"0 0 24 24\"\n",
              "       width=\"24px\">\n",
              "    <path d=\"M0 0h24v24H0V0z\" fill=\"none\"/>\n",
              "    <path d=\"M18.56 5.44l.94 2.06.94-2.06 2.06-.94-2.06-.94-.94-2.06-.94 2.06-2.06.94zm-11 1L8.5 8.5l.94-2.06 2.06-.94-2.06-.94L8.5 2.5l-.94 2.06-2.06.94zm10 10l.94 2.06.94-2.06 2.06-.94-2.06-.94-.94-2.06-.94 2.06-2.06.94z\"/><path d=\"M17.41 7.96l-1.37-1.37c-.4-.4-.92-.59-1.43-.59-.52 0-1.04.2-1.43.59L10.3 9.45l-7.72 7.72c-.78.78-.78 2.05 0 2.83L4 21.41c.39.39.9.59 1.41.59.51 0 1.02-.2 1.41-.59l7.78-7.78 2.81-2.81c.8-.78.8-2.07 0-2.86zM5.41 20L4 18.59l7.72-7.72 1.47 1.35L5.41 20z\"/>\n",
              "  </svg>\n",
              "      </button>\n",
              "      \n",
              "  <style>\n",
              "    .colab-df-container {\n",
              "      display:flex;\n",
              "      flex-wrap:wrap;\n",
              "      gap: 12px;\n",
              "    }\n",
              "\n",
              "    .colab-df-convert {\n",
              "      background-color: #E8F0FE;\n",
              "      border: none;\n",
              "      border-radius: 50%;\n",
              "      cursor: pointer;\n",
              "      display: none;\n",
              "      fill: #1967D2;\n",
              "      height: 32px;\n",
              "      padding: 0 0 0 0;\n",
              "      width: 32px;\n",
              "    }\n",
              "\n",
              "    .colab-df-convert:hover {\n",
              "      background-color: #E2EBFA;\n",
              "      box-shadow: 0px 1px 2px rgba(60, 64, 67, 0.3), 0px 1px 3px 1px rgba(60, 64, 67, 0.15);\n",
              "      fill: #174EA6;\n",
              "    }\n",
              "\n",
              "    [theme=dark] .colab-df-convert {\n",
              "      background-color: #3B4455;\n",
              "      fill: #D2E3FC;\n",
              "    }\n",
              "\n",
              "    [theme=dark] .colab-df-convert:hover {\n",
              "      background-color: #434B5C;\n",
              "      box-shadow: 0px 1px 3px 1px rgba(0, 0, 0, 0.15);\n",
              "      filter: drop-shadow(0px 1px 2px rgba(0, 0, 0, 0.3));\n",
              "      fill: #FFFFFF;\n",
              "    }\n",
              "  </style>\n",
              "\n",
              "      <script>\n",
              "        const buttonEl =\n",
              "          document.querySelector('#df-a78ea91b-733b-4ba1-a394-db6ff0252e49 button.colab-df-convert');\n",
              "        buttonEl.style.display =\n",
              "          google.colab.kernel.accessAllowed ? 'block' : 'none';\n",
              "\n",
              "        async function convertToInteractive(key) {\n",
              "          const element = document.querySelector('#df-a78ea91b-733b-4ba1-a394-db6ff0252e49');\n",
              "          const dataTable =\n",
              "            await google.colab.kernel.invokeFunction('convertToInteractive',\n",
              "                                                     [key], {});\n",
              "          if (!dataTable) return;\n",
              "\n",
              "          const docLinkHtml = 'Like what you see? Visit the ' +\n",
              "            '<a target=\"_blank\" href=https://colab.research.google.com/notebooks/data_table.ipynb>data table notebook</a>'\n",
              "            + ' to learn more about interactive tables.';\n",
              "          element.innerHTML = '';\n",
              "          dataTable['output_type'] = 'display_data';\n",
              "          await google.colab.output.renderOutput(dataTable, element);\n",
              "          const docLink = document.createElement('div');\n",
              "          docLink.innerHTML = docLinkHtml;\n",
              "          element.appendChild(docLink);\n",
              "        }\n",
              "      </script>\n",
              "    </div>\n",
              "  </div>\n",
              "  "
            ]
          },
          "metadata": {},
          "execution_count": 298
        }
      ],
      "source": [
        "df"
      ]
    },
    {
      "cell_type": "code",
      "execution_count": 299,
      "metadata": {
        "colab": {
          "base_uri": "https://localhost:8080/"
        },
        "id": "PMmapQWp3kj3",
        "outputId": "f02ac94f-3e88-461f-eb9e-c07561476934"
      },
      "outputs": [
        {
          "output_type": "execute_result",
          "data": {
            "text/plain": [
              "cee26589ff919e946030a5651a93ccba78a93293    6\n",
              "749a76d291d6b07681d0941eeb23112c6970d3c4    4\n",
              "c20ccecfa1cf130a47d37908dc54959c618ce8ea    3\n",
              "c2a163a350d7dcd70ee446f690b6016fe9308f1f    3\n",
              "3f5dea91c1721b233e5a2b514ff9ea6fbc76ff97    3\n",
              "                                           ..\n",
              "7aaa463547386ee9589cf4ff42bc1d66126b0054    1\n",
              "0f5bb0d937a9eef5a63fd3b59181bee6069a6269    1\n",
              "6035abf8f307a25c8e461149393af1a045d3b6e0    1\n",
              "678ef7609e48936134e81c08d2e731e256e4bc11    1\n",
              "003d9e7b52c3a91cb584b3afd78cd06c539f13be    1\n",
              "Name: Branch, Length: 2758, dtype: int64"
            ]
          },
          "metadata": {},
          "execution_count": 299
        }
      ],
      "source": [
        "df['Branch'].value_counts() "
      ]
    },
    {
      "cell_type": "code",
      "execution_count": 300,
      "metadata": {
        "id": "oW5KowuMAhpp"
      },
      "outputs": [],
      "source": [
        "df['Updated at'] = pd.to_datetime(df['Updated at'])\n",
        "df.sort_values('Updated at', inplace = True)"
      ]
    },
    {
      "cell_type": "code",
      "execution_count": 301,
      "metadata": {
        "id": "lenQj0pDw03H"
      },
      "outputs": [],
      "source": [
        "df = df.reset_index(drop = True)"
      ]
    },
    {
      "cell_type": "code",
      "execution_count": 302,
      "metadata": {
        "colab": {
          "base_uri": "https://localhost:8080/",
          "height": 659
        },
        "id": "usTatCm8yAln",
        "outputId": "b982a8bf-b6a3-4a52-eb1b-58b4d940073b"
      },
      "outputs": [
        {
          "output_type": "execute_result",
          "data": {
            "text/plain": [
              "                                         Commit Message          Author Name  \\\n",
              "0                                        Initial commit  Christopher Chedeau   \n",
              "1     Initial commit with webpack and css/autoprefix...  Christopher Chedeau   \n",
              "2                        Add some \"basic\" configuration          Dan Abramov   \n",
              "3                                    Explain what it is          Dan Abramov   \n",
              "4                          Add linting and nicer output          Dan Abramov   \n",
              "...                                                 ...                  ...   \n",
              "2795  Merge pull request #12539 from liam-mulhall/pa...         Chaoshuai Lü   \n",
              "2796  Merge pull request #12531 from MoshiulRabbi/pa...         Chaoshuai Lü   \n",
              "2797  Merge pull request #12537 from pawelskowronek/...         Chaoshuai Lü   \n",
              "2798  Merge pull request #12558 from danielrentz/pat...         Chaoshuai Lü   \n",
              "2799  docs: fix link of \"Building for Relative Paths...               ryan.c   \n",
              "\n",
              "                Author Email          Updated at  \\\n",
              "0           vjeuxx@gmail.com 2016-07-15 16:46:37   \n",
              "1               vjeux@fb.com 2016-07-15 17:52:45   \n",
              "2      dan.abramov@gmail.com 2016-07-15 19:07:31   \n",
              "3      dan.abramov@gmail.com 2016-07-15 19:08:21   \n",
              "4      dan.abramov@gmail.com 2016-07-15 19:58:47   \n",
              "...                      ...                 ...   \n",
              "2795          matrush@qq.com 2022-07-05 18:48:07   \n",
              "2796          matrush@qq.com 2022-07-05 18:48:30   \n",
              "2797          matrush@qq.com 2022-07-05 18:49:51   \n",
              "2798          matrush@qq.com 2022-07-05 18:52:20   \n",
              "2799  jackblackevo@gmail.com 2022-09-08 07:40:47   \n",
              "\n",
              "                                          Files Changed   Contributor  \\\n",
              "0                   ['LICENSE', 'PATENTS', 'README.md']         vjeux   \n",
              "1     ['.gitignore', 'build/bundle.js', 'cli.js', 'i...         vjeux   \n",
              "2     ['.babelrc', '.gitignore', 'build/bundle.js', ...       gaearon   \n",
              "3                                         ['README.md']       gaearon   \n",
              "4     ['.eslintrc', 'devServer.js', 'package.json', ...       gaearon   \n",
              "...                                                 ...           ...   \n",
              "2795             ['docusaurus/docs/adding-a-router.md']       matrush   \n",
              "2796                  ['docusaurus/docs/deployment.md']       matrush   \n",
              "2797           ['docusaurus/docs/adding-typescript.md']       matrush   \n",
              "2798      ['docusaurus/docs/setting-up-your-editor.md']       matrush   \n",
              "2799      ['docusaurus/docs/advanced-configuration.md']  jackblackevo   \n",
              "\n",
              "      All Checks Passed  Additions commit  \n",
              "0                  True                14  \n",
              "1                  True                56  \n",
              "2                  True                30  \n",
              "3                  True                18  \n",
              "4                  True                28  \n",
              "...                 ...               ...  \n",
              "2795              False                89  \n",
              "2796              False                85  \n",
              "2797              False               107  \n",
              "2798              False                85  \n",
              "2799               True                56  \n",
              "\n",
              "[2800 rows x 8 columns]"
            ],
            "text/html": [
              "\n",
              "  <div id=\"df-1176b906-af5e-46cb-b614-5d95b079fd60\">\n",
              "    <div class=\"colab-df-container\">\n",
              "      <div>\n",
              "<style scoped>\n",
              "    .dataframe tbody tr th:only-of-type {\n",
              "        vertical-align: middle;\n",
              "    }\n",
              "\n",
              "    .dataframe tbody tr th {\n",
              "        vertical-align: top;\n",
              "    }\n",
              "\n",
              "    .dataframe thead th {\n",
              "        text-align: right;\n",
              "    }\n",
              "</style>\n",
              "<table border=\"1\" class=\"dataframe\">\n",
              "  <thead>\n",
              "    <tr style=\"text-align: right;\">\n",
              "      <th></th>\n",
              "      <th>Commit Message</th>\n",
              "      <th>Author Name</th>\n",
              "      <th>Author Email</th>\n",
              "      <th>Updated at</th>\n",
              "      <th>Files Changed</th>\n",
              "      <th>Contributor</th>\n",
              "      <th>All Checks Passed</th>\n",
              "      <th>Additions commit</th>\n",
              "    </tr>\n",
              "  </thead>\n",
              "  <tbody>\n",
              "    <tr>\n",
              "      <th>0</th>\n",
              "      <td>Initial commit</td>\n",
              "      <td>Christopher Chedeau</td>\n",
              "      <td>vjeuxx@gmail.com</td>\n",
              "      <td>2016-07-15 16:46:37</td>\n",
              "      <td>['LICENSE', 'PATENTS', 'README.md']</td>\n",
              "      <td>vjeux</td>\n",
              "      <td>True</td>\n",
              "      <td>14</td>\n",
              "    </tr>\n",
              "    <tr>\n",
              "      <th>1</th>\n",
              "      <td>Initial commit with webpack and css/autoprefix...</td>\n",
              "      <td>Christopher Chedeau</td>\n",
              "      <td>vjeux@fb.com</td>\n",
              "      <td>2016-07-15 17:52:45</td>\n",
              "      <td>['.gitignore', 'build/bundle.js', 'cli.js', 'i...</td>\n",
              "      <td>vjeux</td>\n",
              "      <td>True</td>\n",
              "      <td>56</td>\n",
              "    </tr>\n",
              "    <tr>\n",
              "      <th>2</th>\n",
              "      <td>Add some \"basic\" configuration</td>\n",
              "      <td>Dan Abramov</td>\n",
              "      <td>dan.abramov@gmail.com</td>\n",
              "      <td>2016-07-15 19:07:31</td>\n",
              "      <td>['.babelrc', '.gitignore', 'build/bundle.js', ...</td>\n",
              "      <td>gaearon</td>\n",
              "      <td>True</td>\n",
              "      <td>30</td>\n",
              "    </tr>\n",
              "    <tr>\n",
              "      <th>3</th>\n",
              "      <td>Explain what it is</td>\n",
              "      <td>Dan Abramov</td>\n",
              "      <td>dan.abramov@gmail.com</td>\n",
              "      <td>2016-07-15 19:08:21</td>\n",
              "      <td>['README.md']</td>\n",
              "      <td>gaearon</td>\n",
              "      <td>True</td>\n",
              "      <td>18</td>\n",
              "    </tr>\n",
              "    <tr>\n",
              "      <th>4</th>\n",
              "      <td>Add linting and nicer output</td>\n",
              "      <td>Dan Abramov</td>\n",
              "      <td>dan.abramov@gmail.com</td>\n",
              "      <td>2016-07-15 19:58:47</td>\n",
              "      <td>['.eslintrc', 'devServer.js', 'package.json', ...</td>\n",
              "      <td>gaearon</td>\n",
              "      <td>True</td>\n",
              "      <td>28</td>\n",
              "    </tr>\n",
              "    <tr>\n",
              "      <th>...</th>\n",
              "      <td>...</td>\n",
              "      <td>...</td>\n",
              "      <td>...</td>\n",
              "      <td>...</td>\n",
              "      <td>...</td>\n",
              "      <td>...</td>\n",
              "      <td>...</td>\n",
              "      <td>...</td>\n",
              "    </tr>\n",
              "    <tr>\n",
              "      <th>2795</th>\n",
              "      <td>Merge pull request #12539 from liam-mulhall/pa...</td>\n",
              "      <td>Chaoshuai Lü</td>\n",
              "      <td>matrush@qq.com</td>\n",
              "      <td>2022-07-05 18:48:07</td>\n",
              "      <td>['docusaurus/docs/adding-a-router.md']</td>\n",
              "      <td>matrush</td>\n",
              "      <td>False</td>\n",
              "      <td>89</td>\n",
              "    </tr>\n",
              "    <tr>\n",
              "      <th>2796</th>\n",
              "      <td>Merge pull request #12531 from MoshiulRabbi/pa...</td>\n",
              "      <td>Chaoshuai Lü</td>\n",
              "      <td>matrush@qq.com</td>\n",
              "      <td>2022-07-05 18:48:30</td>\n",
              "      <td>['docusaurus/docs/deployment.md']</td>\n",
              "      <td>matrush</td>\n",
              "      <td>False</td>\n",
              "      <td>85</td>\n",
              "    </tr>\n",
              "    <tr>\n",
              "      <th>2797</th>\n",
              "      <td>Merge pull request #12537 from pawelskowronek/...</td>\n",
              "      <td>Chaoshuai Lü</td>\n",
              "      <td>matrush@qq.com</td>\n",
              "      <td>2022-07-05 18:49:51</td>\n",
              "      <td>['docusaurus/docs/adding-typescript.md']</td>\n",
              "      <td>matrush</td>\n",
              "      <td>False</td>\n",
              "      <td>107</td>\n",
              "    </tr>\n",
              "    <tr>\n",
              "      <th>2798</th>\n",
              "      <td>Merge pull request #12558 from danielrentz/pat...</td>\n",
              "      <td>Chaoshuai Lü</td>\n",
              "      <td>matrush@qq.com</td>\n",
              "      <td>2022-07-05 18:52:20</td>\n",
              "      <td>['docusaurus/docs/setting-up-your-editor.md']</td>\n",
              "      <td>matrush</td>\n",
              "      <td>False</td>\n",
              "      <td>85</td>\n",
              "    </tr>\n",
              "    <tr>\n",
              "      <th>2799</th>\n",
              "      <td>docs: fix link of \"Building for Relative Paths...</td>\n",
              "      <td>ryan.c</td>\n",
              "      <td>jackblackevo@gmail.com</td>\n",
              "      <td>2022-09-08 07:40:47</td>\n",
              "      <td>['docusaurus/docs/advanced-configuration.md']</td>\n",
              "      <td>jackblackevo</td>\n",
              "      <td>True</td>\n",
              "      <td>56</td>\n",
              "    </tr>\n",
              "  </tbody>\n",
              "</table>\n",
              "<p>2800 rows × 8 columns</p>\n",
              "</div>\n",
              "      <button class=\"colab-df-convert\" onclick=\"convertToInteractive('df-1176b906-af5e-46cb-b614-5d95b079fd60')\"\n",
              "              title=\"Convert this dataframe to an interactive table.\"\n",
              "              style=\"display:none;\">\n",
              "        \n",
              "  <svg xmlns=\"http://www.w3.org/2000/svg\" height=\"24px\"viewBox=\"0 0 24 24\"\n",
              "       width=\"24px\">\n",
              "    <path d=\"M0 0h24v24H0V0z\" fill=\"none\"/>\n",
              "    <path d=\"M18.56 5.44l.94 2.06.94-2.06 2.06-.94-2.06-.94-.94-2.06-.94 2.06-2.06.94zm-11 1L8.5 8.5l.94-2.06 2.06-.94-2.06-.94L8.5 2.5l-.94 2.06-2.06.94zm10 10l.94 2.06.94-2.06 2.06-.94-2.06-.94-.94-2.06-.94 2.06-2.06.94z\"/><path d=\"M17.41 7.96l-1.37-1.37c-.4-.4-.92-.59-1.43-.59-.52 0-1.04.2-1.43.59L10.3 9.45l-7.72 7.72c-.78.78-.78 2.05 0 2.83L4 21.41c.39.39.9.59 1.41.59.51 0 1.02-.2 1.41-.59l7.78-7.78 2.81-2.81c.8-.78.8-2.07 0-2.86zM5.41 20L4 18.59l7.72-7.72 1.47 1.35L5.41 20z\"/>\n",
              "  </svg>\n",
              "      </button>\n",
              "      \n",
              "  <style>\n",
              "    .colab-df-container {\n",
              "      display:flex;\n",
              "      flex-wrap:wrap;\n",
              "      gap: 12px;\n",
              "    }\n",
              "\n",
              "    .colab-df-convert {\n",
              "      background-color: #E8F0FE;\n",
              "      border: none;\n",
              "      border-radius: 50%;\n",
              "      cursor: pointer;\n",
              "      display: none;\n",
              "      fill: #1967D2;\n",
              "      height: 32px;\n",
              "      padding: 0 0 0 0;\n",
              "      width: 32px;\n",
              "    }\n",
              "\n",
              "    .colab-df-convert:hover {\n",
              "      background-color: #E2EBFA;\n",
              "      box-shadow: 0px 1px 2px rgba(60, 64, 67, 0.3), 0px 1px 3px 1px rgba(60, 64, 67, 0.15);\n",
              "      fill: #174EA6;\n",
              "    }\n",
              "\n",
              "    [theme=dark] .colab-df-convert {\n",
              "      background-color: #3B4455;\n",
              "      fill: #D2E3FC;\n",
              "    }\n",
              "\n",
              "    [theme=dark] .colab-df-convert:hover {\n",
              "      background-color: #434B5C;\n",
              "      box-shadow: 0px 1px 3px 1px rgba(0, 0, 0, 0.15);\n",
              "      filter: drop-shadow(0px 1px 2px rgba(0, 0, 0, 0.3));\n",
              "      fill: #FFFFFF;\n",
              "    }\n",
              "  </style>\n",
              "\n",
              "      <script>\n",
              "        const buttonEl =\n",
              "          document.querySelector('#df-1176b906-af5e-46cb-b614-5d95b079fd60 button.colab-df-convert');\n",
              "        buttonEl.style.display =\n",
              "          google.colab.kernel.accessAllowed ? 'block' : 'none';\n",
              "\n",
              "        async function convertToInteractive(key) {\n",
              "          const element = document.querySelector('#df-1176b906-af5e-46cb-b614-5d95b079fd60');\n",
              "          const dataTable =\n",
              "            await google.colab.kernel.invokeFunction('convertToInteractive',\n",
              "                                                     [key], {});\n",
              "          if (!dataTable) return;\n",
              "\n",
              "          const docLinkHtml = 'Like what you see? Visit the ' +\n",
              "            '<a target=\"_blank\" href=https://colab.research.google.com/notebooks/data_table.ipynb>data table notebook</a>'\n",
              "            + ' to learn more about interactive tables.';\n",
              "          element.innerHTML = '';\n",
              "          dataTable['output_type'] = 'display_data';\n",
              "          await google.colab.output.renderOutput(dataTable, element);\n",
              "          const docLink = document.createElement('div');\n",
              "          docLink.innerHTML = docLinkHtml;\n",
              "          element.appendChild(docLink);\n",
              "        }\n",
              "      </script>\n",
              "    </div>\n",
              "  </div>\n",
              "  "
            ]
          },
          "metadata": {},
          "execution_count": 302
        }
      ],
      "source": [
        "df['Additions commit'] = df['Commit Message'].str.len()\n",
        "df.drop('Commit ID', axis = 1, inplace = True)\n",
        "df.drop('Created at', axis = 1, inplace = True)\n",
        "df.drop('Branch', axis = 1, inplace = True)\n",
        "df"
      ]
    },
    {
      "cell_type": "code",
      "execution_count": 303,
      "metadata": {
        "colab": {
          "base_uri": "https://localhost:8080/"
        },
        "id": "V2jjlE1d22RM",
        "outputId": "d0c28139-03b6-4a31-8b3d-53c770d37429"
      },
      "outputs": [
        {
          "output_type": "execute_result",
          "data": {
            "text/plain": [
              "array([\"['LICENSE', 'PATENTS', 'README.md']\",\n",
              "       \"['.gitignore', 'build/bundle.js', 'cli.js', 'index.css', 'index.html', 'index.js', 'package.json', 'webpack.config.js']\",\n",
              "       \"['.babelrc', '.gitignore', 'build/bundle.js', 'devServer.js', 'index.css', 'index.js', 'package.json', 'src/App.css', 'src/App.js', 'src/index.js', 'webpack.config.dev.js', 'webpack.config.js', 'webpack.config.prod.js']\",\n",
              "       ...,\n",
              "       \"['packages/cra-template-typescript/package.json', 'packages/cra-template/package.json', 'packages/create-react-app/package.json', 'packages/eslint-config-react-app/package.json', 'packages/react-dev-utils/package.json', 'packages/react-error-overlay/package.json', 'packages/react-scripts/package.json']\",\n",
              "       \"['.eslintignore', '.eslintrc.json', '.github/workflows/build.yml', '.github/workflows/lint.yml', '.gitignore', '.prettierignore', 'docusaurus/docs/adding-typescript.md', 'docusaurus/docs/advanced-configuration.md', 'docusaurus/docs/loading-graphql-files.md', 'docusaurus/docs/proxying-api-requests-in-development.md', 'docusaurus/website/docusaurus.config.js', 'docusaurus/website/src/css/custom.css', 'docusaurus/website/src/pages/index.js', 'package-lock.json', 'package.json', 'packages/babel-plugin-named-asset-import/index.test.js', 'packages/react-dev-utils/ModuleScopePlugin.js', 'packages/react-dev-utils/evalSourceMapMiddleware.js', 'packages/react-dev-utils/getProcessForPort.js', 'packages/react-dev-utils/launchEditor.js', 'packages/react-dev-utils/redirectServedPathMiddleware.js', 'packages/react-error-overlay/.eslintrc', 'packages/react-error-overlay/build.js', 'packages/react-error-overlay/package.json', 'packages/react-error-overlay/src/__tests__/get-source-map.js', 'packages/react-error-overlay/src/containers/StackFrame.js', 'packages/react-error-overlay/src/index.js', 'packages/react-error-overlay/src/listenToRuntimeErrors.js', 'packages/react-error-overlay/src/utils/dom/css.js', 'packages/react-error-overlay/src/utils/parser.js', 'packages/react-error-overlay/src/utils/unmapper.js', 'packages/react-scripts/fixtures/kitchensink/template/integration/env.test.js', 'packages/react-scripts/fixtures/kitchensink/template/integration/initDOM.js', 'packages/react-scripts/fixtures/kitchensink/template/integration/webpack.test.js', 'packages/react-scripts/fixtures/kitchensink/template/jest.integration.config.js', 'packages/react-scripts/fixtures/kitchensink/template/jest.transform.js', 'packages/react-scripts/fixtures/kitchensink/template/src/App.js', 'packages/react-scripts/fixtures/kitchensink/template/src/features/webpack/LinkedModules.test.js', 'packages/react-scripts/fixtures/kitchensink/template/src/features/webpack/assets/scss-styles.scss', 'packages/react-scripts/lib/react-app.d.ts', 'packages/react-scripts/scripts/eject.js', 'tasks/e2e-simple.sh', 'tasks/screencast.js', 'test/fixtures/__shared__/test-setup.js', 'test/fixtures/__shared__/util/scripts.js', 'test/fixtures/__shared__/util/setup.js', 'test/fixtures/boostrap-sass/index.test.js', 'test/fixtures/builds-with-multiple-runtimes/index.test.js', 'test/fixtures/global-scss-asset-resolution/index.test.js', 'test/fixtures/global-scss-asset-resolution/src/index.scss', 'test/fixtures/issue-5176-flow-class-properties/index.test.js', 'test/fixtures/issue-5947-not-typescript/index.test.js', 'test/fixtures/jsconfig/index.test.js', 'test/fixtures/mjs-support/index.test.js', 'test/fixtures/relative-paths/index.test.js', 'test/fixtures/typescript-advanced/index.test.js', 'test/fixtures/typescript-advanced/src/App.tsx', 'test/fixtures/typescript-typecheck/index.test.js', 'test/fixtures/typescript/index.test.js', 'test/fixtures/typescript/src/App.ts', 'test/fixtures/webpack-message-formatting/index.test.js']\",\n",
              "       \"['.eslintignore', '.eslintrc.json', '.github/CODEOWNERS', '.github/ISSUE_TEMPLATE/bug_report.md', '.github/workflows/build.yml', '.github/workflows/integration.yml', '.github/workflows/lint.yml', '.gitignore', '.prettierignore', 'CHANGELOG-0.x.md', 'CHANGELOG-1.x.md', 'CHANGELOG-2.x.md', 'CHANGELOG-3.x.md', 'CHANGELOG-4.x.md', 'CHANGELOG.md', 'CONTRIBUTING.md', 'README.md', 'azure-pipelines-test-job.yml', 'azure-pipelines.yml', 'docusaurus/docs/adding-a-router.md', 'docusaurus/docs/adding-a-sass-stylesheet.md', 'docusaurus/docs/adding-bootstrap.md', 'docusaurus/docs/adding-css-reset.md', 'docusaurus/docs/adding-typescript.md', 'docusaurus/docs/advanced-configuration.md', 'docusaurus/docs/code-splitting.md', 'docusaurus/docs/custom-templates.md', 'docusaurus/docs/deployment.md', 'docusaurus/docs/documentation-intro.md', 'docusaurus/docs/fetching-data-with-ajax-requests.md', 'docusaurus/docs/getting-started.md', 'docusaurus/docs/importing-a-component.md', 'docusaurus/docs/loading-graphql-files.md', 'docusaurus/docs/making-a-progressive-web-app.md', 'docusaurus/docs/proxying-api-requests-in-development.md', 'docusaurus/docs/running-tests.md', 'docusaurus/docs/setting-up-your-editor.md', 'docusaurus/docs/supported-browsers-features.md', 'docusaurus/docs/updating-to-new-releases.md', 'docusaurus/website/README.md', 'docusaurus/website/docusaurus.config.js', 'docusaurus/website/package.json', 'docusaurus/website/src/css/custom.css', 'docusaurus/website/src/pages/index.js', 'docusaurus/website/yarn.lock', 'netlify.toml', 'package-lock.json', 'package.json', 'packages/babel-plugin-named-asset-import/index.test.js', 'packages/babel-plugin-named-asset-import/package.json', 'packages/babel-preset-react-app/README.md', 'packages/babel-preset-react-app/create.js', 'packages/babel-preset-react-app/package.json', 'packages/confusing-browser-globals/README.md', 'packages/confusing-browser-globals/package.json', 'packages/cra-template-typescript/package.json', 'packages/cra-template-typescript/template.json', 'packages/cra-template-typescript/template/src/index.tsx', 'packages/cra-template/package.json', 'packages/cra-template/template.json', 'packages/cra-template/template/README.md', 'packages/cra-template/template/src/index.js', 'packages/create-react-app/__tests__/getTemplateInstallPackage.test.js', 'packages/create-react-app/createReactApp.js', 'packages/create-react-app/index.js', 'packages/create-react-app/package.json', 'packages/create-react-app/yarn.lock.cached', 'packages/eslint-config-react-app/README.md', 'packages/eslint-config-react-app/base.js', 'packages/eslint-config-react-app/index.js', 'packages/eslint-config-react-app/jest.js', 'packages/eslint-config-react-app/package.json', 'packages/react-app-polyfill/package.json', 'packages/react-dev-utils/ForkTsCheckerWarningWebpackPlugin.js', 'packages/react-dev-utils/ModuleNotFoundPlugin.js', 'packages/react-dev-utils/ModuleScopePlugin.js', 'packages/react-dev-utils/README.md', 'packages/react-dev-utils/WatchMissingNodeModulesPlugin.js', 'packages/react-dev-utils/WebpackDevServerUtils.js', 'packages/react-dev-utils/__tests__/getCSSModuleLocalIdent.test.js', 'packages/react-dev-utils/evalSourceMapMiddleware.js', 'packages/react-dev-utils/formatWebpackMessages.js', 'packages/react-dev-utils/getProcessForPort.js', 'packages/react-dev-utils/launchEditor.js', 'packages/react-dev-utils/noopServiceWorkerMiddleware.js', 'packages/react-dev-utils/openBrowser.js', 'packages/react-dev-utils/package.json', 'packages/react-dev-utils/redirectServedPathMiddleware.js', 'packages/react-dev-utils/typescriptFormatter.js', 'packages/react-dev-utils/webpackHotDevClient.js', 'packages/react-error-overlay/.eslintrc', 'packages/react-error-overlay/build.js', 'packages/react-error-overlay/package.json', 'packages/react-error-overlay/src/__tests__/get-source-map.js', 'packages/react-error-overlay/src/containers/StackFrame.js', 'packages/react-error-overlay/src/index.js', 'packages/react-error-overlay/src/listenToRuntimeErrors.js', 'packages/react-error-overlay/src/utils/dom/css.js', 'packages/react-error-overlay/src/utils/generateAnsiHTML.js', 'packages/react-error-overlay/src/utils/parser.js', 'packages/react-error-overlay/src/utils/unmapper.js', 'packages/react-error-overlay/webpack.config.js', 'packages/react-scripts/config/env.js', 'packages/react-scripts/config/jest/babelTransform.js', 'packages/react-scripts/config/paths.js', 'packages/react-scripts/config/pnpTs.js', 'packages/react-scripts/config/webpack.config.js', 'packages/react-scripts/config/webpack/persistentCache/createEnvironmentHash.js', 'packages/react-scripts/config/webpackDevServer.config.js', 'packages/react-scripts/fixtures/kitchensink/template.json', 'packages/react-scripts/fixtures/kitchensink/template/README.md', 'packages/react-scripts/fixtures/kitchensink/template/integration/env.test.js', 'packages/react-scripts/fixtures/kitchensink/template/integration/initDOM.js', 'packages/react-scripts/fixtures/kitchensink/template/integration/webpack.test.js', 'packages/react-scripts/fixtures/kitchensink/template/jest.integration.config.js', 'packages/react-scripts/fixtures/kitchensink/template/jest.transform.js', 'packages/react-scripts/fixtures/kitchensink/template/src/App.js', 'packages/react-scripts/fixtures/kitchensink/template/src/features/webpack/JsonInclusion.js', 'packages/react-scripts/fixtures/kitchensink/template/src/features/webpack/LinkedModules.test.js', 'packages/react-scripts/fixtures/kitchensink/template/src/features/webpack/assets/scss-styles.scss', 'packages/react-scripts/lib/react-app.d.ts', 'packages/react-scripts/package.json', 'packages/react-scripts/scripts/build.js', 'packages/react-scripts/scripts/eject.js', 'packages/react-scripts/scripts/init.js', 'packages/react-scripts/scripts/start.js', 'packages/react-scripts/scripts/test.js', 'packages/react-scripts/scripts/utils/createJestConfig.js', 'packages/react-scripts/scripts/utils/verifyPackageTree.js', 'packages/react-scripts/scripts/utils/verifyTypeScriptSetup.js', 'packages/react-scripts/template-typescript/README.md', 'packages/react-scripts/template/README.md', 'tasks/compile-lockfile.js', 'tasks/cra.js', 'tasks/e2e-behavior.sh', 'tasks/e2e-installs.sh', 'tasks/e2e-kitchensink-eject.sh', 'tasks/e2e-kitchensink.sh', 'tasks/e2e-simple.sh', 'tasks/local-test.sh', 'tasks/publish.sh', 'tasks/screencast-start.js', 'tasks/screencast.js', 'test/README.md', 'test/fixtures/__shared__/test-setup.js', 'test/fixtures/__shared__/util/scripts.js', 'test/fixtures/__shared__/util/setup.js', 'test/fixtures/boostrap-sass/.disable-pnp', 'test/fixtures/boostrap-sass/index.test.js', 'test/fixtures/boostrap-sass/package.json', 'test/fixtures/builds-with-multiple-runtimes/index.test.js', 'test/fixtures/builds-with-multiple-runtimes/package.json', 'test/fixtures/global-scss-asset-resolution/.disable-pnp', 'test/fixtures/global-scss-asset-resolution/index.test.js', 'test/fixtures/global-scss-asset-resolution/package.json', 'test/fixtures/global-scss-asset-resolution/src/index.scss', 'test/fixtures/issue-5176-flow-class-properties/index.test.js', 'test/fixtures/issue-5947-not-typescript/index.test.js', 'test/fixtures/jsconfig/.disable-pnp', 'test/fixtures/jsconfig/index.test.js', 'test/fixtures/mjs-support/index.test.js', 'test/fixtures/mjs-support/package.json', 'test/fixtures/relative-paths/index.test.js', 'test/fixtures/typescript-advanced/.disable-pnp', 'test/fixtures/typescript-advanced/index.test.js', 'test/fixtures/typescript-advanced/src/App.tsx', 'test/fixtures/typescript-typecheck/.disable-pnp', 'test/fixtures/typescript-typecheck/index.test.js', 'test/fixtures/typescript/.disable-pnp', 'test/fixtures/typescript/index.test.js', 'test/fixtures/typescript/src/App.ts', 'test/fixtures/webpack-message-formatting/.disable-pnp', 'test/fixtures/webpack-message-formatting/index.test.js', 'test/integration/create-react-app/index.test.js']\"],\n",
              "      dtype=object)"
            ]
          },
          "metadata": {},
          "execution_count": 303
        }
      ],
      "source": [
        "df['Files Changed'].unique()"
      ]
    },
    {
      "cell_type": "markdown",
      "metadata": {
        "id": "0CwMXkSStrE7"
      },
      "source": [
        "**Create a Files Changed Count Column**"
      ]
    },
    {
      "cell_type": "code",
      "execution_count": 304,
      "metadata": {
        "colab": {
          "base_uri": "https://localhost:8080/",
          "height": 676
        },
        "id": "lQFQKQivqt7P",
        "outputId": "a5b8594d-380a-430b-dcad-08b004b1fdc3"
      },
      "outputs": [
        {
          "output_type": "execute_result",
          "data": {
            "text/plain": [
              "                                         Commit Message          Author Name  \\\n",
              "0                                        Initial commit  Christopher Chedeau   \n",
              "1     Initial commit with webpack and css/autoprefix...  Christopher Chedeau   \n",
              "2                        Add some \"basic\" configuration          Dan Abramov   \n",
              "3                                    Explain what it is          Dan Abramov   \n",
              "4                          Add linting and nicer output          Dan Abramov   \n",
              "...                                                 ...                  ...   \n",
              "2795  Merge pull request #12539 from liam-mulhall/pa...         Chaoshuai Lü   \n",
              "2796  Merge pull request #12531 from MoshiulRabbi/pa...         Chaoshuai Lü   \n",
              "2797  Merge pull request #12537 from pawelskowronek/...         Chaoshuai Lü   \n",
              "2798  Merge pull request #12558 from danielrentz/pat...         Chaoshuai Lü   \n",
              "2799  docs: fix link of \"Building for Relative Paths...               ryan.c   \n",
              "\n",
              "                Author Email          Updated at  \\\n",
              "0           vjeuxx@gmail.com 2016-07-15 16:46:37   \n",
              "1               vjeux@fb.com 2016-07-15 17:52:45   \n",
              "2      dan.abramov@gmail.com 2016-07-15 19:07:31   \n",
              "3      dan.abramov@gmail.com 2016-07-15 19:08:21   \n",
              "4      dan.abramov@gmail.com 2016-07-15 19:58:47   \n",
              "...                      ...                 ...   \n",
              "2795          matrush@qq.com 2022-07-05 18:48:07   \n",
              "2796          matrush@qq.com 2022-07-05 18:48:30   \n",
              "2797          matrush@qq.com 2022-07-05 18:49:51   \n",
              "2798          matrush@qq.com 2022-07-05 18:52:20   \n",
              "2799  jackblackevo@gmail.com 2022-09-08 07:40:47   \n",
              "\n",
              "                                          Files Changed   Contributor  \\\n",
              "0                         [LICENSE, PATENTS, README.md]         vjeux   \n",
              "1     [.gitignore, build/bundle.js, cli.js, index.cs...         vjeux   \n",
              "2     [.babelrc, .gitignore, build/bundle.js, devSer...       gaearon   \n",
              "3                                           [README.md]       gaearon   \n",
              "4     [.eslintrc, devServer.js, package.json, src/Ap...       gaearon   \n",
              "...                                                 ...           ...   \n",
              "2795               [docusaurus/docs/adding-a-router.md]       matrush   \n",
              "2796                    [docusaurus/docs/deployment.md]       matrush   \n",
              "2797             [docusaurus/docs/adding-typescript.md]       matrush   \n",
              "2798        [docusaurus/docs/setting-up-your-editor.md]       matrush   \n",
              "2799        [docusaurus/docs/advanced-configuration.md]  jackblackevo   \n",
              "\n",
              "      All Checks Passed  Additions commit  Files Changed Count  \n",
              "0                  True                14                    3  \n",
              "1                  True                56                    8  \n",
              "2                  True                30                   13  \n",
              "3                  True                18                    1  \n",
              "4                  True                28                    6  \n",
              "...                 ...               ...                  ...  \n",
              "2795              False                89                    1  \n",
              "2796              False                85                    1  \n",
              "2797              False               107                    1  \n",
              "2798              False                85                    1  \n",
              "2799               True                56                    1  \n",
              "\n",
              "[2800 rows x 9 columns]"
            ],
            "text/html": [
              "\n",
              "  <div id=\"df-0ccb4342-c2f3-4a0b-b14e-201fc0917297\">\n",
              "    <div class=\"colab-df-container\">\n",
              "      <div>\n",
              "<style scoped>\n",
              "    .dataframe tbody tr th:only-of-type {\n",
              "        vertical-align: middle;\n",
              "    }\n",
              "\n",
              "    .dataframe tbody tr th {\n",
              "        vertical-align: top;\n",
              "    }\n",
              "\n",
              "    .dataframe thead th {\n",
              "        text-align: right;\n",
              "    }\n",
              "</style>\n",
              "<table border=\"1\" class=\"dataframe\">\n",
              "  <thead>\n",
              "    <tr style=\"text-align: right;\">\n",
              "      <th></th>\n",
              "      <th>Commit Message</th>\n",
              "      <th>Author Name</th>\n",
              "      <th>Author Email</th>\n",
              "      <th>Updated at</th>\n",
              "      <th>Files Changed</th>\n",
              "      <th>Contributor</th>\n",
              "      <th>All Checks Passed</th>\n",
              "      <th>Additions commit</th>\n",
              "      <th>Files Changed Count</th>\n",
              "    </tr>\n",
              "  </thead>\n",
              "  <tbody>\n",
              "    <tr>\n",
              "      <th>0</th>\n",
              "      <td>Initial commit</td>\n",
              "      <td>Christopher Chedeau</td>\n",
              "      <td>vjeuxx@gmail.com</td>\n",
              "      <td>2016-07-15 16:46:37</td>\n",
              "      <td>[LICENSE, PATENTS, README.md]</td>\n",
              "      <td>vjeux</td>\n",
              "      <td>True</td>\n",
              "      <td>14</td>\n",
              "      <td>3</td>\n",
              "    </tr>\n",
              "    <tr>\n",
              "      <th>1</th>\n",
              "      <td>Initial commit with webpack and css/autoprefix...</td>\n",
              "      <td>Christopher Chedeau</td>\n",
              "      <td>vjeux@fb.com</td>\n",
              "      <td>2016-07-15 17:52:45</td>\n",
              "      <td>[.gitignore, build/bundle.js, cli.js, index.cs...</td>\n",
              "      <td>vjeux</td>\n",
              "      <td>True</td>\n",
              "      <td>56</td>\n",
              "      <td>8</td>\n",
              "    </tr>\n",
              "    <tr>\n",
              "      <th>2</th>\n",
              "      <td>Add some \"basic\" configuration</td>\n",
              "      <td>Dan Abramov</td>\n",
              "      <td>dan.abramov@gmail.com</td>\n",
              "      <td>2016-07-15 19:07:31</td>\n",
              "      <td>[.babelrc, .gitignore, build/bundle.js, devSer...</td>\n",
              "      <td>gaearon</td>\n",
              "      <td>True</td>\n",
              "      <td>30</td>\n",
              "      <td>13</td>\n",
              "    </tr>\n",
              "    <tr>\n",
              "      <th>3</th>\n",
              "      <td>Explain what it is</td>\n",
              "      <td>Dan Abramov</td>\n",
              "      <td>dan.abramov@gmail.com</td>\n",
              "      <td>2016-07-15 19:08:21</td>\n",
              "      <td>[README.md]</td>\n",
              "      <td>gaearon</td>\n",
              "      <td>True</td>\n",
              "      <td>18</td>\n",
              "      <td>1</td>\n",
              "    </tr>\n",
              "    <tr>\n",
              "      <th>4</th>\n",
              "      <td>Add linting and nicer output</td>\n",
              "      <td>Dan Abramov</td>\n",
              "      <td>dan.abramov@gmail.com</td>\n",
              "      <td>2016-07-15 19:58:47</td>\n",
              "      <td>[.eslintrc, devServer.js, package.json, src/Ap...</td>\n",
              "      <td>gaearon</td>\n",
              "      <td>True</td>\n",
              "      <td>28</td>\n",
              "      <td>6</td>\n",
              "    </tr>\n",
              "    <tr>\n",
              "      <th>...</th>\n",
              "      <td>...</td>\n",
              "      <td>...</td>\n",
              "      <td>...</td>\n",
              "      <td>...</td>\n",
              "      <td>...</td>\n",
              "      <td>...</td>\n",
              "      <td>...</td>\n",
              "      <td>...</td>\n",
              "      <td>...</td>\n",
              "    </tr>\n",
              "    <tr>\n",
              "      <th>2795</th>\n",
              "      <td>Merge pull request #12539 from liam-mulhall/pa...</td>\n",
              "      <td>Chaoshuai Lü</td>\n",
              "      <td>matrush@qq.com</td>\n",
              "      <td>2022-07-05 18:48:07</td>\n",
              "      <td>[docusaurus/docs/adding-a-router.md]</td>\n",
              "      <td>matrush</td>\n",
              "      <td>False</td>\n",
              "      <td>89</td>\n",
              "      <td>1</td>\n",
              "    </tr>\n",
              "    <tr>\n",
              "      <th>2796</th>\n",
              "      <td>Merge pull request #12531 from MoshiulRabbi/pa...</td>\n",
              "      <td>Chaoshuai Lü</td>\n",
              "      <td>matrush@qq.com</td>\n",
              "      <td>2022-07-05 18:48:30</td>\n",
              "      <td>[docusaurus/docs/deployment.md]</td>\n",
              "      <td>matrush</td>\n",
              "      <td>False</td>\n",
              "      <td>85</td>\n",
              "      <td>1</td>\n",
              "    </tr>\n",
              "    <tr>\n",
              "      <th>2797</th>\n",
              "      <td>Merge pull request #12537 from pawelskowronek/...</td>\n",
              "      <td>Chaoshuai Lü</td>\n",
              "      <td>matrush@qq.com</td>\n",
              "      <td>2022-07-05 18:49:51</td>\n",
              "      <td>[docusaurus/docs/adding-typescript.md]</td>\n",
              "      <td>matrush</td>\n",
              "      <td>False</td>\n",
              "      <td>107</td>\n",
              "      <td>1</td>\n",
              "    </tr>\n",
              "    <tr>\n",
              "      <th>2798</th>\n",
              "      <td>Merge pull request #12558 from danielrentz/pat...</td>\n",
              "      <td>Chaoshuai Lü</td>\n",
              "      <td>matrush@qq.com</td>\n",
              "      <td>2022-07-05 18:52:20</td>\n",
              "      <td>[docusaurus/docs/setting-up-your-editor.md]</td>\n",
              "      <td>matrush</td>\n",
              "      <td>False</td>\n",
              "      <td>85</td>\n",
              "      <td>1</td>\n",
              "    </tr>\n",
              "    <tr>\n",
              "      <th>2799</th>\n",
              "      <td>docs: fix link of \"Building for Relative Paths...</td>\n",
              "      <td>ryan.c</td>\n",
              "      <td>jackblackevo@gmail.com</td>\n",
              "      <td>2022-09-08 07:40:47</td>\n",
              "      <td>[docusaurus/docs/advanced-configuration.md]</td>\n",
              "      <td>jackblackevo</td>\n",
              "      <td>True</td>\n",
              "      <td>56</td>\n",
              "      <td>1</td>\n",
              "    </tr>\n",
              "  </tbody>\n",
              "</table>\n",
              "<p>2800 rows × 9 columns</p>\n",
              "</div>\n",
              "      <button class=\"colab-df-convert\" onclick=\"convertToInteractive('df-0ccb4342-c2f3-4a0b-b14e-201fc0917297')\"\n",
              "              title=\"Convert this dataframe to an interactive table.\"\n",
              "              style=\"display:none;\">\n",
              "        \n",
              "  <svg xmlns=\"http://www.w3.org/2000/svg\" height=\"24px\"viewBox=\"0 0 24 24\"\n",
              "       width=\"24px\">\n",
              "    <path d=\"M0 0h24v24H0V0z\" fill=\"none\"/>\n",
              "    <path d=\"M18.56 5.44l.94 2.06.94-2.06 2.06-.94-2.06-.94-.94-2.06-.94 2.06-2.06.94zm-11 1L8.5 8.5l.94-2.06 2.06-.94-2.06-.94L8.5 2.5l-.94 2.06-2.06.94zm10 10l.94 2.06.94-2.06 2.06-.94-2.06-.94-.94-2.06-.94 2.06-2.06.94z\"/><path d=\"M17.41 7.96l-1.37-1.37c-.4-.4-.92-.59-1.43-.59-.52 0-1.04.2-1.43.59L10.3 9.45l-7.72 7.72c-.78.78-.78 2.05 0 2.83L4 21.41c.39.39.9.59 1.41.59.51 0 1.02-.2 1.41-.59l7.78-7.78 2.81-2.81c.8-.78.8-2.07 0-2.86zM5.41 20L4 18.59l7.72-7.72 1.47 1.35L5.41 20z\"/>\n",
              "  </svg>\n",
              "      </button>\n",
              "      \n",
              "  <style>\n",
              "    .colab-df-container {\n",
              "      display:flex;\n",
              "      flex-wrap:wrap;\n",
              "      gap: 12px;\n",
              "    }\n",
              "\n",
              "    .colab-df-convert {\n",
              "      background-color: #E8F0FE;\n",
              "      border: none;\n",
              "      border-radius: 50%;\n",
              "      cursor: pointer;\n",
              "      display: none;\n",
              "      fill: #1967D2;\n",
              "      height: 32px;\n",
              "      padding: 0 0 0 0;\n",
              "      width: 32px;\n",
              "    }\n",
              "\n",
              "    .colab-df-convert:hover {\n",
              "      background-color: #E2EBFA;\n",
              "      box-shadow: 0px 1px 2px rgba(60, 64, 67, 0.3), 0px 1px 3px 1px rgba(60, 64, 67, 0.15);\n",
              "      fill: #174EA6;\n",
              "    }\n",
              "\n",
              "    [theme=dark] .colab-df-convert {\n",
              "      background-color: #3B4455;\n",
              "      fill: #D2E3FC;\n",
              "    }\n",
              "\n",
              "    [theme=dark] .colab-df-convert:hover {\n",
              "      background-color: #434B5C;\n",
              "      box-shadow: 0px 1px 3px 1px rgba(0, 0, 0, 0.15);\n",
              "      filter: drop-shadow(0px 1px 2px rgba(0, 0, 0, 0.3));\n",
              "      fill: #FFFFFF;\n",
              "    }\n",
              "  </style>\n",
              "\n",
              "      <script>\n",
              "        const buttonEl =\n",
              "          document.querySelector('#df-0ccb4342-c2f3-4a0b-b14e-201fc0917297 button.colab-df-convert');\n",
              "        buttonEl.style.display =\n",
              "          google.colab.kernel.accessAllowed ? 'block' : 'none';\n",
              "\n",
              "        async function convertToInteractive(key) {\n",
              "          const element = document.querySelector('#df-0ccb4342-c2f3-4a0b-b14e-201fc0917297');\n",
              "          const dataTable =\n",
              "            await google.colab.kernel.invokeFunction('convertToInteractive',\n",
              "                                                     [key], {});\n",
              "          if (!dataTable) return;\n",
              "\n",
              "          const docLinkHtml = 'Like what you see? Visit the ' +\n",
              "            '<a target=\"_blank\" href=https://colab.research.google.com/notebooks/data_table.ipynb>data table notebook</a>'\n",
              "            + ' to learn more about interactive tables.';\n",
              "          element.innerHTML = '';\n",
              "          dataTable['output_type'] = 'display_data';\n",
              "          await google.colab.output.renderOutput(dataTable, element);\n",
              "          const docLink = document.createElement('div');\n",
              "          docLink.innerHTML = docLinkHtml;\n",
              "          element.appendChild(docLink);\n",
              "        }\n",
              "      </script>\n",
              "    </div>\n",
              "  </div>\n",
              "  "
            ]
          },
          "metadata": {},
          "execution_count": 304
        }
      ],
      "source": [
        "df['Files Changed'] = df['Files Changed'].apply(ast.literal_eval)\n",
        "df['Files Changed Count'] = df['Files Changed'].apply(lambda x: len(x) if isinstance(x, list) else 0)\n",
        "df\n"
      ]
    },
    {
      "cell_type": "markdown",
      "metadata": {
        "id": "7aIbn4KK0MHR"
      },
      "source": [
        "# Data Analyst"
      ]
    },
    {
      "cell_type": "markdown",
      "metadata": {
        "id": "XvwTjbuYtq5s"
      },
      "source": [
        "**Top 5 longest Commit Message**"
      ]
    },
    {
      "cell_type": "code",
      "execution_count": 305,
      "metadata": {
        "colab": {
          "base_uri": "https://localhost:8080/",
          "height": 441
        },
        "id": "1Eut2LsIt5HE",
        "outputId": "584a4339-0270-44fb-92da-25fe8ab02087"
      },
      "outputs": [
        {
          "output_type": "execute_result",
          "data": {
            "text/plain": [
              "                                         Commit Message     Author Name  \\\n",
              "805   Add runtime error overlay (#1101)\\n\\n* Add red...      Joe Haddad   \n",
              "2454  Remove React.FC from Typescript template (#817...          Retsam   \n",
              "1449  Add support for yarn and lerna monorepos. (#37...  bradfordlemley   \n",
              "549   add logging of existing default port process o...     Ian McNally   \n",
              "2071  Speed up TypeScript projects (#5903)\\n\\nAs a l...     Tomáš Szabo   \n",
              "\n",
              "                         Author Email          Updated at  \\\n",
              "805                timer150@gmail.com 2017-03-07 02:59:57   \n",
              "2454  Retsam@users.noreply.github.com 2020-01-22 21:32:49   \n",
              "1449         bradfordlemley@gmail.com 2018-02-01 20:58:18   \n",
              "549              ianmcnally@gmail.com 2016-11-22 20:44:21   \n",
              "2071         tomas.szabo@deftomat.com 2019-02-08 03:34:52   \n",
              "\n",
              "                                          Files Changed     Contributor  \\\n",
              "805   [packages/react-dev-utils/ansiHTML.js, package...           Timer   \n",
              "2454  [packages/cra-template-typescript/template/src...          Retsam   \n",
              "1449  [.travis.yml, appveyor.yml, packages/react-scr...  bradfordlemley   \n",
              "549   [packages/react-dev-utils/README.md, packages/...      ianmcnally   \n",
              "2071  [packages/react-dev-utils/WebpackDevServerUtil...        deftomat   \n",
              "\n",
              "      All Checks Passed  Additions commit  Files Changed Count  \n",
              "805                True              4585                    5  \n",
              "2454               True              4027                    1  \n",
              "1449               True              2190                   33  \n",
              "549                True              1934                    4  \n",
              "2071               True              1685                   11  "
            ],
            "text/html": [
              "\n",
              "  <div id=\"df-39017a53-3c4e-42c1-bece-c4567792422e\">\n",
              "    <div class=\"colab-df-container\">\n",
              "      <div>\n",
              "<style scoped>\n",
              "    .dataframe tbody tr th:only-of-type {\n",
              "        vertical-align: middle;\n",
              "    }\n",
              "\n",
              "    .dataframe tbody tr th {\n",
              "        vertical-align: top;\n",
              "    }\n",
              "\n",
              "    .dataframe thead th {\n",
              "        text-align: right;\n",
              "    }\n",
              "</style>\n",
              "<table border=\"1\" class=\"dataframe\">\n",
              "  <thead>\n",
              "    <tr style=\"text-align: right;\">\n",
              "      <th></th>\n",
              "      <th>Commit Message</th>\n",
              "      <th>Author Name</th>\n",
              "      <th>Author Email</th>\n",
              "      <th>Updated at</th>\n",
              "      <th>Files Changed</th>\n",
              "      <th>Contributor</th>\n",
              "      <th>All Checks Passed</th>\n",
              "      <th>Additions commit</th>\n",
              "      <th>Files Changed Count</th>\n",
              "    </tr>\n",
              "  </thead>\n",
              "  <tbody>\n",
              "    <tr>\n",
              "      <th>805</th>\n",
              "      <td>Add runtime error overlay (#1101)\\n\\n* Add red...</td>\n",
              "      <td>Joe Haddad</td>\n",
              "      <td>timer150@gmail.com</td>\n",
              "      <td>2017-03-07 02:59:57</td>\n",
              "      <td>[packages/react-dev-utils/ansiHTML.js, package...</td>\n",
              "      <td>Timer</td>\n",
              "      <td>True</td>\n",
              "      <td>4585</td>\n",
              "      <td>5</td>\n",
              "    </tr>\n",
              "    <tr>\n",
              "      <th>2454</th>\n",
              "      <td>Remove React.FC from Typescript template (#817...</td>\n",
              "      <td>Retsam</td>\n",
              "      <td>Retsam@users.noreply.github.com</td>\n",
              "      <td>2020-01-22 21:32:49</td>\n",
              "      <td>[packages/cra-template-typescript/template/src...</td>\n",
              "      <td>Retsam</td>\n",
              "      <td>True</td>\n",
              "      <td>4027</td>\n",
              "      <td>1</td>\n",
              "    </tr>\n",
              "    <tr>\n",
              "      <th>1449</th>\n",
              "      <td>Add support for yarn and lerna monorepos. (#37...</td>\n",
              "      <td>bradfordlemley</td>\n",
              "      <td>bradfordlemley@gmail.com</td>\n",
              "      <td>2018-02-01 20:58:18</td>\n",
              "      <td>[.travis.yml, appveyor.yml, packages/react-scr...</td>\n",
              "      <td>bradfordlemley</td>\n",
              "      <td>True</td>\n",
              "      <td>2190</td>\n",
              "      <td>33</td>\n",
              "    </tr>\n",
              "    <tr>\n",
              "      <th>549</th>\n",
              "      <td>add logging of existing default port process o...</td>\n",
              "      <td>Ian McNally</td>\n",
              "      <td>ianmcnally@gmail.com</td>\n",
              "      <td>2016-11-22 20:44:21</td>\n",
              "      <td>[packages/react-dev-utils/README.md, packages/...</td>\n",
              "      <td>ianmcnally</td>\n",
              "      <td>True</td>\n",
              "      <td>1934</td>\n",
              "      <td>4</td>\n",
              "    </tr>\n",
              "    <tr>\n",
              "      <th>2071</th>\n",
              "      <td>Speed up TypeScript projects (#5903)\\n\\nAs a l...</td>\n",
              "      <td>Tomáš Szabo</td>\n",
              "      <td>tomas.szabo@deftomat.com</td>\n",
              "      <td>2019-02-08 03:34:52</td>\n",
              "      <td>[packages/react-dev-utils/WebpackDevServerUtil...</td>\n",
              "      <td>deftomat</td>\n",
              "      <td>True</td>\n",
              "      <td>1685</td>\n",
              "      <td>11</td>\n",
              "    </tr>\n",
              "  </tbody>\n",
              "</table>\n",
              "</div>\n",
              "      <button class=\"colab-df-convert\" onclick=\"convertToInteractive('df-39017a53-3c4e-42c1-bece-c4567792422e')\"\n",
              "              title=\"Convert this dataframe to an interactive table.\"\n",
              "              style=\"display:none;\">\n",
              "        \n",
              "  <svg xmlns=\"http://www.w3.org/2000/svg\" height=\"24px\"viewBox=\"0 0 24 24\"\n",
              "       width=\"24px\">\n",
              "    <path d=\"M0 0h24v24H0V0z\" fill=\"none\"/>\n",
              "    <path d=\"M18.56 5.44l.94 2.06.94-2.06 2.06-.94-2.06-.94-.94-2.06-.94 2.06-2.06.94zm-11 1L8.5 8.5l.94-2.06 2.06-.94-2.06-.94L8.5 2.5l-.94 2.06-2.06.94zm10 10l.94 2.06.94-2.06 2.06-.94-2.06-.94-.94-2.06-.94 2.06-2.06.94z\"/><path d=\"M17.41 7.96l-1.37-1.37c-.4-.4-.92-.59-1.43-.59-.52 0-1.04.2-1.43.59L10.3 9.45l-7.72 7.72c-.78.78-.78 2.05 0 2.83L4 21.41c.39.39.9.59 1.41.59.51 0 1.02-.2 1.41-.59l7.78-7.78 2.81-2.81c.8-.78.8-2.07 0-2.86zM5.41 20L4 18.59l7.72-7.72 1.47 1.35L5.41 20z\"/>\n",
              "  </svg>\n",
              "      </button>\n",
              "      \n",
              "  <style>\n",
              "    .colab-df-container {\n",
              "      display:flex;\n",
              "      flex-wrap:wrap;\n",
              "      gap: 12px;\n",
              "    }\n",
              "\n",
              "    .colab-df-convert {\n",
              "      background-color: #E8F0FE;\n",
              "      border: none;\n",
              "      border-radius: 50%;\n",
              "      cursor: pointer;\n",
              "      display: none;\n",
              "      fill: #1967D2;\n",
              "      height: 32px;\n",
              "      padding: 0 0 0 0;\n",
              "      width: 32px;\n",
              "    }\n",
              "\n",
              "    .colab-df-convert:hover {\n",
              "      background-color: #E2EBFA;\n",
              "      box-shadow: 0px 1px 2px rgba(60, 64, 67, 0.3), 0px 1px 3px 1px rgba(60, 64, 67, 0.15);\n",
              "      fill: #174EA6;\n",
              "    }\n",
              "\n",
              "    [theme=dark] .colab-df-convert {\n",
              "      background-color: #3B4455;\n",
              "      fill: #D2E3FC;\n",
              "    }\n",
              "\n",
              "    [theme=dark] .colab-df-convert:hover {\n",
              "      background-color: #434B5C;\n",
              "      box-shadow: 0px 1px 3px 1px rgba(0, 0, 0, 0.15);\n",
              "      filter: drop-shadow(0px 1px 2px rgba(0, 0, 0, 0.3));\n",
              "      fill: #FFFFFF;\n",
              "    }\n",
              "  </style>\n",
              "\n",
              "      <script>\n",
              "        const buttonEl =\n",
              "          document.querySelector('#df-39017a53-3c4e-42c1-bece-c4567792422e button.colab-df-convert');\n",
              "        buttonEl.style.display =\n",
              "          google.colab.kernel.accessAllowed ? 'block' : 'none';\n",
              "\n",
              "        async function convertToInteractive(key) {\n",
              "          const element = document.querySelector('#df-39017a53-3c4e-42c1-bece-c4567792422e');\n",
              "          const dataTable =\n",
              "            await google.colab.kernel.invokeFunction('convertToInteractive',\n",
              "                                                     [key], {});\n",
              "          if (!dataTable) return;\n",
              "\n",
              "          const docLinkHtml = 'Like what you see? Visit the ' +\n",
              "            '<a target=\"_blank\" href=https://colab.research.google.com/notebooks/data_table.ipynb>data table notebook</a>'\n",
              "            + ' to learn more about interactive tables.';\n",
              "          element.innerHTML = '';\n",
              "          dataTable['output_type'] = 'display_data';\n",
              "          await google.colab.output.renderOutput(dataTable, element);\n",
              "          const docLink = document.createElement('div');\n",
              "          docLink.innerHTML = docLinkHtml;\n",
              "          element.appendChild(docLink);\n",
              "        }\n",
              "      </script>\n",
              "    </div>\n",
              "  </div>\n",
              "  "
            ]
          },
          "metadata": {},
          "execution_count": 305
        }
      ],
      "source": [
        "sorted_df = df.sort_values('Additions commit', ascending=False)\n",
        "sorted_df.head(5)"
      ]
    },
    {
      "cell_type": "markdown",
      "metadata": {
        "id": "9a-io2sk04XH"
      },
      "source": [
        "**Top 5 most commiting people**"
      ]
    },
    {
      "cell_type": "code",
      "execution_count": 306,
      "metadata": {
        "colab": {
          "base_uri": "https://localhost:8080/"
        },
        "id": "FCMRyLXPgnxR",
        "outputId": "ff63fb44-585f-4b8d-def1-b924d29406db"
      },
      "outputs": [
        {
          "output_type": "execute_result",
          "data": {
            "text/plain": [
              "Dan Abramov          650\n",
              "Joe Haddad           293\n",
              "Ian Sutherland       153\n",
              "Kristofer Selbekk     91\n",
              "Ian Schmitz           85\n",
              "Name: Author Name, dtype: int64"
            ]
          },
          "metadata": {},
          "execution_count": 306
        }
      ],
      "source": [
        "df['Author Name'].value_counts().head(5)"
      ]
    },
    {
      "cell_type": "markdown",
      "metadata": {
        "id": "7ulWFzgZf2lf"
      },
      "source": [
        "**Top 5 most active contributors**"
      ]
    },
    {
      "cell_type": "code",
      "execution_count": 307,
      "metadata": {
        "colab": {
          "base_uri": "https://localhost:8080/"
        },
        "id": "H-kEGmUMf11z",
        "outputId": "ec4d7b06-544e-45a4-b2ae-056331e5fdcf"
      },
      "outputs": [
        {
          "output_type": "execute_result",
          "data": {
            "text/plain": [
              "gaearon       655\n",
              "Timer         293\n",
              "iansu         153\n",
              "ianschmitz     85\n",
              "selbekk        77\n",
              "Name: Contributor, dtype: int64"
            ]
          },
          "metadata": {},
          "execution_count": 307
        }
      ],
      "source": [
        "contributors = df['Contributor'].value_counts()\n",
        "contributors.head(5)"
      ]
    },
    {
      "cell_type": "markdown",
      "metadata": {
        "id": "M0Np0uiz0w7V"
      },
      "source": [
        "**Top 5 most popular type of email**"
      ]
    },
    {
      "cell_type": "code",
      "execution_count": 308,
      "metadata": {
        "colab": {
          "base_uri": "https://localhost:8080/"
        },
        "id": "-pricuYFhjK0",
        "outputId": "3448ab85-e22b-4b3a-e14a-c3d54928fc9c"
      },
      "outputs": [
        {
          "output_type": "execute_result",
          "data": {
            "text/plain": [
              "gmail.com           1767\n",
              "users.noreply        308\n",
              "iansutherland.ca     153\n",
              "fb.com                62\n",
              "iki.fi                51\n",
              "Name: Email Type, dtype: int64"
            ]
          },
          "metadata": {},
          "execution_count": 308
        }
      ],
      "source": [
        "df[\"Email Type\"] = df[\"Author Email\"].str.extract(r'@(\\w+\\.\\w+)')\n",
        "email_type_counts = df['Email Type'].value_counts()\n",
        "email_type_counts.head(5)"
      ]
    },
    {
      "cell_type": "markdown",
      "metadata": {
        "id": "BjA5iSWiiVNk"
      },
      "source": [
        "**Top 5 Author Email make the most commit**"
      ]
    },
    {
      "cell_type": "code",
      "execution_count": 309,
      "metadata": {
        "colab": {
          "base_uri": "https://localhost:8080/",
          "height": 206
        },
        "id": "jXCwSTXt0gcD",
        "outputId": "7de00e46-6364-4eb2-92ed-c480dbbff48e"
      },
      "outputs": [
        {
          "output_type": "execute_result",
          "data": {
            "text/plain": [
              "            Author Email  Commits     Author Name\n",
              "0  dan.abramov@gmail.com      635     Dan Abramov\n",
              "1     timer150@gmail.com      292      Joe Haddad\n",
              "2   ian@iansutherland.ca      153     Ian Schmitz\n",
              "3   ianschmitz@gmail.com       85  Ian Sutherland\n",
              "4     selbeezy@gmail.com       65             Dan"
            ],
            "text/html": [
              "\n",
              "  <div id=\"df-d20c0f80-d495-4b8c-b9ac-271b4f9382f9\">\n",
              "    <div class=\"colab-df-container\">\n",
              "      <div>\n",
              "<style scoped>\n",
              "    .dataframe tbody tr th:only-of-type {\n",
              "        vertical-align: middle;\n",
              "    }\n",
              "\n",
              "    .dataframe tbody tr th {\n",
              "        vertical-align: top;\n",
              "    }\n",
              "\n",
              "    .dataframe thead th {\n",
              "        text-align: right;\n",
              "    }\n",
              "</style>\n",
              "<table border=\"1\" class=\"dataframe\">\n",
              "  <thead>\n",
              "    <tr style=\"text-align: right;\">\n",
              "      <th></th>\n",
              "      <th>Author Email</th>\n",
              "      <th>Commits</th>\n",
              "      <th>Author Name</th>\n",
              "    </tr>\n",
              "  </thead>\n",
              "  <tbody>\n",
              "    <tr>\n",
              "      <th>0</th>\n",
              "      <td>dan.abramov@gmail.com</td>\n",
              "      <td>635</td>\n",
              "      <td>Dan Abramov</td>\n",
              "    </tr>\n",
              "    <tr>\n",
              "      <th>1</th>\n",
              "      <td>timer150@gmail.com</td>\n",
              "      <td>292</td>\n",
              "      <td>Joe Haddad</td>\n",
              "    </tr>\n",
              "    <tr>\n",
              "      <th>2</th>\n",
              "      <td>ian@iansutherland.ca</td>\n",
              "      <td>153</td>\n",
              "      <td>Ian Schmitz</td>\n",
              "    </tr>\n",
              "    <tr>\n",
              "      <th>3</th>\n",
              "      <td>ianschmitz@gmail.com</td>\n",
              "      <td>85</td>\n",
              "      <td>Ian Sutherland</td>\n",
              "    </tr>\n",
              "    <tr>\n",
              "      <th>4</th>\n",
              "      <td>selbeezy@gmail.com</td>\n",
              "      <td>65</td>\n",
              "      <td>Dan</td>\n",
              "    </tr>\n",
              "  </tbody>\n",
              "</table>\n",
              "</div>\n",
              "      <button class=\"colab-df-convert\" onclick=\"convertToInteractive('df-d20c0f80-d495-4b8c-b9ac-271b4f9382f9')\"\n",
              "              title=\"Convert this dataframe to an interactive table.\"\n",
              "              style=\"display:none;\">\n",
              "        \n",
              "  <svg xmlns=\"http://www.w3.org/2000/svg\" height=\"24px\"viewBox=\"0 0 24 24\"\n",
              "       width=\"24px\">\n",
              "    <path d=\"M0 0h24v24H0V0z\" fill=\"none\"/>\n",
              "    <path d=\"M18.56 5.44l.94 2.06.94-2.06 2.06-.94-2.06-.94-.94-2.06-.94 2.06-2.06.94zm-11 1L8.5 8.5l.94-2.06 2.06-.94-2.06-.94L8.5 2.5l-.94 2.06-2.06.94zm10 10l.94 2.06.94-2.06 2.06-.94-2.06-.94-.94-2.06-.94 2.06-2.06.94z\"/><path d=\"M17.41 7.96l-1.37-1.37c-.4-.4-.92-.59-1.43-.59-.52 0-1.04.2-1.43.59L10.3 9.45l-7.72 7.72c-.78.78-.78 2.05 0 2.83L4 21.41c.39.39.9.59 1.41.59.51 0 1.02-.2 1.41-.59l7.78-7.78 2.81-2.81c.8-.78.8-2.07 0-2.86zM5.41 20L4 18.59l7.72-7.72 1.47 1.35L5.41 20z\"/>\n",
              "  </svg>\n",
              "      </button>\n",
              "      \n",
              "  <style>\n",
              "    .colab-df-container {\n",
              "      display:flex;\n",
              "      flex-wrap:wrap;\n",
              "      gap: 12px;\n",
              "    }\n",
              "\n",
              "    .colab-df-convert {\n",
              "      background-color: #E8F0FE;\n",
              "      border: none;\n",
              "      border-radius: 50%;\n",
              "      cursor: pointer;\n",
              "      display: none;\n",
              "      fill: #1967D2;\n",
              "      height: 32px;\n",
              "      padding: 0 0 0 0;\n",
              "      width: 32px;\n",
              "    }\n",
              "\n",
              "    .colab-df-convert:hover {\n",
              "      background-color: #E2EBFA;\n",
              "      box-shadow: 0px 1px 2px rgba(60, 64, 67, 0.3), 0px 1px 3px 1px rgba(60, 64, 67, 0.15);\n",
              "      fill: #174EA6;\n",
              "    }\n",
              "\n",
              "    [theme=dark] .colab-df-convert {\n",
              "      background-color: #3B4455;\n",
              "      fill: #D2E3FC;\n",
              "    }\n",
              "\n",
              "    [theme=dark] .colab-df-convert:hover {\n",
              "      background-color: #434B5C;\n",
              "      box-shadow: 0px 1px 3px 1px rgba(0, 0, 0, 0.15);\n",
              "      filter: drop-shadow(0px 1px 2px rgba(0, 0, 0, 0.3));\n",
              "      fill: #FFFFFF;\n",
              "    }\n",
              "  </style>\n",
              "\n",
              "      <script>\n",
              "        const buttonEl =\n",
              "          document.querySelector('#df-d20c0f80-d495-4b8c-b9ac-271b4f9382f9 button.colab-df-convert');\n",
              "        buttonEl.style.display =\n",
              "          google.colab.kernel.accessAllowed ? 'block' : 'none';\n",
              "\n",
              "        async function convertToInteractive(key) {\n",
              "          const element = document.querySelector('#df-d20c0f80-d495-4b8c-b9ac-271b4f9382f9');\n",
              "          const dataTable =\n",
              "            await google.colab.kernel.invokeFunction('convertToInteractive',\n",
              "                                                     [key], {});\n",
              "          if (!dataTable) return;\n",
              "\n",
              "          const docLinkHtml = 'Like what you see? Visit the ' +\n",
              "            '<a target=\"_blank\" href=https://colab.research.google.com/notebooks/data_table.ipynb>data table notebook</a>'\n",
              "            + ' to learn more about interactive tables.';\n",
              "          element.innerHTML = '';\n",
              "          dataTable['output_type'] = 'display_data';\n",
              "          await google.colab.output.renderOutput(dataTable, element);\n",
              "          const docLink = document.createElement('div');\n",
              "          docLink.innerHTML = docLinkHtml;\n",
              "          element.appendChild(docLink);\n",
              "        }\n",
              "      </script>\n",
              "    </div>\n",
              "  </div>\n",
              "  "
            ]
          },
          "metadata": {},
          "execution_count": 309
        }
      ],
      "source": [
        "top_5_emails = df['Author Email'].value_counts().head(5)\n",
        "top_5_authors = df[df['Author Email'].isin(top_5_emails.index)]['Author Name'].unique()\n",
        "top_5_contributors = pd.DataFrame({'Author Email': top_5_emails.index, 'Commits': top_5_emails.values})\n",
        "top_5_contributors['Author Name'] = top_5_contributors['Author Email'].map(dict(zip(top_5_emails.index, top_5_authors)))\n",
        "top_5_contributors"
      ]
    },
    {
      "cell_type": "markdown",
      "metadata": {
        "id": "WF_5Z8b_ojHC"
      },
      "source": [
        "**Find the most commons word in commit messages**"
      ]
    },
    {
      "cell_type": "code",
      "execution_count": 310,
      "metadata": {
        "colab": {
          "base_uri": "https://localhost:8080/"
        },
        "id": "Ejv_cHhEoyhk",
        "outputId": "569bec81-6dc6-48e4-9f49-391ea0944b32"
      },
      "outputs": [
        {
          "output_type": "stream",
          "name": "stdout",
          "text": [
            "The most commons word in commit messages : add\n",
            "Frequency : 855\n"
          ]
        }
      ],
      "source": [
        "from nltk.corpus import stopwords\n",
        "from collections import Counter\n",
        "commit_messages = ' '.join(df['Commit Message'].astype(str).values)\n",
        "tokens = nltk.word_tokenize(commit_messages)\n",
        "stop_words = set(stopwords.words('english'))\n",
        "filtered_tokens = [word.lower() for word in tokens if word.lower() not in stop_words and word.isalpha()]\n",
        "word_frequency = Counter(filtered_tokens)\n",
        "most_common_word = word_frequency.most_common()\n",
        "print (\"The most commons word in commit messages : \" + most_common_word[0][0])\n",
        "print (\"Frequency : \" + str(most_common_word[0][1]))"
      ]
    },
    {
      "cell_type": "code",
      "execution_count": 311,
      "metadata": {
        "colab": {
          "base_uri": "https://localhost:8080/"
        },
        "id": "Ji64xxPWsKVS",
        "outputId": "527aeada-4602-41ea-81fe-d59f7dfa50c6"
      },
      "outputs": [
        {
          "output_type": "execute_result",
          "data": {
            "text/plain": [
              "[('add', 855), ('update', 751), ('fix', 583), ('remove', 303), ('use', 300)]"
            ]
          },
          "metadata": {},
          "execution_count": 311
        }
      ],
      "source": [
        "word_frequency.most_common(5)"
      ]
    },
    {
      "cell_type": "markdown",
      "metadata": {
        "id": "ZNynGXI0xixM"
      },
      "source": [
        "**Find the file that changes the most times**"
      ]
    },
    {
      "cell_type": "code",
      "execution_count": 312,
      "metadata": {
        "colab": {
          "base_uri": "https://localhost:8080/"
        },
        "id": "iti-CqNdtVmw",
        "outputId": "4798a169-319f-4c96-b5d9-8ebb8ddecef7"
      },
      "outputs": [
        {
          "output_type": "stream",
          "name": "stdout",
          "text": [
            "Most changed file: packages/react-scripts/package.json\n",
            "Frequency: 392\n"
          ]
        }
      ],
      "source": [
        "df_exploded = df.explode('Files Changed')\n",
        "\n",
        "file_counts = df_exploded['Files Changed'].value_counts()\n",
        "\n",
        "most_changed_file = file_counts.idxmax()\n",
        "file_change_frequency = file_counts.max()\n",
        "\n",
        "print(\"Most changed file:\", most_changed_file)\n",
        "print(\"Frequency:\", file_change_frequency)"
      ]
    },
    {
      "cell_type": "markdown",
      "metadata": {
        "id": "DXsr3JrNs1Nw"
      },
      "source": [
        "**The frequency of commits**"
      ]
    },
    {
      "cell_type": "markdown",
      "metadata": {
        "id": "3wmlK0wT7lbY"
      },
      "source": [
        "Calculate the frequency of commits by days"
      ]
    },
    {
      "cell_type": "code",
      "execution_count": 313,
      "metadata": {
        "colab": {
          "base_uri": "https://localhost:8080/"
        },
        "id": "FCP9gehcxJ9S",
        "outputId": "33592f91-8ef4-4d43-b4b9-c71ed1ac920b"
      },
      "outputs": [
        {
          "output_type": "execute_result",
          "data": {
            "text/plain": [
              "Updated at\n",
              "2021-11-30     0\n",
              "2021-09-16     0\n",
              "2021-09-17     0\n",
              "2021-09-18     0\n",
              "2021-09-19     0\n",
              "              ..\n",
              "2018-01-08    29\n",
              "2016-09-23    31\n",
              "2017-05-19    32\n",
              "2018-10-01    35\n",
              "2018-10-07    54\n",
              "Length: 2247, dtype: int64"
            ]
          },
          "metadata": {},
          "execution_count": 313
        }
      ],
      "source": [
        "df.set_index('Updated at', inplace = True)\n",
        "commit_frequency_days = df.resample('D').size()\n",
        "commit_frequency_days.sort_values()"
      ]
    },
    {
      "cell_type": "markdown",
      "metadata": {
        "id": "BUMPDS-9724d"
      },
      "source": [
        "Calculate the frequency of commits by weeks"
      ]
    },
    {
      "cell_type": "code",
      "execution_count": 314,
      "metadata": {
        "colab": {
          "base_uri": "https://localhost:8080/"
        },
        "id": "VlEd-zfA7wKO",
        "outputId": "2c9018dc-b432-41e5-fc5f-98d47714b1b8"
      },
      "outputs": [
        {
          "output_type": "execute_result",
          "data": {
            "text/plain": [
              "Updated at\n",
              "2022-01-09      0\n",
              "2018-09-09      0\n",
              "2018-09-16      0\n",
              "2022-04-03      0\n",
              "2021-01-31      0\n",
              "             ... \n",
              "2018-09-30     71\n",
              "2017-05-21    105\n",
              "2018-01-14    107\n",
              "2016-07-24    113\n",
              "2018-10-07    134\n",
              "Length: 322, dtype: int64"
            ]
          },
          "metadata": {},
          "execution_count": 314
        }
      ],
      "source": [
        "commit_frequency_weeks = df.resample('W').size()\n",
        "commit_frequency_weeks.sort_values()"
      ]
    },
    {
      "cell_type": "markdown",
      "metadata": {
        "id": "ijxpZtEN8uFw"
      },
      "source": [
        "Calculate the frequency of commits by months"
      ]
    },
    {
      "cell_type": "code",
      "execution_count": 315,
      "metadata": {
        "colab": {
          "base_uri": "https://localhost:8080/"
        },
        "id": "Obb9Dc9z8hkU",
        "outputId": "c3fa3f66-b20e-4a45-baec-deb743094f71"
      },
      "outputs": [
        {
          "output_type": "execute_result",
          "data": {
            "text/plain": [
              "Updated at\n",
              "2022-08-31      0\n",
              "2022-09-30      1\n",
              "2022-05-31      1\n",
              "2022-02-28      1\n",
              "2021-01-31      2\n",
              "             ... \n",
              "2016-09-30    163\n",
              "2018-01-31    169\n",
              "2017-05-31    180\n",
              "2016-07-31    221\n",
              "2018-10-31    260\n",
              "Length: 75, dtype: int64"
            ]
          },
          "metadata": {},
          "execution_count": 315
        }
      ],
      "source": [
        "commit_frequency_months = df.resample('M').size()\n",
        "commit_frequency_months.sort_values()"
      ]
    },
    {
      "cell_type": "markdown",
      "metadata": {
        "id": "wfeH28fy86NZ"
      },
      "source": [
        "Calculate the frequency of commits by years"
      ]
    },
    {
      "cell_type": "code",
      "execution_count": 316,
      "metadata": {
        "colab": {
          "base_uri": "https://localhost:8080/"
        },
        "id": "vyE-ETO681qF",
        "outputId": "b551cf8f-e9bd-4d6c-e6c1-0c65d038fbb3"
      },
      "outputs": [
        {
          "output_type": "execute_result",
          "data": {
            "text/plain": [
              "Updated at\n",
              "2022-12-31     50\n",
              "2021-12-31     91\n",
              "2020-12-31    209\n",
              "2019-12-31    412\n",
              "2016-12-31    630\n",
              "2017-12-31    650\n",
              "2018-12-31    758\n",
              "dtype: int64"
            ]
          },
          "metadata": {},
          "execution_count": 316
        }
      ],
      "source": [
        "commit_frequency_years = df.resample('Y').size()\n",
        "commit_frequency_years.sort_values()"
      ]
    },
    {
      "cell_type": "markdown",
      "metadata": {
        "id": "7kUWgVhH9Kzg"
      },
      "source": [
        "**Find the individuals who have a high percentage of \"All Checks Passed\"**"
      ]
    },
    {
      "cell_type": "code",
      "execution_count": 317,
      "metadata": {
        "id": "ab199RfO9GrW"
      },
      "outputs": [],
      "source": [
        "filtered_commit = df.groupby('Author Name').filter(lambda x: len(x) > 10)"
      ]
    },
    {
      "cell_type": "code",
      "execution_count": 318,
      "metadata": {
        "id": "ZAmNyVWmAaRJ"
      },
      "outputs": [],
      "source": [
        "grouped_commit = filtered_commit.groupby('Author Name').agg({'All Checks Passed': 'mean'})"
      ]
    },
    {
      "cell_type": "code",
      "execution_count": 319,
      "metadata": {
        "id": "Yc_gMtceEZHC"
      },
      "outputs": [],
      "source": [
        "filtered_grouped_df = grouped_commit[grouped_commit['All Checks Passed'] > 0.8]"
      ]
    },
    {
      "cell_type": "code",
      "execution_count": 320,
      "metadata": {
        "colab": {
          "base_uri": "https://localhost:8080/",
          "height": 488
        },
        "id": "KRe42iAEGf_4",
        "outputId": "5570d222-36a5-49d4-d52c-feee65985f93"
      },
      "outputs": [
        {
          "output_type": "execute_result",
          "data": {
            "text/plain": [
              "                         All Checks Passed  commit_count\n",
              "Author Name                                             \n",
              "Ade Viankakrisna Fadlil           1.000000            23\n",
              "Andreas Cederström                1.000000            18\n",
              "Christopher Chedeau               1.000000            28\n",
              "Jack Zhao                         1.000000            24\n",
              "Jeffrey Posnick                   1.000000            11\n",
              "Joe Haddad                        1.000000           293\n",
              "Kristofer Selbekk                 1.000000            91\n",
              "Michaël De Boey                   1.000000            18\n",
              "Ville Immonen                     1.000000            50\n",
              "Dan Abramov                       0.995385           650\n",
              "Ian Schmitz                       0.988235            85\n",
              "Ian Sutherland                    0.954248           153\n",
              "Brody McKee                       0.857143            28"
            ],
            "text/html": [
              "\n",
              "  <div id=\"df-1791169d-4bf5-4963-a11a-64601a72800d\">\n",
              "    <div class=\"colab-df-container\">\n",
              "      <div>\n",
              "<style scoped>\n",
              "    .dataframe tbody tr th:only-of-type {\n",
              "        vertical-align: middle;\n",
              "    }\n",
              "\n",
              "    .dataframe tbody tr th {\n",
              "        vertical-align: top;\n",
              "    }\n",
              "\n",
              "    .dataframe thead th {\n",
              "        text-align: right;\n",
              "    }\n",
              "</style>\n",
              "<table border=\"1\" class=\"dataframe\">\n",
              "  <thead>\n",
              "    <tr style=\"text-align: right;\">\n",
              "      <th></th>\n",
              "      <th>All Checks Passed</th>\n",
              "      <th>commit_count</th>\n",
              "    </tr>\n",
              "    <tr>\n",
              "      <th>Author Name</th>\n",
              "      <th></th>\n",
              "      <th></th>\n",
              "    </tr>\n",
              "  </thead>\n",
              "  <tbody>\n",
              "    <tr>\n",
              "      <th>Ade Viankakrisna Fadlil</th>\n",
              "      <td>1.000000</td>\n",
              "      <td>23</td>\n",
              "    </tr>\n",
              "    <tr>\n",
              "      <th>Andreas Cederström</th>\n",
              "      <td>1.000000</td>\n",
              "      <td>18</td>\n",
              "    </tr>\n",
              "    <tr>\n",
              "      <th>Christopher Chedeau</th>\n",
              "      <td>1.000000</td>\n",
              "      <td>28</td>\n",
              "    </tr>\n",
              "    <tr>\n",
              "      <th>Jack Zhao</th>\n",
              "      <td>1.000000</td>\n",
              "      <td>24</td>\n",
              "    </tr>\n",
              "    <tr>\n",
              "      <th>Jeffrey Posnick</th>\n",
              "      <td>1.000000</td>\n",
              "      <td>11</td>\n",
              "    </tr>\n",
              "    <tr>\n",
              "      <th>Joe Haddad</th>\n",
              "      <td>1.000000</td>\n",
              "      <td>293</td>\n",
              "    </tr>\n",
              "    <tr>\n",
              "      <th>Kristofer Selbekk</th>\n",
              "      <td>1.000000</td>\n",
              "      <td>91</td>\n",
              "    </tr>\n",
              "    <tr>\n",
              "      <th>Michaël De Boey</th>\n",
              "      <td>1.000000</td>\n",
              "      <td>18</td>\n",
              "    </tr>\n",
              "    <tr>\n",
              "      <th>Ville Immonen</th>\n",
              "      <td>1.000000</td>\n",
              "      <td>50</td>\n",
              "    </tr>\n",
              "    <tr>\n",
              "      <th>Dan Abramov</th>\n",
              "      <td>0.995385</td>\n",
              "      <td>650</td>\n",
              "    </tr>\n",
              "    <tr>\n",
              "      <th>Ian Schmitz</th>\n",
              "      <td>0.988235</td>\n",
              "      <td>85</td>\n",
              "    </tr>\n",
              "    <tr>\n",
              "      <th>Ian Sutherland</th>\n",
              "      <td>0.954248</td>\n",
              "      <td>153</td>\n",
              "    </tr>\n",
              "    <tr>\n",
              "      <th>Brody McKee</th>\n",
              "      <td>0.857143</td>\n",
              "      <td>28</td>\n",
              "    </tr>\n",
              "  </tbody>\n",
              "</table>\n",
              "</div>\n",
              "      <button class=\"colab-df-convert\" onclick=\"convertToInteractive('df-1791169d-4bf5-4963-a11a-64601a72800d')\"\n",
              "              title=\"Convert this dataframe to an interactive table.\"\n",
              "              style=\"display:none;\">\n",
              "        \n",
              "  <svg xmlns=\"http://www.w3.org/2000/svg\" height=\"24px\"viewBox=\"0 0 24 24\"\n",
              "       width=\"24px\">\n",
              "    <path d=\"M0 0h24v24H0V0z\" fill=\"none\"/>\n",
              "    <path d=\"M18.56 5.44l.94 2.06.94-2.06 2.06-.94-2.06-.94-.94-2.06-.94 2.06-2.06.94zm-11 1L8.5 8.5l.94-2.06 2.06-.94-2.06-.94L8.5 2.5l-.94 2.06-2.06.94zm10 10l.94 2.06.94-2.06 2.06-.94-2.06-.94-.94-2.06-.94 2.06-2.06.94z\"/><path d=\"M17.41 7.96l-1.37-1.37c-.4-.4-.92-.59-1.43-.59-.52 0-1.04.2-1.43.59L10.3 9.45l-7.72 7.72c-.78.78-.78 2.05 0 2.83L4 21.41c.39.39.9.59 1.41.59.51 0 1.02-.2 1.41-.59l7.78-7.78 2.81-2.81c.8-.78.8-2.07 0-2.86zM5.41 20L4 18.59l7.72-7.72 1.47 1.35L5.41 20z\"/>\n",
              "  </svg>\n",
              "      </button>\n",
              "      \n",
              "  <style>\n",
              "    .colab-df-container {\n",
              "      display:flex;\n",
              "      flex-wrap:wrap;\n",
              "      gap: 12px;\n",
              "    }\n",
              "\n",
              "    .colab-df-convert {\n",
              "      background-color: #E8F0FE;\n",
              "      border: none;\n",
              "      border-radius: 50%;\n",
              "      cursor: pointer;\n",
              "      display: none;\n",
              "      fill: #1967D2;\n",
              "      height: 32px;\n",
              "      padding: 0 0 0 0;\n",
              "      width: 32px;\n",
              "    }\n",
              "\n",
              "    .colab-df-convert:hover {\n",
              "      background-color: #E2EBFA;\n",
              "      box-shadow: 0px 1px 2px rgba(60, 64, 67, 0.3), 0px 1px 3px 1px rgba(60, 64, 67, 0.15);\n",
              "      fill: #174EA6;\n",
              "    }\n",
              "\n",
              "    [theme=dark] .colab-df-convert {\n",
              "      background-color: #3B4455;\n",
              "      fill: #D2E3FC;\n",
              "    }\n",
              "\n",
              "    [theme=dark] .colab-df-convert:hover {\n",
              "      background-color: #434B5C;\n",
              "      box-shadow: 0px 1px 3px 1px rgba(0, 0, 0, 0.15);\n",
              "      filter: drop-shadow(0px 1px 2px rgba(0, 0, 0, 0.3));\n",
              "      fill: #FFFFFF;\n",
              "    }\n",
              "  </style>\n",
              "\n",
              "      <script>\n",
              "        const buttonEl =\n",
              "          document.querySelector('#df-1791169d-4bf5-4963-a11a-64601a72800d button.colab-df-convert');\n",
              "        buttonEl.style.display =\n",
              "          google.colab.kernel.accessAllowed ? 'block' : 'none';\n",
              "\n",
              "        async function convertToInteractive(key) {\n",
              "          const element = document.querySelector('#df-1791169d-4bf5-4963-a11a-64601a72800d');\n",
              "          const dataTable =\n",
              "            await google.colab.kernel.invokeFunction('convertToInteractive',\n",
              "                                                     [key], {});\n",
              "          if (!dataTable) return;\n",
              "\n",
              "          const docLinkHtml = 'Like what you see? Visit the ' +\n",
              "            '<a target=\"_blank\" href=https://colab.research.google.com/notebooks/data_table.ipynb>data table notebook</a>'\n",
              "            + ' to learn more about interactive tables.';\n",
              "          element.innerHTML = '';\n",
              "          dataTable['output_type'] = 'display_data';\n",
              "          await google.colab.output.renderOutput(dataTable, element);\n",
              "          const docLink = document.createElement('div');\n",
              "          docLink.innerHTML = docLinkHtml;\n",
              "          element.appendChild(docLink);\n",
              "        }\n",
              "      </script>\n",
              "    </div>\n",
              "  </div>\n",
              "  "
            ]
          },
          "metadata": {},
          "execution_count": 320
        }
      ],
      "source": [
        "filtered_grouped_df = filtered_grouped_df.sort_values(by='All Checks Passed', ascending=False)\n",
        "commit_count = df['Author Name'].value_counts()\n",
        "filtered_grouped_df = filtered_grouped_df.assign(commit_count=commit_count)\n",
        "filtered_grouped_df"
      ]
    },
    {
      "cell_type": "code",
      "execution_count": 321,
      "metadata": {
        "colab": {
          "base_uri": "https://localhost:8080/"
        },
        "id": "v493sMMyH-ih",
        "outputId": "9aada99e-ad2d-4223-dd0f-1cc0be0dd7a7"
      },
      "outputs": [
        {
          "output_type": "execute_result",
          "data": {
            "text/plain": [
              "Dan Abramov          650\n",
              "Joe Haddad           293\n",
              "Ian Sutherland       153\n",
              "Kristofer Selbekk     91\n",
              "Ian Schmitz           85\n",
              "                    ... \n",
              "Erik J. Sturcke        1\n",
              "Anthony                1\n",
              "Jared Palmer           1\n",
              "gulderov               1\n",
              "ryan.c                 1\n",
              "Name: Author Name, Length: 930, dtype: int64"
            ]
          },
          "metadata": {},
          "execution_count": 321
        }
      ],
      "source": [
        "df['Author Name'].value_counts()"
      ]
    },
    {
      "cell_type": "markdown",
      "metadata": {
        "id": "WP6dja3DowCc"
      },
      "source": [
        "**Who changed the most files**"
      ]
    },
    {
      "cell_type": "code",
      "execution_count": 322,
      "metadata": {
        "colab": {
          "base_uri": "https://localhost:8080/",
          "height": 35
        },
        "id": "ICHAv6t1m7hR",
        "outputId": "88ae688e-46b9-4f73-aa0f-b0971dfbe689"
      },
      "outputs": [
        {
          "output_type": "execute_result",
          "data": {
            "text/plain": [
              "'Chaoshuai Lü'"
            ],
            "application/vnd.google.colaboratory.intrinsic+json": {
              "type": "string"
            }
          },
          "metadata": {},
          "execution_count": 322
        }
      ],
      "source": [
        "author_max_files_changed = df.loc[df['Files Changed Count'].idxmax(), 'Author Name']\n",
        "author_max_files_changed"
      ]
    },
    {
      "cell_type": "code",
      "execution_count": 323,
      "metadata": {
        "colab": {
          "base_uri": "https://localhost:8080/",
          "height": 238
        },
        "id": "RvkTHC7vuTk1",
        "outputId": "fa07372d-c3b1-46cc-bf64-72d593b6ecb2"
      },
      "outputs": [
        {
          "output_type": "execute_result",
          "data": {
            "text/plain": [
              "                              Author Name  Files Changed Count\n",
              "Updated at                                                    \n",
              "2022-06-17 17:27:23          Chaoshuai Lü                  174\n",
              "2017-09-26 09:30:05         Sophie Alpert                  162\n",
              "2019-10-24 22:17:41           Brody McKee                  158\n",
              "2017-03-06 14:20:29           Dan Abramov                   81\n",
              "2017-01-23 19:43:16  Fabrizio Castellarin                   78"
            ],
            "text/html": [
              "\n",
              "  <div id=\"df-fe4c8bbb-9c84-4533-8983-ebf0654b79ef\">\n",
              "    <div class=\"colab-df-container\">\n",
              "      <div>\n",
              "<style scoped>\n",
              "    .dataframe tbody tr th:only-of-type {\n",
              "        vertical-align: middle;\n",
              "    }\n",
              "\n",
              "    .dataframe tbody tr th {\n",
              "        vertical-align: top;\n",
              "    }\n",
              "\n",
              "    .dataframe thead th {\n",
              "        text-align: right;\n",
              "    }\n",
              "</style>\n",
              "<table border=\"1\" class=\"dataframe\">\n",
              "  <thead>\n",
              "    <tr style=\"text-align: right;\">\n",
              "      <th></th>\n",
              "      <th>Author Name</th>\n",
              "      <th>Files Changed Count</th>\n",
              "    </tr>\n",
              "    <tr>\n",
              "      <th>Updated at</th>\n",
              "      <th></th>\n",
              "      <th></th>\n",
              "    </tr>\n",
              "  </thead>\n",
              "  <tbody>\n",
              "    <tr>\n",
              "      <th>2022-06-17 17:27:23</th>\n",
              "      <td>Chaoshuai Lü</td>\n",
              "      <td>174</td>\n",
              "    </tr>\n",
              "    <tr>\n",
              "      <th>2017-09-26 09:30:05</th>\n",
              "      <td>Sophie Alpert</td>\n",
              "      <td>162</td>\n",
              "    </tr>\n",
              "    <tr>\n",
              "      <th>2019-10-24 22:17:41</th>\n",
              "      <td>Brody McKee</td>\n",
              "      <td>158</td>\n",
              "    </tr>\n",
              "    <tr>\n",
              "      <th>2017-03-06 14:20:29</th>\n",
              "      <td>Dan Abramov</td>\n",
              "      <td>81</td>\n",
              "    </tr>\n",
              "    <tr>\n",
              "      <th>2017-01-23 19:43:16</th>\n",
              "      <td>Fabrizio Castellarin</td>\n",
              "      <td>78</td>\n",
              "    </tr>\n",
              "  </tbody>\n",
              "</table>\n",
              "</div>\n",
              "      <button class=\"colab-df-convert\" onclick=\"convertToInteractive('df-fe4c8bbb-9c84-4533-8983-ebf0654b79ef')\"\n",
              "              title=\"Convert this dataframe to an interactive table.\"\n",
              "              style=\"display:none;\">\n",
              "        \n",
              "  <svg xmlns=\"http://www.w3.org/2000/svg\" height=\"24px\"viewBox=\"0 0 24 24\"\n",
              "       width=\"24px\">\n",
              "    <path d=\"M0 0h24v24H0V0z\" fill=\"none\"/>\n",
              "    <path d=\"M18.56 5.44l.94 2.06.94-2.06 2.06-.94-2.06-.94-.94-2.06-.94 2.06-2.06.94zm-11 1L8.5 8.5l.94-2.06 2.06-.94-2.06-.94L8.5 2.5l-.94 2.06-2.06.94zm10 10l.94 2.06.94-2.06 2.06-.94-2.06-.94-.94-2.06-.94 2.06-2.06.94z\"/><path d=\"M17.41 7.96l-1.37-1.37c-.4-.4-.92-.59-1.43-.59-.52 0-1.04.2-1.43.59L10.3 9.45l-7.72 7.72c-.78.78-.78 2.05 0 2.83L4 21.41c.39.39.9.59 1.41.59.51 0 1.02-.2 1.41-.59l7.78-7.78 2.81-2.81c.8-.78.8-2.07 0-2.86zM5.41 20L4 18.59l7.72-7.72 1.47 1.35L5.41 20z\"/>\n",
              "  </svg>\n",
              "      </button>\n",
              "      \n",
              "  <style>\n",
              "    .colab-df-container {\n",
              "      display:flex;\n",
              "      flex-wrap:wrap;\n",
              "      gap: 12px;\n",
              "    }\n",
              "\n",
              "    .colab-df-convert {\n",
              "      background-color: #E8F0FE;\n",
              "      border: none;\n",
              "      border-radius: 50%;\n",
              "      cursor: pointer;\n",
              "      display: none;\n",
              "      fill: #1967D2;\n",
              "      height: 32px;\n",
              "      padding: 0 0 0 0;\n",
              "      width: 32px;\n",
              "    }\n",
              "\n",
              "    .colab-df-convert:hover {\n",
              "      background-color: #E2EBFA;\n",
              "      box-shadow: 0px 1px 2px rgba(60, 64, 67, 0.3), 0px 1px 3px 1px rgba(60, 64, 67, 0.15);\n",
              "      fill: #174EA6;\n",
              "    }\n",
              "\n",
              "    [theme=dark] .colab-df-convert {\n",
              "      background-color: #3B4455;\n",
              "      fill: #D2E3FC;\n",
              "    }\n",
              "\n",
              "    [theme=dark] .colab-df-convert:hover {\n",
              "      background-color: #434B5C;\n",
              "      box-shadow: 0px 1px 3px 1px rgba(0, 0, 0, 0.15);\n",
              "      filter: drop-shadow(0px 1px 2px rgba(0, 0, 0, 0.3));\n",
              "      fill: #FFFFFF;\n",
              "    }\n",
              "  </style>\n",
              "\n",
              "      <script>\n",
              "        const buttonEl =\n",
              "          document.querySelector('#df-fe4c8bbb-9c84-4533-8983-ebf0654b79ef button.colab-df-convert');\n",
              "        buttonEl.style.display =\n",
              "          google.colab.kernel.accessAllowed ? 'block' : 'none';\n",
              "\n",
              "        async function convertToInteractive(key) {\n",
              "          const element = document.querySelector('#df-fe4c8bbb-9c84-4533-8983-ebf0654b79ef');\n",
              "          const dataTable =\n",
              "            await google.colab.kernel.invokeFunction('convertToInteractive',\n",
              "                                                     [key], {});\n",
              "          if (!dataTable) return;\n",
              "\n",
              "          const docLinkHtml = 'Like what you see? Visit the ' +\n",
              "            '<a target=\"_blank\" href=https://colab.research.google.com/notebooks/data_table.ipynb>data table notebook</a>'\n",
              "            + ' to learn more about interactive tables.';\n",
              "          element.innerHTML = '';\n",
              "          dataTable['output_type'] = 'display_data';\n",
              "          await google.colab.output.renderOutput(dataTable, element);\n",
              "          const docLink = document.createElement('div');\n",
              "          docLink.innerHTML = docLinkHtml;\n",
              "          element.appendChild(docLink);\n",
              "        }\n",
              "      </script>\n",
              "    </div>\n",
              "  </div>\n",
              "  "
            ]
          },
          "metadata": {},
          "execution_count": 323
        }
      ],
      "source": [
        "top_5_authors = df.nlargest(5, 'Files Changed Count')[['Author Name', 'Files Changed Count']]\n",
        "top_5_authors"
      ]
    },
    {
      "cell_type": "markdown",
      "metadata": {
        "id": "S_0rY9-CDzBO"
      },
      "source": [
        "# Data Visualization"
      ]
    },
    {
      "cell_type": "code",
      "execution_count": 324,
      "metadata": {
        "id": "9ASZMMrUHQqm"
      },
      "outputs": [],
      "source": [
        "df.reset_index(inplace=True)"
      ]
    },
    {
      "cell_type": "code",
      "execution_count": 325,
      "metadata": {
        "colab": {
          "base_uri": "https://localhost:8080/",
          "height": 850
        },
        "id": "S-P1-wTfCj5a",
        "outputId": "6fad4cba-1e5e-46d7-fae6-28dee3b337bb"
      },
      "outputs": [
        {
          "output_type": "execute_result",
          "data": {
            "text/plain": [
              "              Updated at                                     Commit Message  \\\n",
              "0    2016-07-15 16:46:37                                     Initial commit   \n",
              "1    2016-07-15 17:52:45  Initial commit with webpack and css/autoprefix...   \n",
              "2    2016-07-15 19:07:31                     Add some \"basic\" configuration   \n",
              "3    2016-07-15 19:08:21                                 Explain what it is   \n",
              "4    2016-07-15 19:58:47                       Add linting and nicer output   \n",
              "...                  ...                                                ...   \n",
              "2795 2022-07-05 18:48:07  Merge pull request #12539 from liam-mulhall/pa...   \n",
              "2796 2022-07-05 18:48:30  Merge pull request #12531 from MoshiulRabbi/pa...   \n",
              "2797 2022-07-05 18:49:51  Merge pull request #12537 from pawelskowronek/...   \n",
              "2798 2022-07-05 18:52:20  Merge pull request #12558 from danielrentz/pat...   \n",
              "2799 2022-09-08 07:40:47  docs: fix link of \"Building for Relative Paths...   \n",
              "\n",
              "              Author Name            Author Email  \\\n",
              "0     Christopher Chedeau        vjeuxx@gmail.com   \n",
              "1     Christopher Chedeau            vjeux@fb.com   \n",
              "2             Dan Abramov   dan.abramov@gmail.com   \n",
              "3             Dan Abramov   dan.abramov@gmail.com   \n",
              "4             Dan Abramov   dan.abramov@gmail.com   \n",
              "...                   ...                     ...   \n",
              "2795         Chaoshuai Lü          matrush@qq.com   \n",
              "2796         Chaoshuai Lü          matrush@qq.com   \n",
              "2797         Chaoshuai Lü          matrush@qq.com   \n",
              "2798         Chaoshuai Lü          matrush@qq.com   \n",
              "2799               ryan.c  jackblackevo@gmail.com   \n",
              "\n",
              "                                          Files Changed   Contributor  \\\n",
              "0                         [LICENSE, PATENTS, README.md]         vjeux   \n",
              "1     [.gitignore, build/bundle.js, cli.js, index.cs...         vjeux   \n",
              "2     [.babelrc, .gitignore, build/bundle.js, devSer...       gaearon   \n",
              "3                                           [README.md]       gaearon   \n",
              "4     [.eslintrc, devServer.js, package.json, src/Ap...       gaearon   \n",
              "...                                                 ...           ...   \n",
              "2795               [docusaurus/docs/adding-a-router.md]       matrush   \n",
              "2796                    [docusaurus/docs/deployment.md]       matrush   \n",
              "2797             [docusaurus/docs/adding-typescript.md]       matrush   \n",
              "2798        [docusaurus/docs/setting-up-your-editor.md]       matrush   \n",
              "2799        [docusaurus/docs/advanced-configuration.md]  jackblackevo   \n",
              "\n",
              "      All Checks Passed  Additions commit  Files Changed Count Email Type  \n",
              "0                  True                14                    3  gmail.com  \n",
              "1                  True                56                    8     fb.com  \n",
              "2                  True                30                   13  gmail.com  \n",
              "3                  True                18                    1  gmail.com  \n",
              "4                  True                28                    6  gmail.com  \n",
              "...                 ...               ...                  ...        ...  \n",
              "2795              False                89                    1     qq.com  \n",
              "2796              False                85                    1     qq.com  \n",
              "2797              False               107                    1     qq.com  \n",
              "2798              False                85                    1     qq.com  \n",
              "2799               True                56                    1  gmail.com  \n",
              "\n",
              "[2800 rows x 10 columns]"
            ],
            "text/html": [
              "\n",
              "  <div id=\"df-63565aab-30d6-47ca-ab22-52c5178f4f94\">\n",
              "    <div class=\"colab-df-container\">\n",
              "      <div>\n",
              "<style scoped>\n",
              "    .dataframe tbody tr th:only-of-type {\n",
              "        vertical-align: middle;\n",
              "    }\n",
              "\n",
              "    .dataframe tbody tr th {\n",
              "        vertical-align: top;\n",
              "    }\n",
              "\n",
              "    .dataframe thead th {\n",
              "        text-align: right;\n",
              "    }\n",
              "</style>\n",
              "<table border=\"1\" class=\"dataframe\">\n",
              "  <thead>\n",
              "    <tr style=\"text-align: right;\">\n",
              "      <th></th>\n",
              "      <th>Updated at</th>\n",
              "      <th>Commit Message</th>\n",
              "      <th>Author Name</th>\n",
              "      <th>Author Email</th>\n",
              "      <th>Files Changed</th>\n",
              "      <th>Contributor</th>\n",
              "      <th>All Checks Passed</th>\n",
              "      <th>Additions commit</th>\n",
              "      <th>Files Changed Count</th>\n",
              "      <th>Email Type</th>\n",
              "    </tr>\n",
              "  </thead>\n",
              "  <tbody>\n",
              "    <tr>\n",
              "      <th>0</th>\n",
              "      <td>2016-07-15 16:46:37</td>\n",
              "      <td>Initial commit</td>\n",
              "      <td>Christopher Chedeau</td>\n",
              "      <td>vjeuxx@gmail.com</td>\n",
              "      <td>[LICENSE, PATENTS, README.md]</td>\n",
              "      <td>vjeux</td>\n",
              "      <td>True</td>\n",
              "      <td>14</td>\n",
              "      <td>3</td>\n",
              "      <td>gmail.com</td>\n",
              "    </tr>\n",
              "    <tr>\n",
              "      <th>1</th>\n",
              "      <td>2016-07-15 17:52:45</td>\n",
              "      <td>Initial commit with webpack and css/autoprefix...</td>\n",
              "      <td>Christopher Chedeau</td>\n",
              "      <td>vjeux@fb.com</td>\n",
              "      <td>[.gitignore, build/bundle.js, cli.js, index.cs...</td>\n",
              "      <td>vjeux</td>\n",
              "      <td>True</td>\n",
              "      <td>56</td>\n",
              "      <td>8</td>\n",
              "      <td>fb.com</td>\n",
              "    </tr>\n",
              "    <tr>\n",
              "      <th>2</th>\n",
              "      <td>2016-07-15 19:07:31</td>\n",
              "      <td>Add some \"basic\" configuration</td>\n",
              "      <td>Dan Abramov</td>\n",
              "      <td>dan.abramov@gmail.com</td>\n",
              "      <td>[.babelrc, .gitignore, build/bundle.js, devSer...</td>\n",
              "      <td>gaearon</td>\n",
              "      <td>True</td>\n",
              "      <td>30</td>\n",
              "      <td>13</td>\n",
              "      <td>gmail.com</td>\n",
              "    </tr>\n",
              "    <tr>\n",
              "      <th>3</th>\n",
              "      <td>2016-07-15 19:08:21</td>\n",
              "      <td>Explain what it is</td>\n",
              "      <td>Dan Abramov</td>\n",
              "      <td>dan.abramov@gmail.com</td>\n",
              "      <td>[README.md]</td>\n",
              "      <td>gaearon</td>\n",
              "      <td>True</td>\n",
              "      <td>18</td>\n",
              "      <td>1</td>\n",
              "      <td>gmail.com</td>\n",
              "    </tr>\n",
              "    <tr>\n",
              "      <th>4</th>\n",
              "      <td>2016-07-15 19:58:47</td>\n",
              "      <td>Add linting and nicer output</td>\n",
              "      <td>Dan Abramov</td>\n",
              "      <td>dan.abramov@gmail.com</td>\n",
              "      <td>[.eslintrc, devServer.js, package.json, src/Ap...</td>\n",
              "      <td>gaearon</td>\n",
              "      <td>True</td>\n",
              "      <td>28</td>\n",
              "      <td>6</td>\n",
              "      <td>gmail.com</td>\n",
              "    </tr>\n",
              "    <tr>\n",
              "      <th>...</th>\n",
              "      <td>...</td>\n",
              "      <td>...</td>\n",
              "      <td>...</td>\n",
              "      <td>...</td>\n",
              "      <td>...</td>\n",
              "      <td>...</td>\n",
              "      <td>...</td>\n",
              "      <td>...</td>\n",
              "      <td>...</td>\n",
              "      <td>...</td>\n",
              "    </tr>\n",
              "    <tr>\n",
              "      <th>2795</th>\n",
              "      <td>2022-07-05 18:48:07</td>\n",
              "      <td>Merge pull request #12539 from liam-mulhall/pa...</td>\n",
              "      <td>Chaoshuai Lü</td>\n",
              "      <td>matrush@qq.com</td>\n",
              "      <td>[docusaurus/docs/adding-a-router.md]</td>\n",
              "      <td>matrush</td>\n",
              "      <td>False</td>\n",
              "      <td>89</td>\n",
              "      <td>1</td>\n",
              "      <td>qq.com</td>\n",
              "    </tr>\n",
              "    <tr>\n",
              "      <th>2796</th>\n",
              "      <td>2022-07-05 18:48:30</td>\n",
              "      <td>Merge pull request #12531 from MoshiulRabbi/pa...</td>\n",
              "      <td>Chaoshuai Lü</td>\n",
              "      <td>matrush@qq.com</td>\n",
              "      <td>[docusaurus/docs/deployment.md]</td>\n",
              "      <td>matrush</td>\n",
              "      <td>False</td>\n",
              "      <td>85</td>\n",
              "      <td>1</td>\n",
              "      <td>qq.com</td>\n",
              "    </tr>\n",
              "    <tr>\n",
              "      <th>2797</th>\n",
              "      <td>2022-07-05 18:49:51</td>\n",
              "      <td>Merge pull request #12537 from pawelskowronek/...</td>\n",
              "      <td>Chaoshuai Lü</td>\n",
              "      <td>matrush@qq.com</td>\n",
              "      <td>[docusaurus/docs/adding-typescript.md]</td>\n",
              "      <td>matrush</td>\n",
              "      <td>False</td>\n",
              "      <td>107</td>\n",
              "      <td>1</td>\n",
              "      <td>qq.com</td>\n",
              "    </tr>\n",
              "    <tr>\n",
              "      <th>2798</th>\n",
              "      <td>2022-07-05 18:52:20</td>\n",
              "      <td>Merge pull request #12558 from danielrentz/pat...</td>\n",
              "      <td>Chaoshuai Lü</td>\n",
              "      <td>matrush@qq.com</td>\n",
              "      <td>[docusaurus/docs/setting-up-your-editor.md]</td>\n",
              "      <td>matrush</td>\n",
              "      <td>False</td>\n",
              "      <td>85</td>\n",
              "      <td>1</td>\n",
              "      <td>qq.com</td>\n",
              "    </tr>\n",
              "    <tr>\n",
              "      <th>2799</th>\n",
              "      <td>2022-09-08 07:40:47</td>\n",
              "      <td>docs: fix link of \"Building for Relative Paths...</td>\n",
              "      <td>ryan.c</td>\n",
              "      <td>jackblackevo@gmail.com</td>\n",
              "      <td>[docusaurus/docs/advanced-configuration.md]</td>\n",
              "      <td>jackblackevo</td>\n",
              "      <td>True</td>\n",
              "      <td>56</td>\n",
              "      <td>1</td>\n",
              "      <td>gmail.com</td>\n",
              "    </tr>\n",
              "  </tbody>\n",
              "</table>\n",
              "<p>2800 rows × 10 columns</p>\n",
              "</div>\n",
              "      <button class=\"colab-df-convert\" onclick=\"convertToInteractive('df-63565aab-30d6-47ca-ab22-52c5178f4f94')\"\n",
              "              title=\"Convert this dataframe to an interactive table.\"\n",
              "              style=\"display:none;\">\n",
              "        \n",
              "  <svg xmlns=\"http://www.w3.org/2000/svg\" height=\"24px\"viewBox=\"0 0 24 24\"\n",
              "       width=\"24px\">\n",
              "    <path d=\"M0 0h24v24H0V0z\" fill=\"none\"/>\n",
              "    <path d=\"M18.56 5.44l.94 2.06.94-2.06 2.06-.94-2.06-.94-.94-2.06-.94 2.06-2.06.94zm-11 1L8.5 8.5l.94-2.06 2.06-.94-2.06-.94L8.5 2.5l-.94 2.06-2.06.94zm10 10l.94 2.06.94-2.06 2.06-.94-2.06-.94-.94-2.06-.94 2.06-2.06.94z\"/><path d=\"M17.41 7.96l-1.37-1.37c-.4-.4-.92-.59-1.43-.59-.52 0-1.04.2-1.43.59L10.3 9.45l-7.72 7.72c-.78.78-.78 2.05 0 2.83L4 21.41c.39.39.9.59 1.41.59.51 0 1.02-.2 1.41-.59l7.78-7.78 2.81-2.81c.8-.78.8-2.07 0-2.86zM5.41 20L4 18.59l7.72-7.72 1.47 1.35L5.41 20z\"/>\n",
              "  </svg>\n",
              "      </button>\n",
              "      \n",
              "  <style>\n",
              "    .colab-df-container {\n",
              "      display:flex;\n",
              "      flex-wrap:wrap;\n",
              "      gap: 12px;\n",
              "    }\n",
              "\n",
              "    .colab-df-convert {\n",
              "      background-color: #E8F0FE;\n",
              "      border: none;\n",
              "      border-radius: 50%;\n",
              "      cursor: pointer;\n",
              "      display: none;\n",
              "      fill: #1967D2;\n",
              "      height: 32px;\n",
              "      padding: 0 0 0 0;\n",
              "      width: 32px;\n",
              "    }\n",
              "\n",
              "    .colab-df-convert:hover {\n",
              "      background-color: #E2EBFA;\n",
              "      box-shadow: 0px 1px 2px rgba(60, 64, 67, 0.3), 0px 1px 3px 1px rgba(60, 64, 67, 0.15);\n",
              "      fill: #174EA6;\n",
              "    }\n",
              "\n",
              "    [theme=dark] .colab-df-convert {\n",
              "      background-color: #3B4455;\n",
              "      fill: #D2E3FC;\n",
              "    }\n",
              "\n",
              "    [theme=dark] .colab-df-convert:hover {\n",
              "      background-color: #434B5C;\n",
              "      box-shadow: 0px 1px 3px 1px rgba(0, 0, 0, 0.15);\n",
              "      filter: drop-shadow(0px 1px 2px rgba(0, 0, 0, 0.3));\n",
              "      fill: #FFFFFF;\n",
              "    }\n",
              "  </style>\n",
              "\n",
              "      <script>\n",
              "        const buttonEl =\n",
              "          document.querySelector('#df-63565aab-30d6-47ca-ab22-52c5178f4f94 button.colab-df-convert');\n",
              "        buttonEl.style.display =\n",
              "          google.colab.kernel.accessAllowed ? 'block' : 'none';\n",
              "\n",
              "        async function convertToInteractive(key) {\n",
              "          const element = document.querySelector('#df-63565aab-30d6-47ca-ab22-52c5178f4f94');\n",
              "          const dataTable =\n",
              "            await google.colab.kernel.invokeFunction('convertToInteractive',\n",
              "                                                     [key], {});\n",
              "          if (!dataTable) return;\n",
              "\n",
              "          const docLinkHtml = 'Like what you see? Visit the ' +\n",
              "            '<a target=\"_blank\" href=https://colab.research.google.com/notebooks/data_table.ipynb>data table notebook</a>'\n",
              "            + ' to learn more about interactive tables.';\n",
              "          element.innerHTML = '';\n",
              "          dataTable['output_type'] = 'display_data';\n",
              "          await google.colab.output.renderOutput(dataTable, element);\n",
              "          const docLink = document.createElement('div');\n",
              "          docLink.innerHTML = docLinkHtml;\n",
              "          element.appendChild(docLink);\n",
              "        }\n",
              "      </script>\n",
              "    </div>\n",
              "  </div>\n",
              "  "
            ]
          },
          "metadata": {},
          "execution_count": 325
        }
      ],
      "source": [
        "df"
      ]
    },
    {
      "cell_type": "markdown",
      "metadata": {
        "id": "yHVh7tKzCftv"
      },
      "source": [
        "**Overall trend in the number of commits over time**"
      ]
    },
    {
      "cell_type": "code",
      "source": [
        "commit_counts = df.groupby(df['Updated at'].dt.date).size()\n",
        "commit_counts = commit_counts.reset_index(name = 'Commit Count')\n",
        "commit_counts"
      ],
      "metadata": {
        "colab": {
          "base_uri": "https://localhost:8080/",
          "height": 424
        },
        "id": "tiBU8By4N5ux",
        "outputId": "d3e38d32-96f5-4195-f431-d2b1e3d59298"
      },
      "execution_count": 326,
      "outputs": [
        {
          "output_type": "execute_result",
          "data": {
            "text/plain": [
              "     Updated at  Commit Count\n",
              "0    2016-07-15            13\n",
              "1    2016-07-16             4\n",
              "2    2016-07-17            27\n",
              "3    2016-07-18            18\n",
              "4    2016-07-19             7\n",
              "..          ...           ...\n",
              "770  2022-06-23             2\n",
              "771  2022-06-30             2\n",
              "772  2022-07-03             1\n",
              "773  2022-07-05             6\n",
              "774  2022-09-08             1\n",
              "\n",
              "[775 rows x 2 columns]"
            ],
            "text/html": [
              "\n",
              "  <div id=\"df-b39e8cc2-57e8-4785-bf66-af05d94f5104\">\n",
              "    <div class=\"colab-df-container\">\n",
              "      <div>\n",
              "<style scoped>\n",
              "    .dataframe tbody tr th:only-of-type {\n",
              "        vertical-align: middle;\n",
              "    }\n",
              "\n",
              "    .dataframe tbody tr th {\n",
              "        vertical-align: top;\n",
              "    }\n",
              "\n",
              "    .dataframe thead th {\n",
              "        text-align: right;\n",
              "    }\n",
              "</style>\n",
              "<table border=\"1\" class=\"dataframe\">\n",
              "  <thead>\n",
              "    <tr style=\"text-align: right;\">\n",
              "      <th></th>\n",
              "      <th>Updated at</th>\n",
              "      <th>Commit Count</th>\n",
              "    </tr>\n",
              "  </thead>\n",
              "  <tbody>\n",
              "    <tr>\n",
              "      <th>0</th>\n",
              "      <td>2016-07-15</td>\n",
              "      <td>13</td>\n",
              "    </tr>\n",
              "    <tr>\n",
              "      <th>1</th>\n",
              "      <td>2016-07-16</td>\n",
              "      <td>4</td>\n",
              "    </tr>\n",
              "    <tr>\n",
              "      <th>2</th>\n",
              "      <td>2016-07-17</td>\n",
              "      <td>27</td>\n",
              "    </tr>\n",
              "    <tr>\n",
              "      <th>3</th>\n",
              "      <td>2016-07-18</td>\n",
              "      <td>18</td>\n",
              "    </tr>\n",
              "    <tr>\n",
              "      <th>4</th>\n",
              "      <td>2016-07-19</td>\n",
              "      <td>7</td>\n",
              "    </tr>\n",
              "    <tr>\n",
              "      <th>...</th>\n",
              "      <td>...</td>\n",
              "      <td>...</td>\n",
              "    </tr>\n",
              "    <tr>\n",
              "      <th>770</th>\n",
              "      <td>2022-06-23</td>\n",
              "      <td>2</td>\n",
              "    </tr>\n",
              "    <tr>\n",
              "      <th>771</th>\n",
              "      <td>2022-06-30</td>\n",
              "      <td>2</td>\n",
              "    </tr>\n",
              "    <tr>\n",
              "      <th>772</th>\n",
              "      <td>2022-07-03</td>\n",
              "      <td>1</td>\n",
              "    </tr>\n",
              "    <tr>\n",
              "      <th>773</th>\n",
              "      <td>2022-07-05</td>\n",
              "      <td>6</td>\n",
              "    </tr>\n",
              "    <tr>\n",
              "      <th>774</th>\n",
              "      <td>2022-09-08</td>\n",
              "      <td>1</td>\n",
              "    </tr>\n",
              "  </tbody>\n",
              "</table>\n",
              "<p>775 rows × 2 columns</p>\n",
              "</div>\n",
              "      <button class=\"colab-df-convert\" onclick=\"convertToInteractive('df-b39e8cc2-57e8-4785-bf66-af05d94f5104')\"\n",
              "              title=\"Convert this dataframe to an interactive table.\"\n",
              "              style=\"display:none;\">\n",
              "        \n",
              "  <svg xmlns=\"http://www.w3.org/2000/svg\" height=\"24px\"viewBox=\"0 0 24 24\"\n",
              "       width=\"24px\">\n",
              "    <path d=\"M0 0h24v24H0V0z\" fill=\"none\"/>\n",
              "    <path d=\"M18.56 5.44l.94 2.06.94-2.06 2.06-.94-2.06-.94-.94-2.06-.94 2.06-2.06.94zm-11 1L8.5 8.5l.94-2.06 2.06-.94-2.06-.94L8.5 2.5l-.94 2.06-2.06.94zm10 10l.94 2.06.94-2.06 2.06-.94-2.06-.94-.94-2.06-.94 2.06-2.06.94z\"/><path d=\"M17.41 7.96l-1.37-1.37c-.4-.4-.92-.59-1.43-.59-.52 0-1.04.2-1.43.59L10.3 9.45l-7.72 7.72c-.78.78-.78 2.05 0 2.83L4 21.41c.39.39.9.59 1.41.59.51 0 1.02-.2 1.41-.59l7.78-7.78 2.81-2.81c.8-.78.8-2.07 0-2.86zM5.41 20L4 18.59l7.72-7.72 1.47 1.35L5.41 20z\"/>\n",
              "  </svg>\n",
              "      </button>\n",
              "      \n",
              "  <style>\n",
              "    .colab-df-container {\n",
              "      display:flex;\n",
              "      flex-wrap:wrap;\n",
              "      gap: 12px;\n",
              "    }\n",
              "\n",
              "    .colab-df-convert {\n",
              "      background-color: #E8F0FE;\n",
              "      border: none;\n",
              "      border-radius: 50%;\n",
              "      cursor: pointer;\n",
              "      display: none;\n",
              "      fill: #1967D2;\n",
              "      height: 32px;\n",
              "      padding: 0 0 0 0;\n",
              "      width: 32px;\n",
              "    }\n",
              "\n",
              "    .colab-df-convert:hover {\n",
              "      background-color: #E2EBFA;\n",
              "      box-shadow: 0px 1px 2px rgba(60, 64, 67, 0.3), 0px 1px 3px 1px rgba(60, 64, 67, 0.15);\n",
              "      fill: #174EA6;\n",
              "    }\n",
              "\n",
              "    [theme=dark] .colab-df-convert {\n",
              "      background-color: #3B4455;\n",
              "      fill: #D2E3FC;\n",
              "    }\n",
              "\n",
              "    [theme=dark] .colab-df-convert:hover {\n",
              "      background-color: #434B5C;\n",
              "      box-shadow: 0px 1px 3px 1px rgba(0, 0, 0, 0.15);\n",
              "      filter: drop-shadow(0px 1px 2px rgba(0, 0, 0, 0.3));\n",
              "      fill: #FFFFFF;\n",
              "    }\n",
              "  </style>\n",
              "\n",
              "      <script>\n",
              "        const buttonEl =\n",
              "          document.querySelector('#df-b39e8cc2-57e8-4785-bf66-af05d94f5104 button.colab-df-convert');\n",
              "        buttonEl.style.display =\n",
              "          google.colab.kernel.accessAllowed ? 'block' : 'none';\n",
              "\n",
              "        async function convertToInteractive(key) {\n",
              "          const element = document.querySelector('#df-b39e8cc2-57e8-4785-bf66-af05d94f5104');\n",
              "          const dataTable =\n",
              "            await google.colab.kernel.invokeFunction('convertToInteractive',\n",
              "                                                     [key], {});\n",
              "          if (!dataTable) return;\n",
              "\n",
              "          const docLinkHtml = 'Like what you see? Visit the ' +\n",
              "            '<a target=\"_blank\" href=https://colab.research.google.com/notebooks/data_table.ipynb>data table notebook</a>'\n",
              "            + ' to learn more about interactive tables.';\n",
              "          element.innerHTML = '';\n",
              "          dataTable['output_type'] = 'display_data';\n",
              "          await google.colab.output.renderOutput(dataTable, element);\n",
              "          const docLink = document.createElement('div');\n",
              "          docLink.innerHTML = docLinkHtml;\n",
              "          element.appendChild(docLink);\n",
              "        }\n",
              "      </script>\n",
              "    </div>\n",
              "  </div>\n",
              "  "
            ]
          },
          "metadata": {},
          "execution_count": 326
        }
      ]
    },
    {
      "cell_type": "code",
      "execution_count": 327,
      "metadata": {
        "colab": {
          "base_uri": "https://localhost:8080/",
          "height": 735
        },
        "id": "proDHp7IzbNw",
        "outputId": "f5b72795-7ecd-4c48-f163-840c43c68258"
      },
      "outputs": [
        {
          "output_type": "execute_result",
          "data": {
            "text/plain": [
              "Text(0, 0.5, 'Number of Commits')"
            ]
          },
          "metadata": {},
          "execution_count": 327
        },
        {
          "output_type": "display_data",
          "data": {
            "text/plain": [
              "<Figure size 1000x800 with 1 Axes>"
            ],
            "image/png": "[encoded data removed]"
          },
          "metadata": {}
        }
      ],
      "source": [
        "plt.figure(figsize=(10, 8))\n",
        "sns.lineplot(data=commit_counts, x='Updated at', y='Commit Count')\n",
        "\n",
        "# Set the plot title and labels\n",
        "plt.title('Number of Commits Over Time')\n",
        "plt.xlabel('Date')\n",
        "plt.ylabel('Number of Commits')"
      ]
    },
    {
      "cell_type": "code",
      "execution_count": 328,
      "metadata": {
        "id": "cIXv_--7EeOh",
        "colab": {
          "base_uri": "https://localhost:8080/",
          "height": 607
        },
        "outputId": "751d9d60-ba6e-499e-913f-2d337edd3941"
      },
      "outputs": [
        {
          "output_type": "display_data",
          "data": {
            "text/plain": [
              "<Figure size 1200x600 with 3 Axes>"
            ],
            "image/png": "[encoded data removed]"
          },
          "metadata": {}
        }
      ],
      "source": [
        "df.set_index('Updated at', inplace=True)\n",
        "\n",
        "commits_per_week = df.resample('W').size().reset_index(name='Commit Count')\n",
        "\n",
        "commits_per_month = df.resample('M').size().reset_index(name='Commit Count')\n",
        "\n",
        "commits_per_year = df.resample('Y').size().reset_index(name='Commit Count')\n",
        "\n",
        "sns.set_style(\"darkgrid\")\n",
        "plt.figure(figsize=(12, 6))\n",
        "\n",
        "plt.subplot(3, 1, 1)\n",
        "sns.lineplot(x='Updated at', y='Commit Count', data=commits_per_week)\n",
        "plt.title('Trend in Number of Commits per Week')\n",
        "plt.xlabel('Week')\n",
        "plt.ylabel('Number of Commits')\n",
        "\n",
        "plt.subplot(3, 1, 2)\n",
        "sns.lineplot(x='Updated at', y='Commit Count', data=commits_per_month)\n",
        "plt.title('Trend in Number of Commits per Month')\n",
        "plt.xlabel('Month')\n",
        "plt.ylabel('Number of Commits')\n",
        "\n",
        "plt.subplot(3, 1, 3)\n",
        "sns.lineplot(x='Updated at', y='Commit Count', data=commits_per_year)\n",
        "plt.title('Trend in Number of Commits per Year')\n",
        "plt.xlabel('Year')\n",
        "plt.ylabel('Number of Commits')\n",
        "\n",
        "plt.tight_layout()\n",
        "plt.show()"
      ]
    },
    {
      "cell_type": "markdown",
      "source": [
        "**Size of files changed over time**"
      ],
      "metadata": {
        "id": "AfRS45WHYQvQ"
      }
    },
    {
      "cell_type": "code",
      "source": [
        "sns.set_style(\"darkgrid\")\n",
        "plt.figure(figsize=(12, 6))\n",
        "sns.lineplot(x='Updated at', y='Files Changed Count', data=df, label='Files Changed Count')\n",
        "\n",
        "# Set the x-axis label and rotate the tick labels for better visibility\n",
        "plt.xlabel('Date')\n",
        "plt.xticks(rotation=45)\n",
        "\n",
        "# Set the y-axis label\n",
        "plt.ylabel('Size')\n",
        "\n",
        "# Set the title of the plot\n",
        "plt.title('Size of Files Changed over Time')\n",
        "\n",
        "# Add a legend\n",
        "plt.legend()\n",
        "\n",
        "# Display the plot\n",
        "plt.show()"
      ],
      "metadata": {
        "colab": {
          "base_uri": "https://localhost:8080/",
          "height": 585
        },
        "id": "5ezISXQ7Pyb-",
        "outputId": "ac837450-0a6f-447f-cebe-a689e61bab16"
      },
      "execution_count": 329,
      "outputs": [
        {
          "output_type": "display_data",
          "data": {
            "text/plain": [
              "<Figure size 1200x600 with 1 Axes>"
            ],
            "image/png": "[encoded data removed]"
          },
          "metadata": {}
        }
      ]
    },
    {
      "cell_type": "markdown",
      "source": [
        "**Size of message commits over time**"
      ],
      "metadata": {
        "id": "5j2nPVeydHt2"
      }
    },
    {
      "cell_type": "code",
      "source": [
        "sns.set_style(\"darkgrid\")\n",
        "plt.figure(figsize=(12, 6))\n",
        "sns.scatterplot(x='Updated at', y='Additions commit', data=df, label='Code Additions')\n",
        "# Set the x-axis label and rotate the tick labels for better visibility\n",
        "plt.xlabel('Date')\n",
        "plt.xticks(rotation=45)\n",
        "\n",
        "# Set the y-axis label\n",
        "plt.ylabel('Size')\n",
        "\n",
        "# Set the title of the plot\n",
        "plt.title('Size of Code Additions over Time')\n",
        "\n",
        "# Add a legend\n",
        "plt.legend()\n",
        "\n",
        "# Display the plot\n",
        "plt.show()"
      ],
      "metadata": {
        "colab": {
          "base_uri": "https://localhost:8080/",
          "height": 585
        },
        "id": "hWcc-rbBZDQi",
        "outputId": "d222e401-1b11-48de-984d-1c86161c5dab"
      },
      "execution_count": 331,
      "outputs": [
        {
          "output_type": "display_data",
          "data": {
            "text/plain": [
              "<Figure size 1200x600 with 1 Axes>"
            ],
            "image/png": "[encoded data removed]"
          },
          "metadata": {}
        }
      ]
    },
    {
      "cell_type": "markdown",
      "source": [
        "**Compare the number of commits for each Author Name**"
      ],
      "metadata": {
        "id": "Yc5hHsE8juN8"
      }
    },
    {
      "cell_type": "code",
      "source": [
        "commit_counts = df['Author Name'].value_counts().reset_index()\n",
        "\n",
        "commit_counts.columns = ['Author Name', 'Commit Count']\n",
        "\n",
        "commit_counts = commit_counts[commit_counts['Commit Count'] > 10]\n",
        "\n",
        "\n",
        "sns.set_style(\"darkgrid\")\n",
        "plt.figure(figsize=(12, 6))\n",
        "sns.barplot(x='Author Name', y='Commit Count', data=commit_counts)\n",
        "\n",
        "plt.xlabel('Author Name')\n",
        "plt.xticks(rotation=90)\n",
        "\n",
        "plt.ylabel('Number of Commits')\n",
        "\n",
        "plt.title('Number of Commits by Author')\n",
        "\n",
        "plt.show()"
      ],
      "metadata": {
        "colab": {
          "base_uri": "https://localhost:8080/",
          "height": 674
        },
        "id": "5cVoVx0aa68q",
        "outputId": "895bff43-a624-4732-e494-955ff93a7991"
      },
      "execution_count": 335,
      "outputs": [
        {
          "output_type": "display_data",
          "data": {
            "text/plain": [
              "<Figure size 1200x600 with 1 Axes>"
            ],
            "image/png": "[encoded data removed]"
          },
          "metadata": {}
        }
      ]
    },
    {
      "cell_type": "markdown",
      "source": [
        "**Compare the email type counts**"
      ],
      "metadata": {
        "id": "4w_Fi6wkkrdi"
      }
    },
    {
      "cell_type": "code",
      "source": [
        "email_type_counts = df['Email Type'].value_counts()\n",
        "email_type_counts = email_type_counts[email_type_counts > 10]\n",
        "\n",
        "sns.set_style(\"darkgrid\")\n",
        "plt.figure(figsize = (12,6))\n",
        "sns.barplot(x = email_type_counts.index, y = email_type_counts.values)\n",
        "\n",
        "plt.xlabel('Email Type')\n",
        "\n",
        "plt.xticks(rotation=90)\n",
        "\n",
        "plt.ylabel('Count')\n",
        "\n",
        "plt.show()"
      ],
      "metadata": {
        "colab": {
          "base_uri": "https://localhost:8080/",
          "height": 654
        },
        "id": "WBxmbWGMn-bi",
        "outputId": "886b6713-83e1-48e7-a962-9856aa416dbf"
      },
      "execution_count": 337,
      "outputs": [
        {
          "output_type": "display_data",
          "data": {
            "text/plain": [
              "<Figure size 1200x600 with 1 Axes>"
            ],
            "image/png": "[encoded data removed]"
          },
          "metadata": {}
        }
      ]
    },
    {
      "cell_type": "markdown",
      "source": [
        "**Commit Validation**"
      ],
      "metadata": {
        "id": "5qeW2YdNo2PH"
      }
    },
    {
      "cell_type": "code",
      "source": [
        "validation_counts = df['All Checks Passed'].value_counts()\n",
        "\n",
        "plt.figure(figsize = (6, 6))\n",
        "sns.set_palette(\"Set3\")\n",
        "sns.set_style(\"whitegrid\")\n",
        "plt.pie(validation_counts, labels=validation_counts.index, autopct='%1.1f%%', startangle=90)\n",
        "\n",
        "plt.title('Commit Validation')\n",
        "\n",
        "plt.show()"
      ],
      "metadata": {
        "colab": {
          "base_uri": "https://localhost:8080/",
          "height": 521
        },
        "id": "o4aYneAP2g5d",
        "outputId": "7a0deddb-c322-4de1-e70b-6ab741cd48b2"
      },
      "execution_count": 338,
      "outputs": [
        {
          "output_type": "display_data",
          "data": {
            "text/plain": [
              "<Figure size 600x600 with 1 Axes>"
            ],
            "image/png": "[encoded data removed]"
          },
          "metadata": {}
        }
      ]
    },
    {
      "cell_type": "markdown",
      "source": [
        "**Regression Line for Additions Commit**"
      ],
      "metadata": {
        "id": "jusmzXhHfkiU"
      }
    },
    {
      "cell_type": "markdown",
      "source": [
        "**Linear Regression function**"
      ],
      "metadata": {
        "id": "Ue_ohcPW_R7T"
      }
    },
    {
      "cell_type": "code",
      "source": [
        "import numpy as np\n",
        "def LinearRegression(X, y):\n",
        "    # w = (((X^T).X)^(-1)).X^T.y\n",
        "    # X ở đây là ma trận đầu vào mở rộng sau khi thêm cột chứa toàn số 1 vào data X\n",
        "    # Thêm cột 1 vào ma trận X ta gọi nó là X_st\n",
        "    X_st = np.column_stack((X, np.ones(len(X))))\n",
        "\n",
        "    # Giải thích việc thêm cột 1 vào ma trận X: do dữ liệu đầu vào chứa vector bao gồm các biến x1, x2, ..., xn khi đó y = W.X = w0 + w1.x1 + ... + wn.xn \n",
        "    # Với W = [w0, w1, w2, w3, ... wn]^T là các hằng số cần tối ưu ở đây w0 đóng vai trò như là hằng số trong phương trình y = ax + b vậy nên ta cần thêm 1 cột vào để khi nhân ma trận ta có được biến w0 :3\n",
        "\n",
        "    # Tính ((X^T).X)^(-1)\n",
        "    A = np.linalg.inv(np.dot(X_st.T, X_st))\n",
        "\n",
        "    # Tính tham số của đường hồi quy\n",
        "    w = np.dot(np.dot(A, X_st.T), y)\n",
        "    return w"
      ],
      "metadata": {
        "id": "NLIRXCnSfrkN"
      },
      "execution_count": 339,
      "outputs": []
    },
    {
      "cell_type": "code",
      "source": [
        "LinearRegression(df['Updated at'], df['Additions commit'])"
      ],
      "metadata": {
        "colab": {
          "base_uri": "https://localhost:8080/",
          "height": 502
        },
        "id": "HpqLYfTb_ihW",
        "outputId": "1c00ff71-51a7-4ac8-b2c7-752ddbfd0583"
      },
      "execution_count": 341,
      "outputs": [
        {
          "output_type": "error",
          "ename": "KeyError",
          "evalue": "ignored",
          "traceback": [
            "\u001b[0;31m---------------------------------------------------------------------------\u001b[0m",
            "\u001b[0;31mKeyError\u001b[0m                                  Traceback (most recent call last)",
            "\u001b[0;32m/usr/local/lib/python3.10/dist-packages/pandas/core/indexes/base.py\u001b[0m in \u001b[0;36mget_loc\u001b[0;34m(self, key, method, tolerance)\u001b[0m\n\u001b[1;32m   3801\u001b[0m             \u001b[0;32mtry\u001b[0m\u001b[0;34m:\u001b[0m\u001b[0;34m\u001b[0m\u001b[0;34m\u001b[0m\u001b[0m\n\u001b[0;32m-> 3802\u001b[0;31m                 \u001b[0;32mreturn\u001b[0m \u001b[0mself\u001b[0m\u001b[0;34m.\u001b[0m\u001b[0m_engine\u001b[0m\u001b[0;34m.\u001b[0m\u001b[0mget_loc\u001b[0m\u001b[0;34m(\u001b[0m\u001b[0mcasted_key\u001b[0m\u001b[0;34m)\u001b[0m\u001b[0;34m\u001b[0m\u001b[0;34m\u001b[0m\u001b[0m\n\u001b[0m\u001b[1;32m   3803\u001b[0m             \u001b[0;32mexcept\u001b[0m \u001b[0mKeyError\u001b[0m \u001b[0;32mas\u001b[0m \u001b[0merr\u001b[0m\u001b[0;34m:\u001b[0m\u001b[0;34m\u001b[0m\u001b[0;34m\u001b[0m\u001b[0m\n",
            "\u001b[0;32m/usr/local/lib/python3.10/dist-packages/pandas/_libs/index.pyx\u001b[0m in \u001b[0;36mpandas._libs.index.IndexEngine.get_loc\u001b[0;34m()\u001b[0m\n",
            "\u001b[0;32m/usr/local/lib/python3.10/dist-packages/pandas/_libs/index.pyx\u001b[0m in \u001b[0;36mpandas._libs.index.IndexEngine.get_loc\u001b[0;34m()\u001b[0m\n",
            "\u001b[0;32mpandas/_libs/hashtable_class_helper.pxi\u001b[0m in \u001b[0;36mpandas._libs.hashtable.PyObjectHashTable.get_item\u001b[0;34m()\u001b[0m\n",
            "\u001b[0;32mpandas/_libs/hashtable_class_helper.pxi\u001b[0m in \u001b[0;36mpandas._libs.hashtable.PyObjectHashTable.get_item\u001b[0;34m()\u001b[0m\n",
            "\u001b[0;31mKeyError\u001b[0m: 'Updated at'",
            "\nThe above exception was the direct cause of the following exception:\n",
            "\u001b[0;31mKeyError\u001b[0m                                  Traceback (most recent call last)",
            "\u001b[0;32m<ipython-input-341-423312752885>\u001b[0m in \u001b[0;36m<cell line: 1>\u001b[0;34m()\u001b[0m\n\u001b[0;32m----> 1\u001b[0;31m \u001b[0mLinearRegression\u001b[0m\u001b[0;34m(\u001b[0m\u001b[0mdf\u001b[0m\u001b[0;34m[\u001b[0m\u001b[0;34m'Updated at'\u001b[0m\u001b[0;34m]\u001b[0m\u001b[0;34m,\u001b[0m \u001b[0mdf\u001b[0m\u001b[0;34m[\u001b[0m\u001b[0;34m'Additions commit'\u001b[0m\u001b[0;34m]\u001b[0m\u001b[0;34m)\u001b[0m\u001b[0;34m\u001b[0m\u001b[0;34m\u001b[0m\u001b[0m\n\u001b[0m",
            "\u001b[0;32m/usr/local/lib/python3.10/dist-packages/pandas/core/frame.py\u001b[0m in \u001b[0;36m__getitem__\u001b[0;34m(self, key)\u001b[0m\n\u001b[1;32m   3805\u001b[0m             \u001b[0;32mif\u001b[0m \u001b[0mself\u001b[0m\u001b[0;34m.\u001b[0m\u001b[0mcolumns\u001b[0m\u001b[0;34m.\u001b[0m\u001b[0mnlevels\u001b[0m \u001b[0;34m>\u001b[0m \u001b[0;36m1\u001b[0m\u001b[0;34m:\u001b[0m\u001b[0;34m\u001b[0m\u001b[0;34m\u001b[0m\u001b[0m\n\u001b[1;32m   3806\u001b[0m                 \u001b[0;32mreturn\u001b[0m \u001b[0mself\u001b[0m\u001b[0;34m.\u001b[0m\u001b[0m_getitem_multilevel\u001b[0m\u001b[0;34m(\u001b[0m\u001b[0mkey\u001b[0m\u001b[0;34m)\u001b[0m\u001b[0;34m\u001b[0m\u001b[0;34m\u001b[0m\u001b[0m\n\u001b[0;32m-> 3807\u001b[0;31m             \u001b[0mindexer\u001b[0m \u001b[0;34m=\u001b[0m \u001b[0mself\u001b[0m\u001b[0;34m.\u001b[0m\u001b[0mcolumns\u001b[0m\u001b[0;34m.\u001b[0m\u001b[0mget_loc\u001b[0m\u001b[0;34m(\u001b[0m\u001b[0mkey\u001b[0m\u001b[0;34m)\u001b[0m\u001b[0;34m\u001b[0m\u001b[0;34m\u001b[0m\u001b[0m\n\u001b[0m\u001b[1;32m   3808\u001b[0m             \u001b[0;32mif\u001b[0m \u001b[0mis_integer\u001b[0m\u001b[0;34m(\u001b[0m\u001b[0mindexer\u001b[0m\u001b[0;34m)\u001b[0m\u001b[0;34m:\u001b[0m\u001b[0;34m\u001b[0m\u001b[0;34m\u001b[0m\u001b[0m\n\u001b[1;32m   3809\u001b[0m                 \u001b[0mindexer\u001b[0m \u001b[0;34m=\u001b[0m \u001b[0;34m[\u001b[0m\u001b[0mindexer\u001b[0m\u001b[0;34m]\u001b[0m\u001b[0;34m\u001b[0m\u001b[0;34m\u001b[0m\u001b[0m\n",
            "\u001b[0;32m/usr/local/lib/python3.10/dist-packages/pandas/core/indexes/base.py\u001b[0m in \u001b[0;36mget_loc\u001b[0;34m(self, key, method, tolerance)\u001b[0m\n\u001b[1;32m   3802\u001b[0m                 \u001b[0;32mreturn\u001b[0m \u001b[0mself\u001b[0m\u001b[0;34m.\u001b[0m\u001b[0m_engine\u001b[0m\u001b[0;34m.\u001b[0m\u001b[0mget_loc\u001b[0m\u001b[0;34m(\u001b[0m\u001b[0mcasted_key\u001b[0m\u001b[0;34m)\u001b[0m\u001b[0;34m\u001b[0m\u001b[0;34m\u001b[0m\u001b[0m\n\u001b[1;32m   3803\u001b[0m             \u001b[0;32mexcept\u001b[0m \u001b[0mKeyError\u001b[0m \u001b[0;32mas\u001b[0m \u001b[0merr\u001b[0m\u001b[0;34m:\u001b[0m\u001b[0;34m\u001b[0m\u001b[0;34m\u001b[0m\u001b[0m\n\u001b[0;32m-> 3804\u001b[0;31m                 \u001b[0;32mraise\u001b[0m \u001b[0mKeyError\u001b[0m\u001b[0;34m(\u001b[0m\u001b[0mkey\u001b[0m\u001b[0;34m)\u001b[0m \u001b[0;32mfrom\u001b[0m \u001b[0merr\u001b[0m\u001b[0;34m\u001b[0m\u001b[0;34m\u001b[0m\u001b[0m\n\u001b[0m\u001b[1;32m   3805\u001b[0m             \u001b[0;32mexcept\u001b[0m \u001b[0mTypeError\u001b[0m\u001b[0;34m:\u001b[0m\u001b[0;34m\u001b[0m\u001b[0;34m\u001b[0m\u001b[0m\n\u001b[1;32m   3806\u001b[0m                 \u001b[0;31m# If we have a listlike key, _check_indexing_error will raise\u001b[0m\u001b[0;34m\u001b[0m\u001b[0;34m\u001b[0m\u001b[0m\n",
            "\u001b[0;31mKeyError\u001b[0m: 'Updated at'"
          ]
        }
      ]
    },
    {
      "cell_type": "code",
      "source": [],
      "metadata": {
        "id": "rROujk5VBv1e"
      },
      "execution_count": null,
      "outputs": []
    }
  ],
  "metadata": {
    "colab": {
      "provenance": [],
      "authorship_tag": "ABX9TyON9aNGnzkxXgvsNy2ttdGx",
      "include_colab_link": true
    },
    "kernelspec": {
      "display_name": "Python 3",
      "name": "python3"
    },
    "language_info": {
      "name": "python"
    }
  },
  "nbformat": 4,
  "nbformat_minor": 0
}