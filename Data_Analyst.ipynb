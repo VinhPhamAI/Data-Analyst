{
  "nbformat": 4,
  "nbformat_minor": 0,
  "metadata": {
    "colab": {
      "provenance": [],
      "authorship_tag": "ABX9TyP2Vi2Jv6R85Mt7CuICPOzn",
      "include_colab_link": true
    },
    "kernelspec": {
      "name": "python3",
      "display_name": "Python 3"
    },
    "language_info": {
      "name": "python"
    }
  },
  "cells": [
    {
      "cell_type": "markdown",
      "metadata": {
        "id": "view-in-github",
        "colab_type": "text"
      },
      "source": [
        "<a href=\"https://colab.research.google.com/github/VinhPhamAI/Data-Analyst/blob/main/Data_Analyst.ipynb\" target=\"_parent\"><img src=\"https://colab.research.google.com/assets/colab-badge.svg\" alt=\"Open In Colab\"/></a>"
      ]
    },
    {
      "cell_type": "code",
      "execution_count": 146,
      "metadata": {
        "id": "CPSpiGoIRkF0",
        "colab": {
          "base_uri": "https://localhost:8080/"
        },
        "outputId": "de499b05-5479-43e1-926b-af2f5d4792fc"
      },
      "outputs": [
        {
          "output_type": "stream",
          "name": "stderr",
          "text": [
            "[nltk_data] Downloading package punkt to /root/nltk_data...\n",
            "[nltk_data]   Package punkt is already up-to-date!\n",
            "[nltk_data] Downloading package stopwords to /root/nltk_data...\n",
            "[nltk_data]   Package stopwords is already up-to-date!\n"
          ]
        },
        {
          "output_type": "execute_result",
          "data": {
            "text/plain": [
              "True"
            ]
          },
          "metadata": {},
          "execution_count": 146
        }
      ],
      "source": [
        "import seaborn as sns\n",
        "import numpy as numpy\n",
        "import matplotlib.pyplot as plt\n",
        "import pandas as pd\n",
        "import ast\n",
        "import nltk\n",
        "nltk.download('punkt')\n",
        "nltk.download('stopwords')"
      ]
    },
    {
      "cell_type": "markdown",
      "source": [
        "# Data Cleaning and Preprocessing"
      ],
      "metadata": {
        "id": "dbMAW68Bo4mD"
      }
    },
    {
      "cell_type": "markdown",
      "source": [
        "**Importing dataset**"
      ],
      "metadata": {
        "id": "GWlzjpA-pD_S"
      }
    },
    {
      "cell_type": "code",
      "source": [
        "df1 = pd.read_csv(\"commit_facebook 1.csv\")\n",
        "df2 = pd.read_csv(\"commit_facebook 2.csv\")\n",
        "df3 = pd.read_csv(\"commit_facebook 3.csv\")\n",
        "df4 = pd.read_csv(\"commit_facebook 4.csv\")"
      ],
      "metadata": {
        "id": "srdnC-iKRqPy"
      },
      "execution_count": 147,
      "outputs": []
    },
    {
      "cell_type": "markdown",
      "source": [
        "**Merge multiple DataFrames into a single DataFrame**"
      ],
      "metadata": {
        "id": "yMLupPmywSI9"
      }
    },
    {
      "cell_type": "code",
      "source": [
        "df = pd.concat([df1, df2, df3, df4], axis=0)"
      ],
      "metadata": {
        "id": "VVoI4wyGw1dx"
      },
      "execution_count": 148,
      "outputs": []
    },
    {
      "cell_type": "markdown",
      "source": [
        "**Remove duplicate columns get from data extraction**"
      ],
      "metadata": {
        "id": "AKQeBuJ-2_7a"
      }
    },
    {
      "cell_type": "code",
      "source": [
        "df.drop_duplicates(inplace = True)"
      ],
      "metadata": {
        "id": "bEEWApxAyBAG"
      },
      "execution_count": 149,
      "outputs": []
    },
    {
      "cell_type": "markdown",
      "source": [
        "**Reset the index of the merged DataFrame**"
      ],
      "metadata": {
        "id": "rbCNyDoEw_LB"
      }
    },
    {
      "cell_type": "code",
      "source": [
        "df = df.reset_index(drop = True)"
      ],
      "metadata": {
        "id": "puEhNL9Sw6RM"
      },
      "execution_count": 150,
      "outputs": []
    },
    {
      "cell_type": "code",
      "source": [
        "df"
      ],
      "metadata": {
        "id": "oDloODlK1SNc",
        "outputId": "44a43caa-febd-499c-d50b-cbdc9b675cfb",
        "colab": {
          "base_uri": "https://localhost:8080/",
          "height": 870
        }
      },
      "execution_count": 151,
      "outputs": [
        {
          "output_type": "execute_result",
          "data": {
            "text/plain": [
              "                                     Commit ID  \\\n",
              "0     d960b9e38c062584ff6cfb1a70e1512509a966e7   \n",
              "1     f34d88e30c7d8be7181f728d1abc4fd8d5cd07d3   \n",
              "2     c378572024967fee15d97da1b6fbfcd2894b4b66   \n",
              "3     a45ee3b091b3a7c7151a98ebaf5ec460eda7d614   \n",
              "4     bcff1928dac6f9d708613dff5eac36c2834bc139   \n",
              "...                                        ...   \n",
              "2795  9800d053166fdbc36a9661a79d99c63ef2bd45c0   \n",
              "2796  2badb45121503202bc13a57d2de4236b68493656   \n",
              "2797  86fa5b3f78013787b4f6801b989edb700feaaec7   \n",
              "2798  9c72b8137c5769221b1eedcbd88265a432b3caa9   \n",
              "2799  003d9e7b52c3a91cb584b3afd78cd06c539f13be   \n",
              "\n",
              "                                         Commit Message          Author Name  \\\n",
              "0     docs: fix link of \"Building for Relative Paths...               ryan.c   \n",
              "1     Merge pull request #12558 from danielrentz/pat...         Chaoshuai Lü   \n",
              "2     Merge pull request #12537 from pawelskowronek/...         Chaoshuai Lü   \n",
              "3     Merge pull request #12531 from MoshiulRabbi/pa...         Chaoshuai Lü   \n",
              "4     Merge pull request #12539 from liam-mulhall/pa...         Chaoshuai Lü   \n",
              "...                                                 ...                  ...   \n",
              "2795                       Add linting and nicer output          Dan Abramov   \n",
              "2796                                 Explain what it is          Dan Abramov   \n",
              "2797                     Add some \"basic\" configuration          Dan Abramov   \n",
              "2798  Initial commit with webpack and css/autoprefix...  Christopher Chedeau   \n",
              "2799                                     Initial commit  Christopher Chedeau   \n",
              "\n",
              "                Author Email           Created at           Updated at  \\\n",
              "0     jackblackevo@gmail.com  2022-09-08 07:40:47  2022-09-08 07:40:47   \n",
              "1             matrush@qq.com  2022-07-05 18:52:20  2022-07-05 18:52:20   \n",
              "2             matrush@qq.com  2022-07-05 18:49:51  2022-07-05 18:49:51   \n",
              "3             matrush@qq.com  2022-07-05 18:48:30  2022-07-05 18:48:30   \n",
              "4             matrush@qq.com  2022-07-05 18:48:07  2022-07-05 18:48:07   \n",
              "...                      ...                  ...                  ...   \n",
              "2795   dan.abramov@gmail.com  2016-07-15 19:58:47  2016-07-15 19:58:47   \n",
              "2796   dan.abramov@gmail.com  2016-07-15 19:08:21  2016-07-15 19:08:21   \n",
              "2797   dan.abramov@gmail.com  2016-07-15 19:07:31  2016-07-15 19:07:31   \n",
              "2798            vjeux@fb.com  2016-07-15 17:52:45  2016-07-15 17:52:45   \n",
              "2799        vjeuxx@gmail.com  2016-07-15 16:46:37  2016-07-15 16:46:37   \n",
              "\n",
              "                                          Files Changed  \\\n",
              "0         ['docusaurus/docs/advanced-configuration.md']   \n",
              "1         ['docusaurus/docs/setting-up-your-editor.md']   \n",
              "2              ['docusaurus/docs/adding-typescript.md']   \n",
              "3                     ['docusaurus/docs/deployment.md']   \n",
              "4                ['docusaurus/docs/adding-a-router.md']   \n",
              "...                                                 ...   \n",
              "2795  ['.eslintrc', 'devServer.js', 'package.json', ...   \n",
              "2796                                      ['README.md']   \n",
              "2797  ['.babelrc', '.gitignore', 'build/bundle.js', ...   \n",
              "2798  ['.gitignore', 'build/bundle.js', 'cli.js', 'i...   \n",
              "2799                ['LICENSE', 'PATENTS', 'README.md']   \n",
              "\n",
              "                                        Branch   Contributor  \\\n",
              "0     f34d88e30c7d8be7181f728d1abc4fd8d5cd07d3  jackblackevo   \n",
              "1     c378572024967fee15d97da1b6fbfcd2894b4b66       matrush   \n",
              "2     a45ee3b091b3a7c7151a98ebaf5ec460eda7d614       matrush   \n",
              "3     bcff1928dac6f9d708613dff5eac36c2834bc139       matrush   \n",
              "4     c2cbaaf006e9ba70888565ed33b4990985f5fc44       matrush   \n",
              "...                                        ...           ...   \n",
              "2795  2badb45121503202bc13a57d2de4236b68493656       gaearon   \n",
              "2796  86fa5b3f78013787b4f6801b989edb700feaaec7       gaearon   \n",
              "2797  9c72b8137c5769221b1eedcbd88265a432b3caa9       gaearon   \n",
              "2798  003d9e7b52c3a91cb584b3afd78cd06c539f13be         vjeux   \n",
              "2799                                       NaN         vjeux   \n",
              "\n",
              "      All Checks Passed  \n",
              "0                  True  \n",
              "1                 False  \n",
              "2                 False  \n",
              "3                 False  \n",
              "4                 False  \n",
              "...                 ...  \n",
              "2795               True  \n",
              "2796               True  \n",
              "2797               True  \n",
              "2798               True  \n",
              "2799               True  \n",
              "\n",
              "[2800 rows x 10 columns]"
            ],
            "text/html": [
              "\n",
              "  <div id=\"df-deadbed6-2d59-4053-8633-7380bc6d6007\">\n",
              "    <div class=\"colab-df-container\">\n",
              "      <div>\n",
              "<style scoped>\n",
              "    .dataframe tbody tr th:only-of-type {\n",
              "        vertical-align: middle;\n",
              "    }\n",
              "\n",
              "    .dataframe tbody tr th {\n",
              "        vertical-align: top;\n",
              "    }\n",
              "\n",
              "    .dataframe thead th {\n",
              "        text-align: right;\n",
              "    }\n",
              "</style>\n",
              "<table border=\"1\" class=\"dataframe\">\n",
              "  <thead>\n",
              "    <tr style=\"text-align: right;\">\n",
              "      <th></th>\n",
              "      <th>Commit ID</th>\n",
              "      <th>Commit Message</th>\n",
              "      <th>Author Name</th>\n",
              "      <th>Author Email</th>\n",
              "      <th>Created at</th>\n",
              "      <th>Updated at</th>\n",
              "      <th>Files Changed</th>\n",
              "      <th>Branch</th>\n",
              "      <th>Contributor</th>\n",
              "      <th>All Checks Passed</th>\n",
              "    </tr>\n",
              "  </thead>\n",
              "  <tbody>\n",
              "    <tr>\n",
              "      <th>0</th>\n",
              "      <td>d960b9e38c062584ff6cfb1a70e1512509a966e7</td>\n",
              "      <td>docs: fix link of \"Building for Relative Paths...</td>\n",
              "      <td>ryan.c</td>\n",
              "      <td>jackblackevo@gmail.com</td>\n",
              "      <td>2022-09-08 07:40:47</td>\n",
              "      <td>2022-09-08 07:40:47</td>\n",
              "      <td>['docusaurus/docs/advanced-configuration.md']</td>\n",
              "      <td>f34d88e30c7d8be7181f728d1abc4fd8d5cd07d3</td>\n",
              "      <td>jackblackevo</td>\n",
              "      <td>True</td>\n",
              "    </tr>\n",
              "    <tr>\n",
              "      <th>1</th>\n",
              "      <td>f34d88e30c7d8be7181f728d1abc4fd8d5cd07d3</td>\n",
              "      <td>Merge pull request #12558 from danielrentz/pat...</td>\n",
              "      <td>Chaoshuai Lü</td>\n",
              "      <td>matrush@qq.com</td>\n",
              "      <td>2022-07-05 18:52:20</td>\n",
              "      <td>2022-07-05 18:52:20</td>\n",
              "      <td>['docusaurus/docs/setting-up-your-editor.md']</td>\n",
              "      <td>c378572024967fee15d97da1b6fbfcd2894b4b66</td>\n",
              "      <td>matrush</td>\n",
              "      <td>False</td>\n",
              "    </tr>\n",
              "    <tr>\n",
              "      <th>2</th>\n",
              "      <td>c378572024967fee15d97da1b6fbfcd2894b4b66</td>\n",
              "      <td>Merge pull request #12537 from pawelskowronek/...</td>\n",
              "      <td>Chaoshuai Lü</td>\n",
              "      <td>matrush@qq.com</td>\n",
              "      <td>2022-07-05 18:49:51</td>\n",
              "      <td>2022-07-05 18:49:51</td>\n",
              "      <td>['docusaurus/docs/adding-typescript.md']</td>\n",
              "      <td>a45ee3b091b3a7c7151a98ebaf5ec460eda7d614</td>\n",
              "      <td>matrush</td>\n",
              "      <td>False</td>\n",
              "    </tr>\n",
              "    <tr>\n",
              "      <th>3</th>\n",
              "      <td>a45ee3b091b3a7c7151a98ebaf5ec460eda7d614</td>\n",
              "      <td>Merge pull request #12531 from MoshiulRabbi/pa...</td>\n",
              "      <td>Chaoshuai Lü</td>\n",
              "      <td>matrush@qq.com</td>\n",
              "      <td>2022-07-05 18:48:30</td>\n",
              "      <td>2022-07-05 18:48:30</td>\n",
              "      <td>['docusaurus/docs/deployment.md']</td>\n",
              "      <td>bcff1928dac6f9d708613dff5eac36c2834bc139</td>\n",
              "      <td>matrush</td>\n",
              "      <td>False</td>\n",
              "    </tr>\n",
              "    <tr>\n",
              "      <th>4</th>\n",
              "      <td>bcff1928dac6f9d708613dff5eac36c2834bc139</td>\n",
              "      <td>Merge pull request #12539 from liam-mulhall/pa...</td>\n",
              "      <td>Chaoshuai Lü</td>\n",
              "      <td>matrush@qq.com</td>\n",
              "      <td>2022-07-05 18:48:07</td>\n",
              "      <td>2022-07-05 18:48:07</td>\n",
              "      <td>['docusaurus/docs/adding-a-router.md']</td>\n",
              "      <td>c2cbaaf006e9ba70888565ed33b4990985f5fc44</td>\n",
              "      <td>matrush</td>\n",
              "      <td>False</td>\n",
              "    </tr>\n",
              "    <tr>\n",
              "      <th>...</th>\n",
              "      <td>...</td>\n",
              "      <td>...</td>\n",
              "      <td>...</td>\n",
              "      <td>...</td>\n",
              "      <td>...</td>\n",
              "      <td>...</td>\n",
              "      <td>...</td>\n",
              "      <td>...</td>\n",
              "      <td>...</td>\n",
              "      <td>...</td>\n",
              "    </tr>\n",
              "    <tr>\n",
              "      <th>2795</th>\n",
              "      <td>9800d053166fdbc36a9661a79d99c63ef2bd45c0</td>\n",
              "      <td>Add linting and nicer output</td>\n",
              "      <td>Dan Abramov</td>\n",
              "      <td>dan.abramov@gmail.com</td>\n",
              "      <td>2016-07-15 19:58:47</td>\n",
              "      <td>2016-07-15 19:58:47</td>\n",
              "      <td>['.eslintrc', 'devServer.js', 'package.json', ...</td>\n",
              "      <td>2badb45121503202bc13a57d2de4236b68493656</td>\n",
              "      <td>gaearon</td>\n",
              "      <td>True</td>\n",
              "    </tr>\n",
              "    <tr>\n",
              "      <th>2796</th>\n",
              "      <td>2badb45121503202bc13a57d2de4236b68493656</td>\n",
              "      <td>Explain what it is</td>\n",
              "      <td>Dan Abramov</td>\n",
              "      <td>dan.abramov@gmail.com</td>\n",
              "      <td>2016-07-15 19:08:21</td>\n",
              "      <td>2016-07-15 19:08:21</td>\n",
              "      <td>['README.md']</td>\n",
              "      <td>86fa5b3f78013787b4f6801b989edb700feaaec7</td>\n",
              "      <td>gaearon</td>\n",
              "      <td>True</td>\n",
              "    </tr>\n",
              "    <tr>\n",
              "      <th>2797</th>\n",
              "      <td>86fa5b3f78013787b4f6801b989edb700feaaec7</td>\n",
              "      <td>Add some \"basic\" configuration</td>\n",
              "      <td>Dan Abramov</td>\n",
              "      <td>dan.abramov@gmail.com</td>\n",
              "      <td>2016-07-15 19:07:31</td>\n",
              "      <td>2016-07-15 19:07:31</td>\n",
              "      <td>['.babelrc', '.gitignore', 'build/bundle.js', ...</td>\n",
              "      <td>9c72b8137c5769221b1eedcbd88265a432b3caa9</td>\n",
              "      <td>gaearon</td>\n",
              "      <td>True</td>\n",
              "    </tr>\n",
              "    <tr>\n",
              "      <th>2798</th>\n",
              "      <td>9c72b8137c5769221b1eedcbd88265a432b3caa9</td>\n",
              "      <td>Initial commit with webpack and css/autoprefix...</td>\n",
              "      <td>Christopher Chedeau</td>\n",
              "      <td>vjeux@fb.com</td>\n",
              "      <td>2016-07-15 17:52:45</td>\n",
              "      <td>2016-07-15 17:52:45</td>\n",
              "      <td>['.gitignore', 'build/bundle.js', 'cli.js', 'i...</td>\n",
              "      <td>003d9e7b52c3a91cb584b3afd78cd06c539f13be</td>\n",
              "      <td>vjeux</td>\n",
              "      <td>True</td>\n",
              "    </tr>\n",
              "    <tr>\n",
              "      <th>2799</th>\n",
              "      <td>003d9e7b52c3a91cb584b3afd78cd06c539f13be</td>\n",
              "      <td>Initial commit</td>\n",
              "      <td>Christopher Chedeau</td>\n",
              "      <td>vjeuxx@gmail.com</td>\n",
              "      <td>2016-07-15 16:46:37</td>\n",
              "      <td>2016-07-15 16:46:37</td>\n",
              "      <td>['LICENSE', 'PATENTS', 'README.md']</td>\n",
              "      <td>NaN</td>\n",
              "      <td>vjeux</td>\n",
              "      <td>True</td>\n",
              "    </tr>\n",
              "  </tbody>\n",
              "</table>\n",
              "<p>2800 rows × 10 columns</p>\n",
              "</div>\n",
              "      <button class=\"colab-df-convert\" onclick=\"convertToInteractive('df-deadbed6-2d59-4053-8633-7380bc6d6007')\"\n",
              "              title=\"Convert this dataframe to an interactive table.\"\n",
              "              style=\"display:none;\">\n",
              "        \n",
              "  <svg xmlns=\"http://www.w3.org/2000/svg\" height=\"24px\"viewBox=\"0 0 24 24\"\n",
              "       width=\"24px\">\n",
              "    <path d=\"M0 0h24v24H0V0z\" fill=\"none\"/>\n",
              "    <path d=\"M18.56 5.44l.94 2.06.94-2.06 2.06-.94-2.06-.94-.94-2.06-.94 2.06-2.06.94zm-11 1L8.5 8.5l.94-2.06 2.06-.94-2.06-.94L8.5 2.5l-.94 2.06-2.06.94zm10 10l.94 2.06.94-2.06 2.06-.94-2.06-.94-.94-2.06-.94 2.06-2.06.94z\"/><path d=\"M17.41 7.96l-1.37-1.37c-.4-.4-.92-.59-1.43-.59-.52 0-1.04.2-1.43.59L10.3 9.45l-7.72 7.72c-.78.78-.78 2.05 0 2.83L4 21.41c.39.39.9.59 1.41.59.51 0 1.02-.2 1.41-.59l7.78-7.78 2.81-2.81c.8-.78.8-2.07 0-2.86zM5.41 20L4 18.59l7.72-7.72 1.47 1.35L5.41 20z\"/>\n",
              "  </svg>\n",
              "      </button>\n",
              "      \n",
              "  <style>\n",
              "    .colab-df-container {\n",
              "      display:flex;\n",
              "      flex-wrap:wrap;\n",
              "      gap: 12px;\n",
              "    }\n",
              "\n",
              "    .colab-df-convert {\n",
              "      background-color: #E8F0FE;\n",
              "      border: none;\n",
              "      border-radius: 50%;\n",
              "      cursor: pointer;\n",
              "      display: none;\n",
              "      fill: #1967D2;\n",
              "      height: 32px;\n",
              "      padding: 0 0 0 0;\n",
              "      width: 32px;\n",
              "    }\n",
              "\n",
              "    .colab-df-convert:hover {\n",
              "      background-color: #E2EBFA;\n",
              "      box-shadow: 0px 1px 2px rgba(60, 64, 67, 0.3), 0px 1px 3px 1px rgba(60, 64, 67, 0.15);\n",
              "      fill: #174EA6;\n",
              "    }\n",
              "\n",
              "    [theme=dark] .colab-df-convert {\n",
              "      background-color: #3B4455;\n",
              "      fill: #D2E3FC;\n",
              "    }\n",
              "\n",
              "    [theme=dark] .colab-df-convert:hover {\n",
              "      background-color: #434B5C;\n",
              "      box-shadow: 0px 1px 3px 1px rgba(0, 0, 0, 0.15);\n",
              "      filter: drop-shadow(0px 1px 2px rgba(0, 0, 0, 0.3));\n",
              "      fill: #FFFFFF;\n",
              "    }\n",
              "  </style>\n",
              "\n",
              "      <script>\n",
              "        const buttonEl =\n",
              "          document.querySelector('#df-deadbed6-2d59-4053-8633-7380bc6d6007 button.colab-df-convert');\n",
              "        buttonEl.style.display =\n",
              "          google.colab.kernel.accessAllowed ? 'block' : 'none';\n",
              "\n",
              "        async function convertToInteractive(key) {\n",
              "          const element = document.querySelector('#df-deadbed6-2d59-4053-8633-7380bc6d6007');\n",
              "          const dataTable =\n",
              "            await google.colab.kernel.invokeFunction('convertToInteractive',\n",
              "                                                     [key], {});\n",
              "          if (!dataTable) return;\n",
              "\n",
              "          const docLinkHtml = 'Like what you see? Visit the ' +\n",
              "            '<a target=\"_blank\" href=https://colab.research.google.com/notebooks/data_table.ipynb>data table notebook</a>'\n",
              "            + ' to learn more about interactive tables.';\n",
              "          element.innerHTML = '';\n",
              "          dataTable['output_type'] = 'display_data';\n",
              "          await google.colab.output.renderOutput(dataTable, element);\n",
              "          const docLink = document.createElement('div');\n",
              "          docLink.innerHTML = docLinkHtml;\n",
              "          element.appendChild(docLink);\n",
              "        }\n",
              "      </script>\n",
              "    </div>\n",
              "  </div>\n",
              "  "
            ]
          },
          "metadata": {},
          "execution_count": 151
        }
      ]
    },
    {
      "cell_type": "code",
      "source": [
        "df['Branch'].value_counts() "
      ],
      "metadata": {
        "id": "PMmapQWp3kj3",
        "outputId": "d63ac7d9-300a-491a-ad37-d5bb5220c3b0",
        "colab": {
          "base_uri": "https://localhost:8080/"
        }
      },
      "execution_count": 152,
      "outputs": [
        {
          "output_type": "execute_result",
          "data": {
            "text/plain": [
              "cee26589ff919e946030a5651a93ccba78a93293    6\n",
              "749a76d291d6b07681d0941eeb23112c6970d3c4    4\n",
              "c20ccecfa1cf130a47d37908dc54959c618ce8ea    3\n",
              "c2a163a350d7dcd70ee446f690b6016fe9308f1f    3\n",
              "3f5dea91c1721b233e5a2b514ff9ea6fbc76ff97    3\n",
              "                                           ..\n",
              "7aaa463547386ee9589cf4ff42bc1d66126b0054    1\n",
              "0f5bb0d937a9eef5a63fd3b59181bee6069a6269    1\n",
              "6035abf8f307a25c8e461149393af1a045d3b6e0    1\n",
              "678ef7609e48936134e81c08d2e731e256e4bc11    1\n",
              "003d9e7b52c3a91cb584b3afd78cd06c539f13be    1\n",
              "Name: Branch, Length: 2758, dtype: int64"
            ]
          },
          "metadata": {},
          "execution_count": 152
        }
      ]
    },
    {
      "cell_type": "code",
      "source": [
        "df['Updated at'] = pd.to_datetime(df['Updated at'])\n",
        "df.sort_values('Updated at', inplace = True)"
      ],
      "metadata": {
        "id": "oW5KowuMAhpp"
      },
      "execution_count": 153,
      "outputs": []
    },
    {
      "cell_type": "code",
      "source": [
        "df = df.reset_index(drop = True)"
      ],
      "metadata": {
        "id": "lenQj0pDw03H"
      },
      "execution_count": 154,
      "outputs": []
    },
    {
      "cell_type": "code",
      "source": [
        "df['Additions commit'] = df['Commit Message'].str.len()\n",
        "df.drop('Commit ID', axis = 1, inplace = True)\n",
        "df.drop('Created at', axis = 1, inplace = True)\n",
        "df"
      ],
      "metadata": {
        "colab": {
          "base_uri": "https://localhost:8080/",
          "height": 870
        },
        "id": "usTatCm8yAln",
        "outputId": "a99e6689-e8d7-48c1-940e-5e76f23d3836"
      },
      "execution_count": 155,
      "outputs": [
        {
          "output_type": "execute_result",
          "data": {
            "text/plain": [
              "                                         Commit Message          Author Name  \\\n",
              "0                                        Initial commit  Christopher Chedeau   \n",
              "1     Initial commit with webpack and css/autoprefix...  Christopher Chedeau   \n",
              "2                        Add some \"basic\" configuration          Dan Abramov   \n",
              "3                                    Explain what it is          Dan Abramov   \n",
              "4                          Add linting and nicer output          Dan Abramov   \n",
              "...                                                 ...                  ...   \n",
              "2795  Merge pull request #12539 from liam-mulhall/pa...         Chaoshuai Lü   \n",
              "2796  Merge pull request #12531 from MoshiulRabbi/pa...         Chaoshuai Lü   \n",
              "2797  Merge pull request #12537 from pawelskowronek/...         Chaoshuai Lü   \n",
              "2798  Merge pull request #12558 from danielrentz/pat...         Chaoshuai Lü   \n",
              "2799  docs: fix link of \"Building for Relative Paths...               ryan.c   \n",
              "\n",
              "                Author Email          Updated at  \\\n",
              "0           vjeuxx@gmail.com 2016-07-15 16:46:37   \n",
              "1               vjeux@fb.com 2016-07-15 17:52:45   \n",
              "2      dan.abramov@gmail.com 2016-07-15 19:07:31   \n",
              "3      dan.abramov@gmail.com 2016-07-15 19:08:21   \n",
              "4      dan.abramov@gmail.com 2016-07-15 19:58:47   \n",
              "...                      ...                 ...   \n",
              "2795          matrush@qq.com 2022-07-05 18:48:07   \n",
              "2796          matrush@qq.com 2022-07-05 18:48:30   \n",
              "2797          matrush@qq.com 2022-07-05 18:49:51   \n",
              "2798          matrush@qq.com 2022-07-05 18:52:20   \n",
              "2799  jackblackevo@gmail.com 2022-09-08 07:40:47   \n",
              "\n",
              "                                          Files Changed  \\\n",
              "0                   ['LICENSE', 'PATENTS', 'README.md']   \n",
              "1     ['.gitignore', 'build/bundle.js', 'cli.js', 'i...   \n",
              "2     ['.babelrc', '.gitignore', 'build/bundle.js', ...   \n",
              "3                                         ['README.md']   \n",
              "4     ['.eslintrc', 'devServer.js', 'package.json', ...   \n",
              "...                                                 ...   \n",
              "2795             ['docusaurus/docs/adding-a-router.md']   \n",
              "2796                  ['docusaurus/docs/deployment.md']   \n",
              "2797           ['docusaurus/docs/adding-typescript.md']   \n",
              "2798      ['docusaurus/docs/setting-up-your-editor.md']   \n",
              "2799      ['docusaurus/docs/advanced-configuration.md']   \n",
              "\n",
              "                                        Branch   Contributor  \\\n",
              "0                                          NaN         vjeux   \n",
              "1     003d9e7b52c3a91cb584b3afd78cd06c539f13be         vjeux   \n",
              "2     9c72b8137c5769221b1eedcbd88265a432b3caa9       gaearon   \n",
              "3     86fa5b3f78013787b4f6801b989edb700feaaec7       gaearon   \n",
              "4     2badb45121503202bc13a57d2de4236b68493656       gaearon   \n",
              "...                                        ...           ...   \n",
              "2795  c2cbaaf006e9ba70888565ed33b4990985f5fc44       matrush   \n",
              "2796  bcff1928dac6f9d708613dff5eac36c2834bc139       matrush   \n",
              "2797  a45ee3b091b3a7c7151a98ebaf5ec460eda7d614       matrush   \n",
              "2798  c378572024967fee15d97da1b6fbfcd2894b4b66       matrush   \n",
              "2799  f34d88e30c7d8be7181f728d1abc4fd8d5cd07d3  jackblackevo   \n",
              "\n",
              "      All Checks Passed  Additions commit  \n",
              "0                  True                14  \n",
              "1                  True                56  \n",
              "2                  True                30  \n",
              "3                  True                18  \n",
              "4                  True                28  \n",
              "...                 ...               ...  \n",
              "2795              False                89  \n",
              "2796              False                85  \n",
              "2797              False               107  \n",
              "2798              False                85  \n",
              "2799               True                56  \n",
              "\n",
              "[2800 rows x 9 columns]"
            ],
            "text/html": [
              "\n",
              "  <div id=\"df-f9d080a7-7d9e-4e74-a2a4-2925a2d69a89\">\n",
              "    <div class=\"colab-df-container\">\n",
              "      <div>\n",
              "<style scoped>\n",
              "    .dataframe tbody tr th:only-of-type {\n",
              "        vertical-align: middle;\n",
              "    }\n",
              "\n",
              "    .dataframe tbody tr th {\n",
              "        vertical-align: top;\n",
              "    }\n",
              "\n",
              "    .dataframe thead th {\n",
              "        text-align: right;\n",
              "    }\n",
              "</style>\n",
              "<table border=\"1\" class=\"dataframe\">\n",
              "  <thead>\n",
              "    <tr style=\"text-align: right;\">\n",
              "      <th></th>\n",
              "      <th>Commit Message</th>\n",
              "      <th>Author Name</th>\n",
              "      <th>Author Email</th>\n",
              "      <th>Updated at</th>\n",
              "      <th>Files Changed</th>\n",
              "      <th>Branch</th>\n",
              "      <th>Contributor</th>\n",
              "      <th>All Checks Passed</th>\n",
              "      <th>Additions commit</th>\n",
              "    </tr>\n",
              "  </thead>\n",
              "  <tbody>\n",
              "    <tr>\n",
              "      <th>0</th>\n",
              "      <td>Initial commit</td>\n",
              "      <td>Christopher Chedeau</td>\n",
              "      <td>vjeuxx@gmail.com</td>\n",
              "      <td>2016-07-15 16:46:37</td>\n",
              "      <td>['LICENSE', 'PATENTS', 'README.md']</td>\n",
              "      <td>NaN</td>\n",
              "      <td>vjeux</td>\n",
              "      <td>True</td>\n",
              "      <td>14</td>\n",
              "    </tr>\n",
              "    <tr>\n",
              "      <th>1</th>\n",
              "      <td>Initial commit with webpack and css/autoprefix...</td>\n",
              "      <td>Christopher Chedeau</td>\n",
              "      <td>vjeux@fb.com</td>\n",
              "      <td>2016-07-15 17:52:45</td>\n",
              "      <td>['.gitignore', 'build/bundle.js', 'cli.js', 'i...</td>\n",
              "      <td>003d9e7b52c3a91cb584b3afd78cd06c539f13be</td>\n",
              "      <td>vjeux</td>\n",
              "      <td>True</td>\n",
              "      <td>56</td>\n",
              "    </tr>\n",
              "    <tr>\n",
              "      <th>2</th>\n",
              "      <td>Add some \"basic\" configuration</td>\n",
              "      <td>Dan Abramov</td>\n",
              "      <td>dan.abramov@gmail.com</td>\n",
              "      <td>2016-07-15 19:07:31</td>\n",
              "      <td>['.babelrc', '.gitignore', 'build/bundle.js', ...</td>\n",
              "      <td>9c72b8137c5769221b1eedcbd88265a432b3caa9</td>\n",
              "      <td>gaearon</td>\n",
              "      <td>True</td>\n",
              "      <td>30</td>\n",
              "    </tr>\n",
              "    <tr>\n",
              "      <th>3</th>\n",
              "      <td>Explain what it is</td>\n",
              "      <td>Dan Abramov</td>\n",
              "      <td>dan.abramov@gmail.com</td>\n",
              "      <td>2016-07-15 19:08:21</td>\n",
              "      <td>['README.md']</td>\n",
              "      <td>86fa5b3f78013787b4f6801b989edb700feaaec7</td>\n",
              "      <td>gaearon</td>\n",
              "      <td>True</td>\n",
              "      <td>18</td>\n",
              "    </tr>\n",
              "    <tr>\n",
              "      <th>4</th>\n",
              "      <td>Add linting and nicer output</td>\n",
              "      <td>Dan Abramov</td>\n",
              "      <td>dan.abramov@gmail.com</td>\n",
              "      <td>2016-07-15 19:58:47</td>\n",
              "      <td>['.eslintrc', 'devServer.js', 'package.json', ...</td>\n",
              "      <td>2badb45121503202bc13a57d2de4236b68493656</td>\n",
              "      <td>gaearon</td>\n",
              "      <td>True</td>\n",
              "      <td>28</td>\n",
              "    </tr>\n",
              "    <tr>\n",
              "      <th>...</th>\n",
              "      <td>...</td>\n",
              "      <td>...</td>\n",
              "      <td>...</td>\n",
              "      <td>...</td>\n",
              "      <td>...</td>\n",
              "      <td>...</td>\n",
              "      <td>...</td>\n",
              "      <td>...</td>\n",
              "      <td>...</td>\n",
              "    </tr>\n",
              "    <tr>\n",
              "      <th>2795</th>\n",
              "      <td>Merge pull request #12539 from liam-mulhall/pa...</td>\n",
              "      <td>Chaoshuai Lü</td>\n",
              "      <td>matrush@qq.com</td>\n",
              "      <td>2022-07-05 18:48:07</td>\n",
              "      <td>['docusaurus/docs/adding-a-router.md']</td>\n",
              "      <td>c2cbaaf006e9ba70888565ed33b4990985f5fc44</td>\n",
              "      <td>matrush</td>\n",
              "      <td>False</td>\n",
              "      <td>89</td>\n",
              "    </tr>\n",
              "    <tr>\n",
              "      <th>2796</th>\n",
              "      <td>Merge pull request #12531 from MoshiulRabbi/pa...</td>\n",
              "      <td>Chaoshuai Lü</td>\n",
              "      <td>matrush@qq.com</td>\n",
              "      <td>2022-07-05 18:48:30</td>\n",
              "      <td>['docusaurus/docs/deployment.md']</td>\n",
              "      <td>bcff1928dac6f9d708613dff5eac36c2834bc139</td>\n",
              "      <td>matrush</td>\n",
              "      <td>False</td>\n",
              "      <td>85</td>\n",
              "    </tr>\n",
              "    <tr>\n",
              "      <th>2797</th>\n",
              "      <td>Merge pull request #12537 from pawelskowronek/...</td>\n",
              "      <td>Chaoshuai Lü</td>\n",
              "      <td>matrush@qq.com</td>\n",
              "      <td>2022-07-05 18:49:51</td>\n",
              "      <td>['docusaurus/docs/adding-typescript.md']</td>\n",
              "      <td>a45ee3b091b3a7c7151a98ebaf5ec460eda7d614</td>\n",
              "      <td>matrush</td>\n",
              "      <td>False</td>\n",
              "      <td>107</td>\n",
              "    </tr>\n",
              "    <tr>\n",
              "      <th>2798</th>\n",
              "      <td>Merge pull request #12558 from danielrentz/pat...</td>\n",
              "      <td>Chaoshuai Lü</td>\n",
              "      <td>matrush@qq.com</td>\n",
              "      <td>2022-07-05 18:52:20</td>\n",
              "      <td>['docusaurus/docs/setting-up-your-editor.md']</td>\n",
              "      <td>c378572024967fee15d97da1b6fbfcd2894b4b66</td>\n",
              "      <td>matrush</td>\n",
              "      <td>False</td>\n",
              "      <td>85</td>\n",
              "    </tr>\n",
              "    <tr>\n",
              "      <th>2799</th>\n",
              "      <td>docs: fix link of \"Building for Relative Paths...</td>\n",
              "      <td>ryan.c</td>\n",
              "      <td>jackblackevo@gmail.com</td>\n",
              "      <td>2022-09-08 07:40:47</td>\n",
              "      <td>['docusaurus/docs/advanced-configuration.md']</td>\n",
              "      <td>f34d88e30c7d8be7181f728d1abc4fd8d5cd07d3</td>\n",
              "      <td>jackblackevo</td>\n",
              "      <td>True</td>\n",
              "      <td>56</td>\n",
              "    </tr>\n",
              "  </tbody>\n",
              "</table>\n",
              "<p>2800 rows × 9 columns</p>\n",
              "</div>\n",
              "      <button class=\"colab-df-convert\" onclick=\"convertToInteractive('df-f9d080a7-7d9e-4e74-a2a4-2925a2d69a89')\"\n",
              "              title=\"Convert this dataframe to an interactive table.\"\n",
              "              style=\"display:none;\">\n",
              "        \n",
              "  <svg xmlns=\"http://www.w3.org/2000/svg\" height=\"24px\"viewBox=\"0 0 24 24\"\n",
              "       width=\"24px\">\n",
              "    <path d=\"M0 0h24v24H0V0z\" fill=\"none\"/>\n",
              "    <path d=\"M18.56 5.44l.94 2.06.94-2.06 2.06-.94-2.06-.94-.94-2.06-.94 2.06-2.06.94zm-11 1L8.5 8.5l.94-2.06 2.06-.94-2.06-.94L8.5 2.5l-.94 2.06-2.06.94zm10 10l.94 2.06.94-2.06 2.06-.94-2.06-.94-.94-2.06-.94 2.06-2.06.94z\"/><path d=\"M17.41 7.96l-1.37-1.37c-.4-.4-.92-.59-1.43-.59-.52 0-1.04.2-1.43.59L10.3 9.45l-7.72 7.72c-.78.78-.78 2.05 0 2.83L4 21.41c.39.39.9.59 1.41.59.51 0 1.02-.2 1.41-.59l7.78-7.78 2.81-2.81c.8-.78.8-2.07 0-2.86zM5.41 20L4 18.59l7.72-7.72 1.47 1.35L5.41 20z\"/>\n",
              "  </svg>\n",
              "      </button>\n",
              "      \n",
              "  <style>\n",
              "    .colab-df-container {\n",
              "      display:flex;\n",
              "      flex-wrap:wrap;\n",
              "      gap: 12px;\n",
              "    }\n",
              "\n",
              "    .colab-df-convert {\n",
              "      background-color: #E8F0FE;\n",
              "      border: none;\n",
              "      border-radius: 50%;\n",
              "      cursor: pointer;\n",
              "      display: none;\n",
              "      fill: #1967D2;\n",
              "      height: 32px;\n",
              "      padding: 0 0 0 0;\n",
              "      width: 32px;\n",
              "    }\n",
              "\n",
              "    .colab-df-convert:hover {\n",
              "      background-color: #E2EBFA;\n",
              "      box-shadow: 0px 1px 2px rgba(60, 64, 67, 0.3), 0px 1px 3px 1px rgba(60, 64, 67, 0.15);\n",
              "      fill: #174EA6;\n",
              "    }\n",
              "\n",
              "    [theme=dark] .colab-df-convert {\n",
              "      background-color: #3B4455;\n",
              "      fill: #D2E3FC;\n",
              "    }\n",
              "\n",
              "    [theme=dark] .colab-df-convert:hover {\n",
              "      background-color: #434B5C;\n",
              "      box-shadow: 0px 1px 3px 1px rgba(0, 0, 0, 0.15);\n",
              "      filter: drop-shadow(0px 1px 2px rgba(0, 0, 0, 0.3));\n",
              "      fill: #FFFFFF;\n",
              "    }\n",
              "  </style>\n",
              "\n",
              "      <script>\n",
              "        const buttonEl =\n",
              "          document.querySelector('#df-f9d080a7-7d9e-4e74-a2a4-2925a2d69a89 button.colab-df-convert');\n",
              "        buttonEl.style.display =\n",
              "          google.colab.kernel.accessAllowed ? 'block' : 'none';\n",
              "\n",
              "        async function convertToInteractive(key) {\n",
              "          const element = document.querySelector('#df-f9d080a7-7d9e-4e74-a2a4-2925a2d69a89');\n",
              "          const dataTable =\n",
              "            await google.colab.kernel.invokeFunction('convertToInteractive',\n",
              "                                                     [key], {});\n",
              "          if (!dataTable) return;\n",
              "\n",
              "          const docLinkHtml = 'Like what you see? Visit the ' +\n",
              "            '<a target=\"_blank\" href=https://colab.research.google.com/notebooks/data_table.ipynb>data table notebook</a>'\n",
              "            + ' to learn more about interactive tables.';\n",
              "          element.innerHTML = '';\n",
              "          dataTable['output_type'] = 'display_data';\n",
              "          await google.colab.output.renderOutput(dataTable, element);\n",
              "          const docLink = document.createElement('div');\n",
              "          docLink.innerHTML = docLinkHtml;\n",
              "          element.appendChild(docLink);\n",
              "        }\n",
              "      </script>\n",
              "    </div>\n",
              "  </div>\n",
              "  "
            ]
          },
          "metadata": {},
          "execution_count": 155
        }
      ]
    },
    {
      "cell_type": "code",
      "source": [
        "df['Files Changed'].unique()"
      ],
      "metadata": {
        "id": "V2jjlE1d22RM",
        "colab": {
          "base_uri": "https://localhost:8080/"
        },
        "outputId": "32f2759d-b49b-48f1-fd04-3c46751b6750"
      },
      "execution_count": 156,
      "outputs": [
        {
          "output_type": "execute_result",
          "data": {
            "text/plain": [
              "array([\"['LICENSE', 'PATENTS', 'README.md']\",\n",
              "       \"['.gitignore', 'build/bundle.js', 'cli.js', 'index.css', 'index.html', 'index.js', 'package.json', 'webpack.config.js']\",\n",
              "       \"['.babelrc', '.gitignore', 'build/bundle.js', 'devServer.js', 'index.css', 'index.js', 'package.json', 'src/App.css', 'src/App.js', 'src/index.js', 'webpack.config.dev.js', 'webpack.config.js', 'webpack.config.prod.js']\",\n",
              "       ...,\n",
              "       \"['packages/cra-template-typescript/package.json', 'packages/cra-template/package.json', 'packages/create-react-app/package.json', 'packages/eslint-config-react-app/package.json', 'packages/react-dev-utils/package.json', 'packages/react-error-overlay/package.json', 'packages/react-scripts/package.json']\",\n",
              "       \"['.eslintignore', '.eslintrc.json', '.github/workflows/build.yml', '.github/workflows/lint.yml', '.gitignore', '.prettierignore', 'docusaurus/docs/adding-typescript.md', 'docusaurus/docs/advanced-configuration.md', 'docusaurus/docs/loading-graphql-files.md', 'docusaurus/docs/proxying-api-requests-in-development.md', 'docusaurus/website/docusaurus.config.js', 'docusaurus/website/src/css/custom.css', 'docusaurus/website/src/pages/index.js', 'package-lock.json', 'package.json', 'packages/babel-plugin-named-asset-import/index.test.js', 'packages/react-dev-utils/ModuleScopePlugin.js', 'packages/react-dev-utils/evalSourceMapMiddleware.js', 'packages/react-dev-utils/getProcessForPort.js', 'packages/react-dev-utils/launchEditor.js', 'packages/react-dev-utils/redirectServedPathMiddleware.js', 'packages/react-error-overlay/.eslintrc', 'packages/react-error-overlay/build.js', 'packages/react-error-overlay/package.json', 'packages/react-error-overlay/src/__tests__/get-source-map.js', 'packages/react-error-overlay/src/containers/StackFrame.js', 'packages/react-error-overlay/src/index.js', 'packages/react-error-overlay/src/listenToRuntimeErrors.js', 'packages/react-error-overlay/src/utils/dom/css.js', 'packages/react-error-overlay/src/utils/parser.js', 'packages/react-error-overlay/src/utils/unmapper.js', 'packages/react-scripts/fixtures/kitchensink/template/integration/env.test.js', 'packages/react-scripts/fixtures/kitchensink/template/integration/initDOM.js', 'packages/react-scripts/fixtures/kitchensink/template/integration/webpack.test.js', 'packages/react-scripts/fixtures/kitchensink/template/jest.integration.config.js', 'packages/react-scripts/fixtures/kitchensink/template/jest.transform.js', 'packages/react-scripts/fixtures/kitchensink/template/src/App.js', 'packages/react-scripts/fixtures/kitchensink/template/src/features/webpack/LinkedModules.test.js', 'packages/react-scripts/fixtures/kitchensink/template/src/features/webpack/assets/scss-styles.scss', 'packages/react-scripts/lib/react-app.d.ts', 'packages/react-scripts/scripts/eject.js', 'tasks/e2e-simple.sh', 'tasks/screencast.js', 'test/fixtures/__shared__/test-setup.js', 'test/fixtures/__shared__/util/scripts.js', 'test/fixtures/__shared__/util/setup.js', 'test/fixtures/boostrap-sass/index.test.js', 'test/fixtures/builds-with-multiple-runtimes/index.test.js', 'test/fixtures/global-scss-asset-resolution/index.test.js', 'test/fixtures/global-scss-asset-resolution/src/index.scss', 'test/fixtures/issue-5176-flow-class-properties/index.test.js', 'test/fixtures/issue-5947-not-typescript/index.test.js', 'test/fixtures/jsconfig/index.test.js', 'test/fixtures/mjs-support/index.test.js', 'test/fixtures/relative-paths/index.test.js', 'test/fixtures/typescript-advanced/index.test.js', 'test/fixtures/typescript-advanced/src/App.tsx', 'test/fixtures/typescript-typecheck/index.test.js', 'test/fixtures/typescript/index.test.js', 'test/fixtures/typescript/src/App.ts', 'test/fixtures/webpack-message-formatting/index.test.js']\",\n",
              "       \"['.eslintignore', '.eslintrc.json', '.github/CODEOWNERS', '.github/ISSUE_TEMPLATE/bug_report.md', '.github/workflows/build.yml', '.github/workflows/integration.yml', '.github/workflows/lint.yml', '.gitignore', '.prettierignore', 'CHANGELOG-0.x.md', 'CHANGELOG-1.x.md', 'CHANGELOG-2.x.md', 'CHANGELOG-3.x.md', 'CHANGELOG-4.x.md', 'CHANGELOG.md', 'CONTRIBUTING.md', 'README.md', 'azure-pipelines-test-job.yml', 'azure-pipelines.yml', 'docusaurus/docs/adding-a-router.md', 'docusaurus/docs/adding-a-sass-stylesheet.md', 'docusaurus/docs/adding-bootstrap.md', 'docusaurus/docs/adding-css-reset.md', 'docusaurus/docs/adding-typescript.md', 'docusaurus/docs/advanced-configuration.md', 'docusaurus/docs/code-splitting.md', 'docusaurus/docs/custom-templates.md', 'docusaurus/docs/deployment.md', 'docusaurus/docs/documentation-intro.md', 'docusaurus/docs/fetching-data-with-ajax-requests.md', 'docusaurus/docs/getting-started.md', 'docusaurus/docs/importing-a-component.md', 'docusaurus/docs/loading-graphql-files.md', 'docusaurus/docs/making-a-progressive-web-app.md', 'docusaurus/docs/proxying-api-requests-in-development.md', 'docusaurus/docs/running-tests.md', 'docusaurus/docs/setting-up-your-editor.md', 'docusaurus/docs/supported-browsers-features.md', 'docusaurus/docs/updating-to-new-releases.md', 'docusaurus/website/README.md', 'docusaurus/website/docusaurus.config.js', 'docusaurus/website/package.json', 'docusaurus/website/src/css/custom.css', 'docusaurus/website/src/pages/index.js', 'docusaurus/website/yarn.lock', 'netlify.toml', 'package-lock.json', 'package.json', 'packages/babel-plugin-named-asset-import/index.test.js', 'packages/babel-plugin-named-asset-import/package.json', 'packages/babel-preset-react-app/README.md', 'packages/babel-preset-react-app/create.js', 'packages/babel-preset-react-app/package.json', 'packages/confusing-browser-globals/README.md', 'packages/confusing-browser-globals/package.json', 'packages/cra-template-typescript/package.json', 'packages/cra-template-typescript/template.json', 'packages/cra-template-typescript/template/src/index.tsx', 'packages/cra-template/package.json', 'packages/cra-template/template.json', 'packages/cra-template/template/README.md', 'packages/cra-template/template/src/index.js', 'packages/create-react-app/__tests__/getTemplateInstallPackage.test.js', 'packages/create-react-app/createReactApp.js', 'packages/create-react-app/index.js', 'packages/create-react-app/package.json', 'packages/create-react-app/yarn.lock.cached', 'packages/eslint-config-react-app/README.md', 'packages/eslint-config-react-app/base.js', 'packages/eslint-config-react-app/index.js', 'packages/eslint-config-react-app/jest.js', 'packages/eslint-config-react-app/package.json', 'packages/react-app-polyfill/package.json', 'packages/react-dev-utils/ForkTsCheckerWarningWebpackPlugin.js', 'packages/react-dev-utils/ModuleNotFoundPlugin.js', 'packages/react-dev-utils/ModuleScopePlugin.js', 'packages/react-dev-utils/README.md', 'packages/react-dev-utils/WatchMissingNodeModulesPlugin.js', 'packages/react-dev-utils/WebpackDevServerUtils.js', 'packages/react-dev-utils/__tests__/getCSSModuleLocalIdent.test.js', 'packages/react-dev-utils/evalSourceMapMiddleware.js', 'packages/react-dev-utils/formatWebpackMessages.js', 'packages/react-dev-utils/getProcessForPort.js', 'packages/react-dev-utils/launchEditor.js', 'packages/react-dev-utils/noopServiceWorkerMiddleware.js', 'packages/react-dev-utils/openBrowser.js', 'packages/react-dev-utils/package.json', 'packages/react-dev-utils/redirectServedPathMiddleware.js', 'packages/react-dev-utils/typescriptFormatter.js', 'packages/react-dev-utils/webpackHotDevClient.js', 'packages/react-error-overlay/.eslintrc', 'packages/react-error-overlay/build.js', 'packages/react-error-overlay/package.json', 'packages/react-error-overlay/src/__tests__/get-source-map.js', 'packages/react-error-overlay/src/containers/StackFrame.js', 'packages/react-error-overlay/src/index.js', 'packages/react-error-overlay/src/listenToRuntimeErrors.js', 'packages/react-error-overlay/src/utils/dom/css.js', 'packages/react-error-overlay/src/utils/generateAnsiHTML.js', 'packages/react-error-overlay/src/utils/parser.js', 'packages/react-error-overlay/src/utils/unmapper.js', 'packages/react-error-overlay/webpack.config.js', 'packages/react-scripts/config/env.js', 'packages/react-scripts/config/jest/babelTransform.js', 'packages/react-scripts/config/paths.js', 'packages/react-scripts/config/pnpTs.js', 'packages/react-scripts/config/webpack.config.js', 'packages/react-scripts/config/webpack/persistentCache/createEnvironmentHash.js', 'packages/react-scripts/config/webpackDevServer.config.js', 'packages/react-scripts/fixtures/kitchensink/template.json', 'packages/react-scripts/fixtures/kitchensink/template/README.md', 'packages/react-scripts/fixtures/kitchensink/template/integration/env.test.js', 'packages/react-scripts/fixtures/kitchensink/template/integration/initDOM.js', 'packages/react-scripts/fixtures/kitchensink/template/integration/webpack.test.js', 'packages/react-scripts/fixtures/kitchensink/template/jest.integration.config.js', 'packages/react-scripts/fixtures/kitchensink/template/jest.transform.js', 'packages/react-scripts/fixtures/kitchensink/template/src/App.js', 'packages/react-scripts/fixtures/kitchensink/template/src/features/webpack/JsonInclusion.js', 'packages/react-scripts/fixtures/kitchensink/template/src/features/webpack/LinkedModules.test.js', 'packages/react-scripts/fixtures/kitchensink/template/src/features/webpack/assets/scss-styles.scss', 'packages/react-scripts/lib/react-app.d.ts', 'packages/react-scripts/package.json', 'packages/react-scripts/scripts/build.js', 'packages/react-scripts/scripts/eject.js', 'packages/react-scripts/scripts/init.js', 'packages/react-scripts/scripts/start.js', 'packages/react-scripts/scripts/test.js', 'packages/react-scripts/scripts/utils/createJestConfig.js', 'packages/react-scripts/scripts/utils/verifyPackageTree.js', 'packages/react-scripts/scripts/utils/verifyTypeScriptSetup.js', 'packages/react-scripts/template-typescript/README.md', 'packages/react-scripts/template/README.md', 'tasks/compile-lockfile.js', 'tasks/cra.js', 'tasks/e2e-behavior.sh', 'tasks/e2e-installs.sh', 'tasks/e2e-kitchensink-eject.sh', 'tasks/e2e-kitchensink.sh', 'tasks/e2e-simple.sh', 'tasks/local-test.sh', 'tasks/publish.sh', 'tasks/screencast-start.js', 'tasks/screencast.js', 'test/README.md', 'test/fixtures/__shared__/test-setup.js', 'test/fixtures/__shared__/util/scripts.js', 'test/fixtures/__shared__/util/setup.js', 'test/fixtures/boostrap-sass/.disable-pnp', 'test/fixtures/boostrap-sass/index.test.js', 'test/fixtures/boostrap-sass/package.json', 'test/fixtures/builds-with-multiple-runtimes/index.test.js', 'test/fixtures/builds-with-multiple-runtimes/package.json', 'test/fixtures/global-scss-asset-resolution/.disable-pnp', 'test/fixtures/global-scss-asset-resolution/index.test.js', 'test/fixtures/global-scss-asset-resolution/package.json', 'test/fixtures/global-scss-asset-resolution/src/index.scss', 'test/fixtures/issue-5176-flow-class-properties/index.test.js', 'test/fixtures/issue-5947-not-typescript/index.test.js', 'test/fixtures/jsconfig/.disable-pnp', 'test/fixtures/jsconfig/index.test.js', 'test/fixtures/mjs-support/index.test.js', 'test/fixtures/mjs-support/package.json', 'test/fixtures/relative-paths/index.test.js', 'test/fixtures/typescript-advanced/.disable-pnp', 'test/fixtures/typescript-advanced/index.test.js', 'test/fixtures/typescript-advanced/src/App.tsx', 'test/fixtures/typescript-typecheck/.disable-pnp', 'test/fixtures/typescript-typecheck/index.test.js', 'test/fixtures/typescript/.disable-pnp', 'test/fixtures/typescript/index.test.js', 'test/fixtures/typescript/src/App.ts', 'test/fixtures/webpack-message-formatting/.disable-pnp', 'test/fixtures/webpack-message-formatting/index.test.js', 'test/integration/create-react-app/index.test.js']\"],\n",
              "      dtype=object)"
            ]
          },
          "metadata": {},
          "execution_count": 156
        }
      ]
    },
    {
      "cell_type": "markdown",
      "source": [
        "**Create a Files Changed Count Column**"
      ],
      "metadata": {
        "id": "0CwMXkSStrE7"
      }
    },
    {
      "cell_type": "code",
      "source": [
        "df['Files Changed'] = df['Files Changed'].apply(ast.literal_eval)\n",
        "df['Files Changed Count'] = df['Files Changed'].apply(lambda x: len(x) if isinstance(x, list) else 0)\n",
        "df\n"
      ],
      "metadata": {
        "colab": {
          "base_uri": "https://localhost:8080/",
          "height": 870
        },
        "id": "lQFQKQivqt7P",
        "outputId": "65b8d282-12d1-4978-c86e-59c17a7bacc9"
      },
      "execution_count": 157,
      "outputs": [
        {
          "output_type": "execute_result",
          "data": {
            "text/plain": [
              "                                         Commit Message          Author Name  \\\n",
              "0                                        Initial commit  Christopher Chedeau   \n",
              "1     Initial commit with webpack and css/autoprefix...  Christopher Chedeau   \n",
              "2                        Add some \"basic\" configuration          Dan Abramov   \n",
              "3                                    Explain what it is          Dan Abramov   \n",
              "4                          Add linting and nicer output          Dan Abramov   \n",
              "...                                                 ...                  ...   \n",
              "2795  Merge pull request #12539 from liam-mulhall/pa...         Chaoshuai Lü   \n",
              "2796  Merge pull request #12531 from MoshiulRabbi/pa...         Chaoshuai Lü   \n",
              "2797  Merge pull request #12537 from pawelskowronek/...         Chaoshuai Lü   \n",
              "2798  Merge pull request #12558 from danielrentz/pat...         Chaoshuai Lü   \n",
              "2799  docs: fix link of \"Building for Relative Paths...               ryan.c   \n",
              "\n",
              "                Author Email          Updated at  \\\n",
              "0           vjeuxx@gmail.com 2016-07-15 16:46:37   \n",
              "1               vjeux@fb.com 2016-07-15 17:52:45   \n",
              "2      dan.abramov@gmail.com 2016-07-15 19:07:31   \n",
              "3      dan.abramov@gmail.com 2016-07-15 19:08:21   \n",
              "4      dan.abramov@gmail.com 2016-07-15 19:58:47   \n",
              "...                      ...                 ...   \n",
              "2795          matrush@qq.com 2022-07-05 18:48:07   \n",
              "2796          matrush@qq.com 2022-07-05 18:48:30   \n",
              "2797          matrush@qq.com 2022-07-05 18:49:51   \n",
              "2798          matrush@qq.com 2022-07-05 18:52:20   \n",
              "2799  jackblackevo@gmail.com 2022-09-08 07:40:47   \n",
              "\n",
              "                                          Files Changed  \\\n",
              "0                         [LICENSE, PATENTS, README.md]   \n",
              "1     [.gitignore, build/bundle.js, cli.js, index.cs...   \n",
              "2     [.babelrc, .gitignore, build/bundle.js, devSer...   \n",
              "3                                           [README.md]   \n",
              "4     [.eslintrc, devServer.js, package.json, src/Ap...   \n",
              "...                                                 ...   \n",
              "2795               [docusaurus/docs/adding-a-router.md]   \n",
              "2796                    [docusaurus/docs/deployment.md]   \n",
              "2797             [docusaurus/docs/adding-typescript.md]   \n",
              "2798        [docusaurus/docs/setting-up-your-editor.md]   \n",
              "2799        [docusaurus/docs/advanced-configuration.md]   \n",
              "\n",
              "                                        Branch   Contributor  \\\n",
              "0                                          NaN         vjeux   \n",
              "1     003d9e7b52c3a91cb584b3afd78cd06c539f13be         vjeux   \n",
              "2     9c72b8137c5769221b1eedcbd88265a432b3caa9       gaearon   \n",
              "3     86fa5b3f78013787b4f6801b989edb700feaaec7       gaearon   \n",
              "4     2badb45121503202bc13a57d2de4236b68493656       gaearon   \n",
              "...                                        ...           ...   \n",
              "2795  c2cbaaf006e9ba70888565ed33b4990985f5fc44       matrush   \n",
              "2796  bcff1928dac6f9d708613dff5eac36c2834bc139       matrush   \n",
              "2797  a45ee3b091b3a7c7151a98ebaf5ec460eda7d614       matrush   \n",
              "2798  c378572024967fee15d97da1b6fbfcd2894b4b66       matrush   \n",
              "2799  f34d88e30c7d8be7181f728d1abc4fd8d5cd07d3  jackblackevo   \n",
              "\n",
              "      All Checks Passed  Additions commit  Files Changed Count  \n",
              "0                  True                14                    3  \n",
              "1                  True                56                    8  \n",
              "2                  True                30                   13  \n",
              "3                  True                18                    1  \n",
              "4                  True                28                    6  \n",
              "...                 ...               ...                  ...  \n",
              "2795              False                89                    1  \n",
              "2796              False                85                    1  \n",
              "2797              False               107                    1  \n",
              "2798              False                85                    1  \n",
              "2799               True                56                    1  \n",
              "\n",
              "[2800 rows x 10 columns]"
            ],
            "text/html": [
              "\n",
              "  <div id=\"df-148bbb59-7017-448f-989c-c9a6ad0580c0\">\n",
              "    <div class=\"colab-df-container\">\n",
              "      <div>\n",
              "<style scoped>\n",
              "    .dataframe tbody tr th:only-of-type {\n",
              "        vertical-align: middle;\n",
              "    }\n",
              "\n",
              "    .dataframe tbody tr th {\n",
              "        vertical-align: top;\n",
              "    }\n",
              "\n",
              "    .dataframe thead th {\n",
              "        text-align: right;\n",
              "    }\n",
              "</style>\n",
              "<table border=\"1\" class=\"dataframe\">\n",
              "  <thead>\n",
              "    <tr style=\"text-align: right;\">\n",
              "      <th></th>\n",
              "      <th>Commit Message</th>\n",
              "      <th>Author Name</th>\n",
              "      <th>Author Email</th>\n",
              "      <th>Updated at</th>\n",
              "      <th>Files Changed</th>\n",
              "      <th>Branch</th>\n",
              "      <th>Contributor</th>\n",
              "      <th>All Checks Passed</th>\n",
              "      <th>Additions commit</th>\n",
              "      <th>Files Changed Count</th>\n",
              "    </tr>\n",
              "  </thead>\n",
              "  <tbody>\n",
              "    <tr>\n",
              "      <th>0</th>\n",
              "      <td>Initial commit</td>\n",
              "      <td>Christopher Chedeau</td>\n",
              "      <td>vjeuxx@gmail.com</td>\n",
              "      <td>2016-07-15 16:46:37</td>\n",
              "      <td>[LICENSE, PATENTS, README.md]</td>\n",
              "      <td>NaN</td>\n",
              "      <td>vjeux</td>\n",
              "      <td>True</td>\n",
              "      <td>14</td>\n",
              "      <td>3</td>\n",
              "    </tr>\n",
              "    <tr>\n",
              "      <th>1</th>\n",
              "      <td>Initial commit with webpack and css/autoprefix...</td>\n",
              "      <td>Christopher Chedeau</td>\n",
              "      <td>vjeux@fb.com</td>\n",
              "      <td>2016-07-15 17:52:45</td>\n",
              "      <td>[.gitignore, build/bundle.js, cli.js, index.cs...</td>\n",
              "      <td>003d9e7b52c3a91cb584b3afd78cd06c539f13be</td>\n",
              "      <td>vjeux</td>\n",
              "      <td>True</td>\n",
              "      <td>56</td>\n",
              "      <td>8</td>\n",
              "    </tr>\n",
              "    <tr>\n",
              "      <th>2</th>\n",
              "      <td>Add some \"basic\" configuration</td>\n",
              "      <td>Dan Abramov</td>\n",
              "      <td>dan.abramov@gmail.com</td>\n",
              "      <td>2016-07-15 19:07:31</td>\n",
              "      <td>[.babelrc, .gitignore, build/bundle.js, devSer...</td>\n",
              "      <td>9c72b8137c5769221b1eedcbd88265a432b3caa9</td>\n",
              "      <td>gaearon</td>\n",
              "      <td>True</td>\n",
              "      <td>30</td>\n",
              "      <td>13</td>\n",
              "    </tr>\n",
              "    <tr>\n",
              "      <th>3</th>\n",
              "      <td>Explain what it is</td>\n",
              "      <td>Dan Abramov</td>\n",
              "      <td>dan.abramov@gmail.com</td>\n",
              "      <td>2016-07-15 19:08:21</td>\n",
              "      <td>[README.md]</td>\n",
              "      <td>86fa5b3f78013787b4f6801b989edb700feaaec7</td>\n",
              "      <td>gaearon</td>\n",
              "      <td>True</td>\n",
              "      <td>18</td>\n",
              "      <td>1</td>\n",
              "    </tr>\n",
              "    <tr>\n",
              "      <th>4</th>\n",
              "      <td>Add linting and nicer output</td>\n",
              "      <td>Dan Abramov</td>\n",
              "      <td>dan.abramov@gmail.com</td>\n",
              "      <td>2016-07-15 19:58:47</td>\n",
              "      <td>[.eslintrc, devServer.js, package.json, src/Ap...</td>\n",
              "      <td>2badb45121503202bc13a57d2de4236b68493656</td>\n",
              "      <td>gaearon</td>\n",
              "      <td>True</td>\n",
              "      <td>28</td>\n",
              "      <td>6</td>\n",
              "    </tr>\n",
              "    <tr>\n",
              "      <th>...</th>\n",
              "      <td>...</td>\n",
              "      <td>...</td>\n",
              "      <td>...</td>\n",
              "      <td>...</td>\n",
              "      <td>...</td>\n",
              "      <td>...</td>\n",
              "      <td>...</td>\n",
              "      <td>...</td>\n",
              "      <td>...</td>\n",
              "      <td>...</td>\n",
              "    </tr>\n",
              "    <tr>\n",
              "      <th>2795</th>\n",
              "      <td>Merge pull request #12539 from liam-mulhall/pa...</td>\n",
              "      <td>Chaoshuai Lü</td>\n",
              "      <td>matrush@qq.com</td>\n",
              "      <td>2022-07-05 18:48:07</td>\n",
              "      <td>[docusaurus/docs/adding-a-router.md]</td>\n",
              "      <td>c2cbaaf006e9ba70888565ed33b4990985f5fc44</td>\n",
              "      <td>matrush</td>\n",
              "      <td>False</td>\n",
              "      <td>89</td>\n",
              "      <td>1</td>\n",
              "    </tr>\n",
              "    <tr>\n",
              "      <th>2796</th>\n",
              "      <td>Merge pull request #12531 from MoshiulRabbi/pa...</td>\n",
              "      <td>Chaoshuai Lü</td>\n",
              "      <td>matrush@qq.com</td>\n",
              "      <td>2022-07-05 18:48:30</td>\n",
              "      <td>[docusaurus/docs/deployment.md]</td>\n",
              "      <td>bcff1928dac6f9d708613dff5eac36c2834bc139</td>\n",
              "      <td>matrush</td>\n",
              "      <td>False</td>\n",
              "      <td>85</td>\n",
              "      <td>1</td>\n",
              "    </tr>\n",
              "    <tr>\n",
              "      <th>2797</th>\n",
              "      <td>Merge pull request #12537 from pawelskowronek/...</td>\n",
              "      <td>Chaoshuai Lü</td>\n",
              "      <td>matrush@qq.com</td>\n",
              "      <td>2022-07-05 18:49:51</td>\n",
              "      <td>[docusaurus/docs/adding-typescript.md]</td>\n",
              "      <td>a45ee3b091b3a7c7151a98ebaf5ec460eda7d614</td>\n",
              "      <td>matrush</td>\n",
              "      <td>False</td>\n",
              "      <td>107</td>\n",
              "      <td>1</td>\n",
              "    </tr>\n",
              "    <tr>\n",
              "      <th>2798</th>\n",
              "      <td>Merge pull request #12558 from danielrentz/pat...</td>\n",
              "      <td>Chaoshuai Lü</td>\n",
              "      <td>matrush@qq.com</td>\n",
              "      <td>2022-07-05 18:52:20</td>\n",
              "      <td>[docusaurus/docs/setting-up-your-editor.md]</td>\n",
              "      <td>c378572024967fee15d97da1b6fbfcd2894b4b66</td>\n",
              "      <td>matrush</td>\n",
              "      <td>False</td>\n",
              "      <td>85</td>\n",
              "      <td>1</td>\n",
              "    </tr>\n",
              "    <tr>\n",
              "      <th>2799</th>\n",
              "      <td>docs: fix link of \"Building for Relative Paths...</td>\n",
              "      <td>ryan.c</td>\n",
              "      <td>jackblackevo@gmail.com</td>\n",
              "      <td>2022-09-08 07:40:47</td>\n",
              "      <td>[docusaurus/docs/advanced-configuration.md]</td>\n",
              "      <td>f34d88e30c7d8be7181f728d1abc4fd8d5cd07d3</td>\n",
              "      <td>jackblackevo</td>\n",
              "      <td>True</td>\n",
              "      <td>56</td>\n",
              "      <td>1</td>\n",
              "    </tr>\n",
              "  </tbody>\n",
              "</table>\n",
              "<p>2800 rows × 10 columns</p>\n",
              "</div>\n",
              "      <button class=\"colab-df-convert\" onclick=\"convertToInteractive('df-148bbb59-7017-448f-989c-c9a6ad0580c0')\"\n",
              "              title=\"Convert this dataframe to an interactive table.\"\n",
              "              style=\"display:none;\">\n",
              "        \n",
              "  <svg xmlns=\"http://www.w3.org/2000/svg\" height=\"24px\"viewBox=\"0 0 24 24\"\n",
              "       width=\"24px\">\n",
              "    <path d=\"M0 0h24v24H0V0z\" fill=\"none\"/>\n",
              "    <path d=\"M18.56 5.44l.94 2.06.94-2.06 2.06-.94-2.06-.94-.94-2.06-.94 2.06-2.06.94zm-11 1L8.5 8.5l.94-2.06 2.06-.94-2.06-.94L8.5 2.5l-.94 2.06-2.06.94zm10 10l.94 2.06.94-2.06 2.06-.94-2.06-.94-.94-2.06-.94 2.06-2.06.94z\"/><path d=\"M17.41 7.96l-1.37-1.37c-.4-.4-.92-.59-1.43-.59-.52 0-1.04.2-1.43.59L10.3 9.45l-7.72 7.72c-.78.78-.78 2.05 0 2.83L4 21.41c.39.39.9.59 1.41.59.51 0 1.02-.2 1.41-.59l7.78-7.78 2.81-2.81c.8-.78.8-2.07 0-2.86zM5.41 20L4 18.59l7.72-7.72 1.47 1.35L5.41 20z\"/>\n",
              "  </svg>\n",
              "      </button>\n",
              "      \n",
              "  <style>\n",
              "    .colab-df-container {\n",
              "      display:flex;\n",
              "      flex-wrap:wrap;\n",
              "      gap: 12px;\n",
              "    }\n",
              "\n",
              "    .colab-df-convert {\n",
              "      background-color: #E8F0FE;\n",
              "      border: none;\n",
              "      border-radius: 50%;\n",
              "      cursor: pointer;\n",
              "      display: none;\n",
              "      fill: #1967D2;\n",
              "      height: 32px;\n",
              "      padding: 0 0 0 0;\n",
              "      width: 32px;\n",
              "    }\n",
              "\n",
              "    .colab-df-convert:hover {\n",
              "      background-color: #E2EBFA;\n",
              "      box-shadow: 0px 1px 2px rgba(60, 64, 67, 0.3), 0px 1px 3px 1px rgba(60, 64, 67, 0.15);\n",
              "      fill: #174EA6;\n",
              "    }\n",
              "\n",
              "    [theme=dark] .colab-df-convert {\n",
              "      background-color: #3B4455;\n",
              "      fill: #D2E3FC;\n",
              "    }\n",
              "\n",
              "    [theme=dark] .colab-df-convert:hover {\n",
              "      background-color: #434B5C;\n",
              "      box-shadow: 0px 1px 3px 1px rgba(0, 0, 0, 0.15);\n",
              "      filter: drop-shadow(0px 1px 2px rgba(0, 0, 0, 0.3));\n",
              "      fill: #FFFFFF;\n",
              "    }\n",
              "  </style>\n",
              "\n",
              "      <script>\n",
              "        const buttonEl =\n",
              "          document.querySelector('#df-148bbb59-7017-448f-989c-c9a6ad0580c0 button.colab-df-convert');\n",
              "        buttonEl.style.display =\n",
              "          google.colab.kernel.accessAllowed ? 'block' : 'none';\n",
              "\n",
              "        async function convertToInteractive(key) {\n",
              "          const element = document.querySelector('#df-148bbb59-7017-448f-989c-c9a6ad0580c0');\n",
              "          const dataTable =\n",
              "            await google.colab.kernel.invokeFunction('convertToInteractive',\n",
              "                                                     [key], {});\n",
              "          if (!dataTable) return;\n",
              "\n",
              "          const docLinkHtml = 'Like what you see? Visit the ' +\n",
              "            '<a target=\"_blank\" href=https://colab.research.google.com/notebooks/data_table.ipynb>data table notebook</a>'\n",
              "            + ' to learn more about interactive tables.';\n",
              "          element.innerHTML = '';\n",
              "          dataTable['output_type'] = 'display_data';\n",
              "          await google.colab.output.renderOutput(dataTable, element);\n",
              "          const docLink = document.createElement('div');\n",
              "          docLink.innerHTML = docLinkHtml;\n",
              "          element.appendChild(docLink);\n",
              "        }\n",
              "      </script>\n",
              "    </div>\n",
              "  </div>\n",
              "  "
            ]
          },
          "metadata": {},
          "execution_count": 157
        }
      ]
    },
    {
      "cell_type": "markdown",
      "source": [
        "# Data Analyst"
      ],
      "metadata": {
        "id": "7aIbn4KK0MHR"
      }
    },
    {
      "cell_type": "markdown",
      "source": [
        "**Top 5 longest Commit Message**"
      ],
      "metadata": {
        "id": "XvwTjbuYtq5s"
      }
    },
    {
      "cell_type": "code",
      "source": [
        "sorted_df = df.sort_values('Additions commit', ascending=False)\n",
        "sorted_df.head(5)"
      ],
      "metadata": {
        "colab": {
          "base_uri": "https://localhost:8080/",
          "height": 635
        },
        "id": "1Eut2LsIt5HE",
        "outputId": "7a439d8a-a73f-49b4-b1c9-050f02a41fc3"
      },
      "execution_count": 158,
      "outputs": [
        {
          "output_type": "execute_result",
          "data": {
            "text/plain": [
              "                                         Commit Message     Author Name  \\\n",
              "805   Add runtime error overlay (#1101)\\n\\n* Add red...      Joe Haddad   \n",
              "2454  Remove React.FC from Typescript template (#817...          Retsam   \n",
              "1449  Add support for yarn and lerna monorepos. (#37...  bradfordlemley   \n",
              "549   add logging of existing default port process o...     Ian McNally   \n",
              "2071  Speed up TypeScript projects (#5903)\\n\\nAs a l...     Tomáš Szabo   \n",
              "\n",
              "                         Author Email          Updated at  \\\n",
              "805                timer150@gmail.com 2017-03-07 02:59:57   \n",
              "2454  Retsam@users.noreply.github.com 2020-01-22 21:32:49   \n",
              "1449         bradfordlemley@gmail.com 2018-02-01 20:58:18   \n",
              "549              ianmcnally@gmail.com 2016-11-22 20:44:21   \n",
              "2071         tomas.szabo@deftomat.com 2019-02-08 03:34:52   \n",
              "\n",
              "                                          Files Changed  \\\n",
              "805   [packages/react-dev-utils/ansiHTML.js, package...   \n",
              "2454  [packages/cra-template-typescript/template/src...   \n",
              "1449  [.travis.yml, appveyor.yml, packages/react-scr...   \n",
              "549   [packages/react-dev-utils/README.md, packages/...   \n",
              "2071  [packages/react-dev-utils/WebpackDevServerUtil...   \n",
              "\n",
              "                                        Branch     Contributor  \\\n",
              "805   24f38f86460357472b7511c233e6188c3de6a4ae           Timer   \n",
              "2454  a608c5affcba3902fcce891e53563a07ff59c28d          Retsam   \n",
              "1449  5348d6eecf208a6298e48072314157804282002e  bradfordlemley   \n",
              "549   9c45b25281d966d3122cf89862f01d83b0912195      ianmcnally   \n",
              "2071  1deb811c5d91ac6d337d2fd4e4f36c7d8c352ebd        deftomat   \n",
              "\n",
              "      All Checks Passed  Additions commit  Files Changed Count  \n",
              "805                True              4585                    5  \n",
              "2454               True              4027                    1  \n",
              "1449               True              2190                   33  \n",
              "549                True              1934                    4  \n",
              "2071               True              1685                   11  "
            ],
            "text/html": [
              "\n",
              "  <div id=\"df-040c5339-fc05-4272-93c5-1d2e47908a12\">\n",
              "    <div class=\"colab-df-container\">\n",
              "      <div>\n",
              "<style scoped>\n",
              "    .dataframe tbody tr th:only-of-type {\n",
              "        vertical-align: middle;\n",
              "    }\n",
              "\n",
              "    .dataframe tbody tr th {\n",
              "        vertical-align: top;\n",
              "    }\n",
              "\n",
              "    .dataframe thead th {\n",
              "        text-align: right;\n",
              "    }\n",
              "</style>\n",
              "<table border=\"1\" class=\"dataframe\">\n",
              "  <thead>\n",
              "    <tr style=\"text-align: right;\">\n",
              "      <th></th>\n",
              "      <th>Commit Message</th>\n",
              "      <th>Author Name</th>\n",
              "      <th>Author Email</th>\n",
              "      <th>Updated at</th>\n",
              "      <th>Files Changed</th>\n",
              "      <th>Branch</th>\n",
              "      <th>Contributor</th>\n",
              "      <th>All Checks Passed</th>\n",
              "      <th>Additions commit</th>\n",
              "      <th>Files Changed Count</th>\n",
              "    </tr>\n",
              "  </thead>\n",
              "  <tbody>\n",
              "    <tr>\n",
              "      <th>805</th>\n",
              "      <td>Add runtime error overlay (#1101)\\n\\n* Add red...</td>\n",
              "      <td>Joe Haddad</td>\n",
              "      <td>timer150@gmail.com</td>\n",
              "      <td>2017-03-07 02:59:57</td>\n",
              "      <td>[packages/react-dev-utils/ansiHTML.js, package...</td>\n",
              "      <td>24f38f86460357472b7511c233e6188c3de6a4ae</td>\n",
              "      <td>Timer</td>\n",
              "      <td>True</td>\n",
              "      <td>4585</td>\n",
              "      <td>5</td>\n",
              "    </tr>\n",
              "    <tr>\n",
              "      <th>2454</th>\n",
              "      <td>Remove React.FC from Typescript template (#817...</td>\n",
              "      <td>Retsam</td>\n",
              "      <td>Retsam@users.noreply.github.com</td>\n",
              "      <td>2020-01-22 21:32:49</td>\n",
              "      <td>[packages/cra-template-typescript/template/src...</td>\n",
              "      <td>a608c5affcba3902fcce891e53563a07ff59c28d</td>\n",
              "      <td>Retsam</td>\n",
              "      <td>True</td>\n",
              "      <td>4027</td>\n",
              "      <td>1</td>\n",
              "    </tr>\n",
              "    <tr>\n",
              "      <th>1449</th>\n",
              "      <td>Add support for yarn and lerna monorepos. (#37...</td>\n",
              "      <td>bradfordlemley</td>\n",
              "      <td>bradfordlemley@gmail.com</td>\n",
              "      <td>2018-02-01 20:58:18</td>\n",
              "      <td>[.travis.yml, appveyor.yml, packages/react-scr...</td>\n",
              "      <td>5348d6eecf208a6298e48072314157804282002e</td>\n",
              "      <td>bradfordlemley</td>\n",
              "      <td>True</td>\n",
              "      <td>2190</td>\n",
              "      <td>33</td>\n",
              "    </tr>\n",
              "    <tr>\n",
              "      <th>549</th>\n",
              "      <td>add logging of existing default port process o...</td>\n",
              "      <td>Ian McNally</td>\n",
              "      <td>ianmcnally@gmail.com</td>\n",
              "      <td>2016-11-22 20:44:21</td>\n",
              "      <td>[packages/react-dev-utils/README.md, packages/...</td>\n",
              "      <td>9c45b25281d966d3122cf89862f01d83b0912195</td>\n",
              "      <td>ianmcnally</td>\n",
              "      <td>True</td>\n",
              "      <td>1934</td>\n",
              "      <td>4</td>\n",
              "    </tr>\n",
              "    <tr>\n",
              "      <th>2071</th>\n",
              "      <td>Speed up TypeScript projects (#5903)\\n\\nAs a l...</td>\n",
              "      <td>Tomáš Szabo</td>\n",
              "      <td>tomas.szabo@deftomat.com</td>\n",
              "      <td>2019-02-08 03:34:52</td>\n",
              "      <td>[packages/react-dev-utils/WebpackDevServerUtil...</td>\n",
              "      <td>1deb811c5d91ac6d337d2fd4e4f36c7d8c352ebd</td>\n",
              "      <td>deftomat</td>\n",
              "      <td>True</td>\n",
              "      <td>1685</td>\n",
              "      <td>11</td>\n",
              "    </tr>\n",
              "  </tbody>\n",
              "</table>\n",
              "</div>\n",
              "      <button class=\"colab-df-convert\" onclick=\"convertToInteractive('df-040c5339-fc05-4272-93c5-1d2e47908a12')\"\n",
              "              title=\"Convert this dataframe to an interactive table.\"\n",
              "              style=\"display:none;\">\n",
              "        \n",
              "  <svg xmlns=\"http://www.w3.org/2000/svg\" height=\"24px\"viewBox=\"0 0 24 24\"\n",
              "       width=\"24px\">\n",
              "    <path d=\"M0 0h24v24H0V0z\" fill=\"none\"/>\n",
              "    <path d=\"M18.56 5.44l.94 2.06.94-2.06 2.06-.94-2.06-.94-.94-2.06-.94 2.06-2.06.94zm-11 1L8.5 8.5l.94-2.06 2.06-.94-2.06-.94L8.5 2.5l-.94 2.06-2.06.94zm10 10l.94 2.06.94-2.06 2.06-.94-2.06-.94-.94-2.06-.94 2.06-2.06.94z\"/><path d=\"M17.41 7.96l-1.37-1.37c-.4-.4-.92-.59-1.43-.59-.52 0-1.04.2-1.43.59L10.3 9.45l-7.72 7.72c-.78.78-.78 2.05 0 2.83L4 21.41c.39.39.9.59 1.41.59.51 0 1.02-.2 1.41-.59l7.78-7.78 2.81-2.81c.8-.78.8-2.07 0-2.86zM5.41 20L4 18.59l7.72-7.72 1.47 1.35L5.41 20z\"/>\n",
              "  </svg>\n",
              "      </button>\n",
              "      \n",
              "  <style>\n",
              "    .colab-df-container {\n",
              "      display:flex;\n",
              "      flex-wrap:wrap;\n",
              "      gap: 12px;\n",
              "    }\n",
              "\n",
              "    .colab-df-convert {\n",
              "      background-color: #E8F0FE;\n",
              "      border: none;\n",
              "      border-radius: 50%;\n",
              "      cursor: pointer;\n",
              "      display: none;\n",
              "      fill: #1967D2;\n",
              "      height: 32px;\n",
              "      padding: 0 0 0 0;\n",
              "      width: 32px;\n",
              "    }\n",
              "\n",
              "    .colab-df-convert:hover {\n",
              "      background-color: #E2EBFA;\n",
              "      box-shadow: 0px 1px 2px rgba(60, 64, 67, 0.3), 0px 1px 3px 1px rgba(60, 64, 67, 0.15);\n",
              "      fill: #174EA6;\n",
              "    }\n",
              "\n",
              "    [theme=dark] .colab-df-convert {\n",
              "      background-color: #3B4455;\n",
              "      fill: #D2E3FC;\n",
              "    }\n",
              "\n",
              "    [theme=dark] .colab-df-convert:hover {\n",
              "      background-color: #434B5C;\n",
              "      box-shadow: 0px 1px 3px 1px rgba(0, 0, 0, 0.15);\n",
              "      filter: drop-shadow(0px 1px 2px rgba(0, 0, 0, 0.3));\n",
              "      fill: #FFFFFF;\n",
              "    }\n",
              "  </style>\n",
              "\n",
              "      <script>\n",
              "        const buttonEl =\n",
              "          document.querySelector('#df-040c5339-fc05-4272-93c5-1d2e47908a12 button.colab-df-convert');\n",
              "        buttonEl.style.display =\n",
              "          google.colab.kernel.accessAllowed ? 'block' : 'none';\n",
              "\n",
              "        async function convertToInteractive(key) {\n",
              "          const element = document.querySelector('#df-040c5339-fc05-4272-93c5-1d2e47908a12');\n",
              "          const dataTable =\n",
              "            await google.colab.kernel.invokeFunction('convertToInteractive',\n",
              "                                                     [key], {});\n",
              "          if (!dataTable) return;\n",
              "\n",
              "          const docLinkHtml = 'Like what you see? Visit the ' +\n",
              "            '<a target=\"_blank\" href=https://colab.research.google.com/notebooks/data_table.ipynb>data table notebook</a>'\n",
              "            + ' to learn more about interactive tables.';\n",
              "          element.innerHTML = '';\n",
              "          dataTable['output_type'] = 'display_data';\n",
              "          await google.colab.output.renderOutput(dataTable, element);\n",
              "          const docLink = document.createElement('div');\n",
              "          docLink.innerHTML = docLinkHtml;\n",
              "          element.appendChild(docLink);\n",
              "        }\n",
              "      </script>\n",
              "    </div>\n",
              "  </div>\n",
              "  "
            ]
          },
          "metadata": {},
          "execution_count": 158
        }
      ]
    },
    {
      "cell_type": "markdown",
      "source": [
        "**Top 5 most commiting people**"
      ],
      "metadata": {
        "id": "9a-io2sk04XH"
      }
    },
    {
      "cell_type": "code",
      "source": [
        "df['Author Name'].value_counts().head(5)"
      ],
      "metadata": {
        "colab": {
          "base_uri": "https://localhost:8080/"
        },
        "id": "FCMRyLXPgnxR",
        "outputId": "1ea02816-f732-453a-c4c0-72ff6f97325c"
      },
      "execution_count": 159,
      "outputs": [
        {
          "output_type": "execute_result",
          "data": {
            "text/plain": [
              "Dan Abramov          650\n",
              "Joe Haddad           293\n",
              "Ian Sutherland       153\n",
              "Kristofer Selbekk     91\n",
              "Ian Schmitz           85\n",
              "Name: Author Name, dtype: int64"
            ]
          },
          "metadata": {},
          "execution_count": 159
        }
      ]
    },
    {
      "cell_type": "markdown",
      "source": [
        "**Top 5 most active contributors**"
      ],
      "metadata": {
        "id": "7ulWFzgZf2lf"
      }
    },
    {
      "cell_type": "code",
      "source": [
        "contributors = df['Contributor'].value_counts()\n",
        "contributors.head(5)"
      ],
      "metadata": {
        "colab": {
          "base_uri": "https://localhost:8080/"
        },
        "id": "H-kEGmUMf11z",
        "outputId": "4f0cc53f-71fd-4318-a0b3-2c4177b479b4"
      },
      "execution_count": 160,
      "outputs": [
        {
          "output_type": "execute_result",
          "data": {
            "text/plain": [
              "gaearon       655\n",
              "Timer         293\n",
              "iansu         153\n",
              "ianschmitz     85\n",
              "selbekk        77\n",
              "Name: Contributor, dtype: int64"
            ]
          },
          "metadata": {},
          "execution_count": 160
        }
      ]
    },
    {
      "cell_type": "markdown",
      "source": [
        "**Top 5 most popular type of email**"
      ],
      "metadata": {
        "id": "M0Np0uiz0w7V"
      }
    },
    {
      "cell_type": "code",
      "source": [
        "df[\"Email Type\"] = df[\"Author Email\"].str.extract(r'@(\\w+\\.\\w+)')\n",
        "email_type_counts = df['Email Type'].value_counts()\n",
        "email_type_counts.head(5)"
      ],
      "metadata": {
        "colab": {
          "base_uri": "https://localhost:8080/"
        },
        "id": "-pricuYFhjK0",
        "outputId": "a79bc16f-2ad4-436e-cd75-587b1168adac"
      },
      "execution_count": 161,
      "outputs": [
        {
          "output_type": "execute_result",
          "data": {
            "text/plain": [
              "gmail.com           1767\n",
              "users.noreply        308\n",
              "iansutherland.ca     153\n",
              "fb.com                62\n",
              "iki.fi                51\n",
              "Name: Email Type, dtype: int64"
            ]
          },
          "metadata": {},
          "execution_count": 161
        }
      ]
    },
    {
      "cell_type": "markdown",
      "source": [
        "**Top 5 Author Email make the most commit**"
      ],
      "metadata": {
        "id": "BjA5iSWiiVNk"
      }
    },
    {
      "cell_type": "code",
      "source": [
        "top_5_emails = df['Author Email'].value_counts().head(5)\n",
        "top_5_authors = df[df['Author Email'].isin(top_5_emails.index)]['Author Name'].unique()\n",
        "top_5_contributors = pd.DataFrame({'Author Email': top_5_emails.index, 'Commits': top_5_emails.values})\n",
        "top_5_contributors['Author Name'] = top_5_contributors['Author Email'].map(dict(zip(top_5_emails.index, top_5_authors)))\n",
        "top_5_contributors"
      ],
      "metadata": {
        "colab": {
          "base_uri": "https://localhost:8080/",
          "height": 206
        },
        "id": "jXCwSTXt0gcD",
        "outputId": "152dfdcb-0fb1-4df6-f3ca-46504d005b6c"
      },
      "execution_count": 162,
      "outputs": [
        {
          "output_type": "execute_result",
          "data": {
            "text/plain": [
              "            Author Email  Commits     Author Name\n",
              "0  dan.abramov@gmail.com      635     Dan Abramov\n",
              "1     timer150@gmail.com      292      Joe Haddad\n",
              "2   ian@iansutherland.ca      153     Ian Schmitz\n",
              "3   ianschmitz@gmail.com       85  Ian Sutherland\n",
              "4     selbeezy@gmail.com       65             Dan"
            ],
            "text/html": [
              "\n",
              "  <div id=\"df-2b8c2401-01d0-42e2-9dff-6d2487ca617c\">\n",
              "    <div class=\"colab-df-container\">\n",
              "      <div>\n",
              "<style scoped>\n",
              "    .dataframe tbody tr th:only-of-type {\n",
              "        vertical-align: middle;\n",
              "    }\n",
              "\n",
              "    .dataframe tbody tr th {\n",
              "        vertical-align: top;\n",
              "    }\n",
              "\n",
              "    .dataframe thead th {\n",
              "        text-align: right;\n",
              "    }\n",
              "</style>\n",
              "<table border=\"1\" class=\"dataframe\">\n",
              "  <thead>\n",
              "    <tr style=\"text-align: right;\">\n",
              "      <th></th>\n",
              "      <th>Author Email</th>\n",
              "      <th>Commits</th>\n",
              "      <th>Author Name</th>\n",
              "    </tr>\n",
              "  </thead>\n",
              "  <tbody>\n",
              "    <tr>\n",
              "      <th>0</th>\n",
              "      <td>dan.abramov@gmail.com</td>\n",
              "      <td>635</td>\n",
              "      <td>Dan Abramov</td>\n",
              "    </tr>\n",
              "    <tr>\n",
              "      <th>1</th>\n",
              "      <td>timer150@gmail.com</td>\n",
              "      <td>292</td>\n",
              "      <td>Joe Haddad</td>\n",
              "    </tr>\n",
              "    <tr>\n",
              "      <th>2</th>\n",
              "      <td>ian@iansutherland.ca</td>\n",
              "      <td>153</td>\n",
              "      <td>Ian Schmitz</td>\n",
              "    </tr>\n",
              "    <tr>\n",
              "      <th>3</th>\n",
              "      <td>ianschmitz@gmail.com</td>\n",
              "      <td>85</td>\n",
              "      <td>Ian Sutherland</td>\n",
              "    </tr>\n",
              "    <tr>\n",
              "      <th>4</th>\n",
              "      <td>selbeezy@gmail.com</td>\n",
              "      <td>65</td>\n",
              "      <td>Dan</td>\n",
              "    </tr>\n",
              "  </tbody>\n",
              "</table>\n",
              "</div>\n",
              "      <button class=\"colab-df-convert\" onclick=\"convertToInteractive('df-2b8c2401-01d0-42e2-9dff-6d2487ca617c')\"\n",
              "              title=\"Convert this dataframe to an interactive table.\"\n",
              "              style=\"display:none;\">\n",
              "        \n",
              "  <svg xmlns=\"http://www.w3.org/2000/svg\" height=\"24px\"viewBox=\"0 0 24 24\"\n",
              "       width=\"24px\">\n",
              "    <path d=\"M0 0h24v24H0V0z\" fill=\"none\"/>\n",
              "    <path d=\"M18.56 5.44l.94 2.06.94-2.06 2.06-.94-2.06-.94-.94-2.06-.94 2.06-2.06.94zm-11 1L8.5 8.5l.94-2.06 2.06-.94-2.06-.94L8.5 2.5l-.94 2.06-2.06.94zm10 10l.94 2.06.94-2.06 2.06-.94-2.06-.94-.94-2.06-.94 2.06-2.06.94z\"/><path d=\"M17.41 7.96l-1.37-1.37c-.4-.4-.92-.59-1.43-.59-.52 0-1.04.2-1.43.59L10.3 9.45l-7.72 7.72c-.78.78-.78 2.05 0 2.83L4 21.41c.39.39.9.59 1.41.59.51 0 1.02-.2 1.41-.59l7.78-7.78 2.81-2.81c.8-.78.8-2.07 0-2.86zM5.41 20L4 18.59l7.72-7.72 1.47 1.35L5.41 20z\"/>\n",
              "  </svg>\n",
              "      </button>\n",
              "      \n",
              "  <style>\n",
              "    .colab-df-container {\n",
              "      display:flex;\n",
              "      flex-wrap:wrap;\n",
              "      gap: 12px;\n",
              "    }\n",
              "\n",
              "    .colab-df-convert {\n",
              "      background-color: #E8F0FE;\n",
              "      border: none;\n",
              "      border-radius: 50%;\n",
              "      cursor: pointer;\n",
              "      display: none;\n",
              "      fill: #1967D2;\n",
              "      height: 32px;\n",
              "      padding: 0 0 0 0;\n",
              "      width: 32px;\n",
              "    }\n",
              "\n",
              "    .colab-df-convert:hover {\n",
              "      background-color: #E2EBFA;\n",
              "      box-shadow: 0px 1px 2px rgba(60, 64, 67, 0.3), 0px 1px 3px 1px rgba(60, 64, 67, 0.15);\n",
              "      fill: #174EA6;\n",
              "    }\n",
              "\n",
              "    [theme=dark] .colab-df-convert {\n",
              "      background-color: #3B4455;\n",
              "      fill: #D2E3FC;\n",
              "    }\n",
              "\n",
              "    [theme=dark] .colab-df-convert:hover {\n",
              "      background-color: #434B5C;\n",
              "      box-shadow: 0px 1px 3px 1px rgba(0, 0, 0, 0.15);\n",
              "      filter: drop-shadow(0px 1px 2px rgba(0, 0, 0, 0.3));\n",
              "      fill: #FFFFFF;\n",
              "    }\n",
              "  </style>\n",
              "\n",
              "      <script>\n",
              "        const buttonEl =\n",
              "          document.querySelector('#df-2b8c2401-01d0-42e2-9dff-6d2487ca617c button.colab-df-convert');\n",
              "        buttonEl.style.display =\n",
              "          google.colab.kernel.accessAllowed ? 'block' : 'none';\n",
              "\n",
              "        async function convertToInteractive(key) {\n",
              "          const element = document.querySelector('#df-2b8c2401-01d0-42e2-9dff-6d2487ca617c');\n",
              "          const dataTable =\n",
              "            await google.colab.kernel.invokeFunction('convertToInteractive',\n",
              "                                                     [key], {});\n",
              "          if (!dataTable) return;\n",
              "\n",
              "          const docLinkHtml = 'Like what you see? Visit the ' +\n",
              "            '<a target=\"_blank\" href=https://colab.research.google.com/notebooks/data_table.ipynb>data table notebook</a>'\n",
              "            + ' to learn more about interactive tables.';\n",
              "          element.innerHTML = '';\n",
              "          dataTable['output_type'] = 'display_data';\n",
              "          await google.colab.output.renderOutput(dataTable, element);\n",
              "          const docLink = document.createElement('div');\n",
              "          docLink.innerHTML = docLinkHtml;\n",
              "          element.appendChild(docLink);\n",
              "        }\n",
              "      </script>\n",
              "    </div>\n",
              "  </div>\n",
              "  "
            ]
          },
          "metadata": {},
          "execution_count": 162
        }
      ]
    },
    {
      "cell_type": "markdown",
      "source": [
        "**Find the most commons word in commit messages**"
      ],
      "metadata": {
        "id": "WF_5Z8b_ojHC"
      }
    },
    {
      "cell_type": "code",
      "source": [
        "from nltk.corpus import stopwords\n",
        "from collections import Counter\n",
        "commit_messages = ' '.join(df['Commit Message'].astype(str).values)\n",
        "tokens = nltk.word_tokenize(commit_messages)\n",
        "stop_words = set(stopwords.words('english'))\n",
        "filtered_tokens = [word.lower() for word in tokens if word.lower() not in stop_words and word.isalpha()]\n",
        "word_frequency = Counter(filtered_tokens)\n",
        "most_common_word = word_frequency.most_common()\n",
        "print (\"The most commons word in commit messages : \" + most_common_word[0][0])\n",
        "print (\"Frequency : \" + str(most_common_word[0][1]))"
      ],
      "metadata": {
        "colab": {
          "base_uri": "https://localhost:8080/"
        },
        "id": "Ejv_cHhEoyhk",
        "outputId": "9c51e27f-0d41-4755-d44e-288b00251195"
      },
      "execution_count": 163,
      "outputs": [
        {
          "output_type": "stream",
          "name": "stdout",
          "text": [
            "The most commons word in commit messages : add\n",
            "Frequency : 855\n"
          ]
        }
      ]
    },
    {
      "cell_type": "code",
      "source": [
        "word_frequency.most_common(5)"
      ],
      "metadata": {
        "colab": {
          "base_uri": "https://localhost:8080/"
        },
        "id": "Ji64xxPWsKVS",
        "outputId": "745077db-72de-4cde-f21c-7bcf8671caed"
      },
      "execution_count": 164,
      "outputs": [
        {
          "output_type": "execute_result",
          "data": {
            "text/plain": [
              "[('add', 855), ('update', 751), ('fix', 583), ('remove', 303), ('use', 300)]"
            ]
          },
          "metadata": {},
          "execution_count": 164
        }
      ]
    },
    {
      "cell_type": "markdown",
      "source": [
        "**Find the file that changes the most times**"
      ],
      "metadata": {
        "id": "ZNynGXI0xixM"
      }
    },
    {
      "cell_type": "code",
      "source": [
        "df_exploded = df.explode('Files Changed')\n",
        "\n",
        "file_counts = df_exploded['Files Changed'].value_counts()\n",
        "\n",
        "most_changed_file = file_counts.idxmax()\n",
        "file_change_frequency = file_counts.max()\n",
        "\n",
        "print(\"Most changed file:\", most_changed_file)\n",
        "print(\"Frequency:\", file_change_frequency)"
      ],
      "metadata": {
        "colab": {
          "base_uri": "https://localhost:8080/"
        },
        "id": "iti-CqNdtVmw",
        "outputId": "15b6afa3-309f-42a8-ad91-c72d3485f256"
      },
      "execution_count": 165,
      "outputs": [
        {
          "output_type": "stream",
          "name": "stdout",
          "text": [
            "Most changed file: packages/react-scripts/package.json\n",
            "Frequency: 392\n"
          ]
        }
      ]
    },
    {
      "cell_type": "markdown",
      "source": [
        "**The frequency of commits**"
      ],
      "metadata": {
        "id": "DXsr3JrNs1Nw"
      }
    },
    {
      "cell_type": "markdown",
      "source": [
        "Calculate the frequency of commits by days"
      ],
      "metadata": {
        "id": "3wmlK0wT7lbY"
      }
    },
    {
      "cell_type": "code",
      "source": [
        "df.set_index('Updated at', inplace = True)\n",
        "commit_frequency_days = df.resample('D').size()\n",
        "commit_frequency_days"
      ],
      "metadata": {
        "id": "FCP9gehcxJ9S",
        "colab": {
          "base_uri": "https://localhost:8080/"
        },
        "outputId": "cc0e50f8-75b3-4786-8d5a-e42df2833106"
      },
      "execution_count": 166,
      "outputs": [
        {
          "output_type": "execute_result",
          "data": {
            "text/plain": [
              "Updated at\n",
              "2016-07-15    13\n",
              "2016-07-16     4\n",
              "2016-07-17    27\n",
              "2016-07-18    18\n",
              "2016-07-19     7\n",
              "              ..\n",
              "2022-09-04     0\n",
              "2022-09-05     0\n",
              "2022-09-06     0\n",
              "2022-09-07     0\n",
              "2022-09-08     1\n",
              "Freq: D, Length: 2247, dtype: int64"
            ]
          },
          "metadata": {},
          "execution_count": 166
        }
      ]
    },
    {
      "cell_type": "code",
      "source": [
        "commit_frequency_days.sort_values()"
      ],
      "metadata": {
        "colab": {
          "base_uri": "https://localhost:8080/"
        },
        "id": "Hyn5g8BR5KpB",
        "outputId": "cef84ea0-0234-4907-af0c-077a85a51b27"
      },
      "execution_count": 167,
      "outputs": [
        {
          "output_type": "execute_result",
          "data": {
            "text/plain": [
              "Updated at\n",
              "2021-11-30     0\n",
              "2021-09-16     0\n",
              "2021-09-17     0\n",
              "2021-09-18     0\n",
              "2021-09-19     0\n",
              "              ..\n",
              "2018-01-08    29\n",
              "2016-09-23    31\n",
              "2017-05-19    32\n",
              "2018-10-01    35\n",
              "2018-10-07    54\n",
              "Length: 2247, dtype: int64"
            ]
          },
          "metadata": {},
          "execution_count": 167
        }
      ]
    },
    {
      "cell_type": "markdown",
      "source": [
        "Calculate the frequency of commits by weeks"
      ],
      "metadata": {
        "id": "BUMPDS-9724d"
      }
    },
    {
      "cell_type": "code",
      "source": [
        "commit_frequency_weeks = df.resample('W').size()\n",
        "commit_frequency_weeks.sort_values()"
      ],
      "metadata": {
        "colab": {
          "base_uri": "https://localhost:8080/"
        },
        "id": "VlEd-zfA7wKO",
        "outputId": "d1b8d4df-fcc7-46d2-8a73-c97a323b140a"
      },
      "execution_count": 168,
      "outputs": [
        {
          "output_type": "execute_result",
          "data": {
            "text/plain": [
              "Updated at\n",
              "2022-01-09      0\n",
              "2018-09-09      0\n",
              "2018-09-16      0\n",
              "2022-04-03      0\n",
              "2021-01-31      0\n",
              "             ... \n",
              "2018-09-30     71\n",
              "2017-05-21    105\n",
              "2018-01-14    107\n",
              "2016-07-24    113\n",
              "2018-10-07    134\n",
              "Length: 322, dtype: int64"
            ]
          },
          "metadata": {},
          "execution_count": 168
        }
      ]
    },
    {
      "cell_type": "markdown",
      "source": [
        "Calculate the frequency of commits by months"
      ],
      "metadata": {
        "id": "ijxpZtEN8uFw"
      }
    },
    {
      "cell_type": "code",
      "source": [
        "commit_frequency_months = df.resample('M').size()\n",
        "commit_frequency_months.sort_values()"
      ],
      "metadata": {
        "colab": {
          "base_uri": "https://localhost:8080/"
        },
        "id": "Obb9Dc9z8hkU",
        "outputId": "8ee2d4c3-983d-4175-aa86-f570920cf499"
      },
      "execution_count": 169,
      "outputs": [
        {
          "output_type": "execute_result",
          "data": {
            "text/plain": [
              "Updated at\n",
              "2022-08-31      0\n",
              "2022-09-30      1\n",
              "2022-05-31      1\n",
              "2022-02-28      1\n",
              "2021-01-31      2\n",
              "             ... \n",
              "2016-09-30    163\n",
              "2018-01-31    169\n",
              "2017-05-31    180\n",
              "2016-07-31    221\n",
              "2018-10-31    260\n",
              "Length: 75, dtype: int64"
            ]
          },
          "metadata": {},
          "execution_count": 169
        }
      ]
    },
    {
      "cell_type": "markdown",
      "source": [
        "Calculate the frequency of commits by years"
      ],
      "metadata": {
        "id": "wfeH28fy86NZ"
      }
    },
    {
      "cell_type": "code",
      "source": [
        "commit_frequency_years = df.resample('Y').size()\n",
        "commit_frequency_years.sort_values()"
      ],
      "metadata": {
        "colab": {
          "base_uri": "https://localhost:8080/"
        },
        "id": "vyE-ETO681qF",
        "outputId": "21c7832e-0d4a-4e96-f5e2-7808caa7aee5"
      },
      "execution_count": 170,
      "outputs": [
        {
          "output_type": "execute_result",
          "data": {
            "text/plain": [
              "Updated at\n",
              "2022-12-31     50\n",
              "2021-12-31     91\n",
              "2020-12-31    209\n",
              "2019-12-31    412\n",
              "2016-12-31    630\n",
              "2017-12-31    650\n",
              "2018-12-31    758\n",
              "dtype: int64"
            ]
          },
          "metadata": {},
          "execution_count": 170
        }
      ]
    },
    {
      "cell_type": "markdown",
      "source": [
        "**Find the individuals who have a high percentage of \"All Checks Passed\"**"
      ],
      "metadata": {
        "id": "7kUWgVhH9Kzg"
      }
    },
    {
      "cell_type": "code",
      "source": [
        "filtered_commit = df.groupby('Author Name').filter(lambda x: len(x) > 10)"
      ],
      "metadata": {
        "id": "ab199RfO9GrW"
      },
      "execution_count": 171,
      "outputs": []
    },
    {
      "cell_type": "code",
      "source": [
        "grouped_commit = filtered_commit.groupby('Author Name').agg({'All Checks Passed': 'mean'})\n",
        "grouped_commit"
      ],
      "metadata": {
        "colab": {
          "base_uri": "https://localhost:8080/",
          "height": 520
        },
        "id": "ZAmNyVWmAaRJ",
        "outputId": "5faab0c4-f5c5-4c90-f382-c4768199948c"
      },
      "execution_count": 172,
      "outputs": [
        {
          "output_type": "execute_result",
          "data": {
            "text/plain": [
              "                         All Checks Passed\n",
              "Author Name                               \n",
              "Ade Viankakrisna Fadlil           1.000000\n",
              "Andreas Cederström                1.000000\n",
              "Brody McKee                       0.857143\n",
              "Chaoshuai Lü                      0.000000\n",
              "Christopher Chedeau               1.000000\n",
              "Dan Abramov                       0.995385\n",
              "Ian Schmitz                       0.988235\n",
              "Ian Sutherland                    0.954248\n",
              "Jack Zhao                         1.000000\n",
              "Jeffrey Posnick                   1.000000\n",
              "Joe Haddad                        1.000000\n",
              "Kristofer Selbekk                 1.000000\n",
              "Michaël De Boey                   1.000000\n",
              "Ville Immonen                     1.000000"
            ],
            "text/html": [
              "\n",
              "  <div id=\"df-4851a1d9-3e87-4fc2-90c9-25630b96b8a9\">\n",
              "    <div class=\"colab-df-container\">\n",
              "      <div>\n",
              "<style scoped>\n",
              "    .dataframe tbody tr th:only-of-type {\n",
              "        vertical-align: middle;\n",
              "    }\n",
              "\n",
              "    .dataframe tbody tr th {\n",
              "        vertical-align: top;\n",
              "    }\n",
              "\n",
              "    .dataframe thead th {\n",
              "        text-align: right;\n",
              "    }\n",
              "</style>\n",
              "<table border=\"1\" class=\"dataframe\">\n",
              "  <thead>\n",
              "    <tr style=\"text-align: right;\">\n",
              "      <th></th>\n",
              "      <th>All Checks Passed</th>\n",
              "    </tr>\n",
              "    <tr>\n",
              "      <th>Author Name</th>\n",
              "      <th></th>\n",
              "    </tr>\n",
              "  </thead>\n",
              "  <tbody>\n",
              "    <tr>\n",
              "      <th>Ade Viankakrisna Fadlil</th>\n",
              "      <td>1.000000</td>\n",
              "    </tr>\n",
              "    <tr>\n",
              "      <th>Andreas Cederström</th>\n",
              "      <td>1.000000</td>\n",
              "    </tr>\n",
              "    <tr>\n",
              "      <th>Brody McKee</th>\n",
              "      <td>0.857143</td>\n",
              "    </tr>\n",
              "    <tr>\n",
              "      <th>Chaoshuai Lü</th>\n",
              "      <td>0.000000</td>\n",
              "    </tr>\n",
              "    <tr>\n",
              "      <th>Christopher Chedeau</th>\n",
              "      <td>1.000000</td>\n",
              "    </tr>\n",
              "    <tr>\n",
              "      <th>Dan Abramov</th>\n",
              "      <td>0.995385</td>\n",
              "    </tr>\n",
              "    <tr>\n",
              "      <th>Ian Schmitz</th>\n",
              "      <td>0.988235</td>\n",
              "    </tr>\n",
              "    <tr>\n",
              "      <th>Ian Sutherland</th>\n",
              "      <td>0.954248</td>\n",
              "    </tr>\n",
              "    <tr>\n",
              "      <th>Jack Zhao</th>\n",
              "      <td>1.000000</td>\n",
              "    </tr>\n",
              "    <tr>\n",
              "      <th>Jeffrey Posnick</th>\n",
              "      <td>1.000000</td>\n",
              "    </tr>\n",
              "    <tr>\n",
              "      <th>Joe Haddad</th>\n",
              "      <td>1.000000</td>\n",
              "    </tr>\n",
              "    <tr>\n",
              "      <th>Kristofer Selbekk</th>\n",
              "      <td>1.000000</td>\n",
              "    </tr>\n",
              "    <tr>\n",
              "      <th>Michaël De Boey</th>\n",
              "      <td>1.000000</td>\n",
              "    </tr>\n",
              "    <tr>\n",
              "      <th>Ville Immonen</th>\n",
              "      <td>1.000000</td>\n",
              "    </tr>\n",
              "  </tbody>\n",
              "</table>\n",
              "</div>\n",
              "      <button class=\"colab-df-convert\" onclick=\"convertToInteractive('df-4851a1d9-3e87-4fc2-90c9-25630b96b8a9')\"\n",
              "              title=\"Convert this dataframe to an interactive table.\"\n",
              "              style=\"display:none;\">\n",
              "        \n",
              "  <svg xmlns=\"http://www.w3.org/2000/svg\" height=\"24px\"viewBox=\"0 0 24 24\"\n",
              "       width=\"24px\">\n",
              "    <path d=\"M0 0h24v24H0V0z\" fill=\"none\"/>\n",
              "    <path d=\"M18.56 5.44l.94 2.06.94-2.06 2.06-.94-2.06-.94-.94-2.06-.94 2.06-2.06.94zm-11 1L8.5 8.5l.94-2.06 2.06-.94-2.06-.94L8.5 2.5l-.94 2.06-2.06.94zm10 10l.94 2.06.94-2.06 2.06-.94-2.06-.94-.94-2.06-.94 2.06-2.06.94z\"/><path d=\"M17.41 7.96l-1.37-1.37c-.4-.4-.92-.59-1.43-.59-.52 0-1.04.2-1.43.59L10.3 9.45l-7.72 7.72c-.78.78-.78 2.05 0 2.83L4 21.41c.39.39.9.59 1.41.59.51 0 1.02-.2 1.41-.59l7.78-7.78 2.81-2.81c.8-.78.8-2.07 0-2.86zM5.41 20L4 18.59l7.72-7.72 1.47 1.35L5.41 20z\"/>\n",
              "  </svg>\n",
              "      </button>\n",
              "      \n",
              "  <style>\n",
              "    .colab-df-container {\n",
              "      display:flex;\n",
              "      flex-wrap:wrap;\n",
              "      gap: 12px;\n",
              "    }\n",
              "\n",
              "    .colab-df-convert {\n",
              "      background-color: #E8F0FE;\n",
              "      border: none;\n",
              "      border-radius: 50%;\n",
              "      cursor: pointer;\n",
              "      display: none;\n",
              "      fill: #1967D2;\n",
              "      height: 32px;\n",
              "      padding: 0 0 0 0;\n",
              "      width: 32px;\n",
              "    }\n",
              "\n",
              "    .colab-df-convert:hover {\n",
              "      background-color: #E2EBFA;\n",
              "      box-shadow: 0px 1px 2px rgba(60, 64, 67, 0.3), 0px 1px 3px 1px rgba(60, 64, 67, 0.15);\n",
              "      fill: #174EA6;\n",
              "    }\n",
              "\n",
              "    [theme=dark] .colab-df-convert {\n",
              "      background-color: #3B4455;\n",
              "      fill: #D2E3FC;\n",
              "    }\n",
              "\n",
              "    [theme=dark] .colab-df-convert:hover {\n",
              "      background-color: #434B5C;\n",
              "      box-shadow: 0px 1px 3px 1px rgba(0, 0, 0, 0.15);\n",
              "      filter: drop-shadow(0px 1px 2px rgba(0, 0, 0, 0.3));\n",
              "      fill: #FFFFFF;\n",
              "    }\n",
              "  </style>\n",
              "\n",
              "      <script>\n",
              "        const buttonEl =\n",
              "          document.querySelector('#df-4851a1d9-3e87-4fc2-90c9-25630b96b8a9 button.colab-df-convert');\n",
              "        buttonEl.style.display =\n",
              "          google.colab.kernel.accessAllowed ? 'block' : 'none';\n",
              "\n",
              "        async function convertToInteractive(key) {\n",
              "          const element = document.querySelector('#df-4851a1d9-3e87-4fc2-90c9-25630b96b8a9');\n",
              "          const dataTable =\n",
              "            await google.colab.kernel.invokeFunction('convertToInteractive',\n",
              "                                                     [key], {});\n",
              "          if (!dataTable) return;\n",
              "\n",
              "          const docLinkHtml = 'Like what you see? Visit the ' +\n",
              "            '<a target=\"_blank\" href=https://colab.research.google.com/notebooks/data_table.ipynb>data table notebook</a>'\n",
              "            + ' to learn more about interactive tables.';\n",
              "          element.innerHTML = '';\n",
              "          dataTable['output_type'] = 'display_data';\n",
              "          await google.colab.output.renderOutput(dataTable, element);\n",
              "          const docLink = document.createElement('div');\n",
              "          docLink.innerHTML = docLinkHtml;\n",
              "          element.appendChild(docLink);\n",
              "        }\n",
              "      </script>\n",
              "    </div>\n",
              "  </div>\n",
              "  "
            ]
          },
          "metadata": {},
          "execution_count": 172
        }
      ]
    },
    {
      "cell_type": "code",
      "source": [
        "filtered_grouped_df = grouped_commit[grouped_commit['All Checks Passed'] > 0.8]"
      ],
      "metadata": {
        "id": "Yc_gMtceEZHC"
      },
      "execution_count": 173,
      "outputs": []
    },
    {
      "cell_type": "code",
      "source": [
        "filtered_grouped_df = filtered_grouped_df.sort_values(by='All Checks Passed', ascending=False)\n",
        "filtered_grouped_df['Commit Count'] = filtered_grouped_df.groupby('Author Name')['Author Name'].transform('count')\n",
        "filtered_grouped_df"
      ],
      "metadata": {
        "colab": {
          "base_uri": "https://localhost:8080/",
          "height": 345
        },
        "id": "KRe42iAEGf_4",
        "outputId": "8b53f4dc-1585-427c-9aad-bb35c94c6751"
      },
      "execution_count": 183,
      "outputs": [
        {
          "output_type": "error",
          "ename": "KeyError",
          "evalue": "ignored",
          "traceback": [
            "\u001b[0;31m---------------------------------------------------------------------------\u001b[0m",
            "\u001b[0;31mKeyError\u001b[0m                                  Traceback (most recent call last)",
            "\u001b[0;32m<ipython-input-183-12f3686c9d8f>\u001b[0m in \u001b[0;36m<cell line: 2>\u001b[0;34m()\u001b[0m\n\u001b[1;32m      1\u001b[0m \u001b[0mfiltered_grouped_df\u001b[0m \u001b[0;34m=\u001b[0m \u001b[0mfiltered_grouped_df\u001b[0m\u001b[0;34m.\u001b[0m\u001b[0msort_values\u001b[0m\u001b[0;34m(\u001b[0m\u001b[0mby\u001b[0m\u001b[0;34m=\u001b[0m\u001b[0;34m'All Checks Passed'\u001b[0m\u001b[0;34m,\u001b[0m \u001b[0mascending\u001b[0m\u001b[0;34m=\u001b[0m\u001b[0;32mFalse\u001b[0m\u001b[0;34m)\u001b[0m\u001b[0;34m\u001b[0m\u001b[0;34m\u001b[0m\u001b[0m\n\u001b[0;32m----> 2\u001b[0;31m \u001b[0mfiltered_grouped_df\u001b[0m\u001b[0;34m[\u001b[0m\u001b[0;34m'Commit Count'\u001b[0m\u001b[0;34m]\u001b[0m \u001b[0;34m=\u001b[0m \u001b[0mfiltered_grouped_df\u001b[0m\u001b[0;34m.\u001b[0m\u001b[0mgroupby\u001b[0m\u001b[0;34m(\u001b[0m\u001b[0;34m'Author Name'\u001b[0m\u001b[0;34m)\u001b[0m\u001b[0;34m[\u001b[0m\u001b[0;34m'Author Name'\u001b[0m\u001b[0;34m]\u001b[0m\u001b[0;34m.\u001b[0m\u001b[0mtransform\u001b[0m\u001b[0;34m(\u001b[0m\u001b[0;34m'count'\u001b[0m\u001b[0;34m)\u001b[0m\u001b[0;34m\u001b[0m\u001b[0;34m\u001b[0m\u001b[0m\n\u001b[0m\u001b[1;32m      3\u001b[0m \u001b[0mfiltered_grouped_df\u001b[0m\u001b[0;34m\u001b[0m\u001b[0;34m\u001b[0m\u001b[0m\n",
            "\u001b[0;32m/usr/local/lib/python3.10/dist-packages/pandas/core/groupby/generic.py\u001b[0m in \u001b[0;36m__getitem__\u001b[0;34m(self, key)\u001b[0m\n\u001b[1;32m   1414\u001b[0m                 \u001b[0mstacklevel\u001b[0m\u001b[0;34m=\u001b[0m\u001b[0mfind_stack_level\u001b[0m\u001b[0;34m(\u001b[0m\u001b[0;34m)\u001b[0m\u001b[0;34m,\u001b[0m\u001b[0;34m\u001b[0m\u001b[0;34m\u001b[0m\u001b[0m\n\u001b[1;32m   1415\u001b[0m             )\n\u001b[0;32m-> 1416\u001b[0;31m         \u001b[0;32mreturn\u001b[0m \u001b[0msuper\u001b[0m\u001b[0;34m(\u001b[0m\u001b[0;34m)\u001b[0m\u001b[0;34m.\u001b[0m\u001b[0m__getitem__\u001b[0m\u001b[0;34m(\u001b[0m\u001b[0mkey\u001b[0m\u001b[0;34m)\u001b[0m\u001b[0;34m\u001b[0m\u001b[0;34m\u001b[0m\u001b[0m\n\u001b[0m\u001b[1;32m   1417\u001b[0m \u001b[0;34m\u001b[0m\u001b[0m\n\u001b[1;32m   1418\u001b[0m     \u001b[0;32mdef\u001b[0m \u001b[0m_gotitem\u001b[0m\u001b[0;34m(\u001b[0m\u001b[0mself\u001b[0m\u001b[0;34m,\u001b[0m \u001b[0mkey\u001b[0m\u001b[0;34m,\u001b[0m \u001b[0mndim\u001b[0m\u001b[0;34m:\u001b[0m \u001b[0mint\u001b[0m\u001b[0;34m,\u001b[0m \u001b[0msubset\u001b[0m\u001b[0;34m=\u001b[0m\u001b[0;32mNone\u001b[0m\u001b[0;34m)\u001b[0m\u001b[0;34m:\u001b[0m\u001b[0;34m\u001b[0m\u001b[0;34m\u001b[0m\u001b[0m\n",
            "\u001b[0;32m/usr/local/lib/python3.10/dist-packages/pandas/core/base.py\u001b[0m in \u001b[0;36m__getitem__\u001b[0;34m(self, key)\u001b[0m\n\u001b[1;32m    246\u001b[0m         \u001b[0;32melse\u001b[0m\u001b[0;34m:\u001b[0m\u001b[0;34m\u001b[0m\u001b[0;34m\u001b[0m\u001b[0m\n\u001b[1;32m    247\u001b[0m             \u001b[0;32mif\u001b[0m \u001b[0mkey\u001b[0m \u001b[0;32mnot\u001b[0m \u001b[0;32min\u001b[0m \u001b[0mself\u001b[0m\u001b[0;34m.\u001b[0m\u001b[0mobj\u001b[0m\u001b[0;34m:\u001b[0m\u001b[0;34m\u001b[0m\u001b[0;34m\u001b[0m\u001b[0m\n\u001b[0;32m--> 248\u001b[0;31m                 \u001b[0;32mraise\u001b[0m \u001b[0mKeyError\u001b[0m\u001b[0;34m(\u001b[0m\u001b[0;34mf\"Column not found: {key}\"\u001b[0m\u001b[0;34m)\u001b[0m\u001b[0;34m\u001b[0m\u001b[0;34m\u001b[0m\u001b[0m\n\u001b[0m\u001b[1;32m    249\u001b[0m             \u001b[0msubset\u001b[0m \u001b[0;34m=\u001b[0m \u001b[0mself\u001b[0m\u001b[0;34m.\u001b[0m\u001b[0mobj\u001b[0m\u001b[0;34m[\u001b[0m\u001b[0mkey\u001b[0m\u001b[0;34m]\u001b[0m\u001b[0;34m\u001b[0m\u001b[0;34m\u001b[0m\u001b[0m\n\u001b[1;32m    250\u001b[0m             \u001b[0mndim\u001b[0m \u001b[0;34m=\u001b[0m \u001b[0msubset\u001b[0m\u001b[0;34m.\u001b[0m\u001b[0mndim\u001b[0m\u001b[0;34m\u001b[0m\u001b[0;34m\u001b[0m\u001b[0m\n",
            "\u001b[0;31mKeyError\u001b[0m: 'Column not found: Author Name'"
          ]
        }
      ]
    },
    {
      "cell_type": "code",
      "source": [
        "      "
      ],
      "metadata": {
        "id": "v493sMMyH-ih"
      },
      "execution_count": null,
      "outputs": []
    }
  ]
}